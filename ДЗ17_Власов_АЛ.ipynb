{
  "nbformat": 4,
  "nbformat_minor": 0,
  "metadata": {
    "colab": {
      "name": "ДЗ17 Власов АЛ.ipynb",
      "provenance": [],
      "toc_visible": true
    },
    "kernelspec": {
      "name": "python3",
      "display_name": "Python 3"
    }
  },
  "cells": [
    {
      "cell_type": "code",
      "metadata": {
        "id": "JjhH48wua_FN"
      },
      "source": [
        "from google.colab import files\n",
        "import numpy as np\n",
        "import pandas as pd\n",
        "import matplotlib.pyplot as plt\n",
        "import os\n",
        "from tensorflow.keras import utils\n",
        "from tensorflow.keras.models import Sequential\n",
        "from tensorflow.keras.layers import Dense, Dropout, BatchNormalization, SpatialDropout1D, Embedding, Flatten, Activation\n",
        "from tensorflow.keras.preprocessing.text import Tokenizer\n",
        "from tensorflow.keras.preprocessing.sequence import pad_sequences\n",
        "from tensorflow.keras.optimizers import Adam\n",
        "\n",
        "from sklearn.preprocessing import LabelEncoder\n",
        "from sklearn.model_selection import train_test_split\n",
        "from google.colab import drive\n",
        "import time\n"
      ],
      "execution_count": null,
      "outputs": []
    },
    {
      "cell_type": "code",
      "metadata": {
        "id": "NCC_WKEtd244",
        "colab": {
          "base_uri": "https://localhost:8080/",
          "height": 34
        },
        "outputId": "29c649e2-1e17-49b7-b6af-775e8050a6ca"
      },
      "source": [
        "drive.mount('/content/drive/')"
      ],
      "execution_count": null,
      "outputs": [
        {
          "output_type": "stream",
          "text": [
            "Drive already mounted at /content/drive/; to attempt to forcibly remount, call drive.mount(\"/content/drive/\", force_remount=True).\n"
          ],
          "name": "stdout"
        }
      ]
    },
    {
      "cell_type": "markdown",
      "metadata": {
        "id": "KwuZRBSaacZK"
      },
      "source": [
        "# Light"
      ]
    },
    {
      "cell_type": "code",
      "metadata": {
        "id": "97LzrwJFd6oS"
      },
      "source": [
        "def readText(fileName):\n",
        "  f = open(fileName, 'r')\n",
        "  text = f.read()\n",
        "  text = text.replace('\\n', ' ')\n",
        "  return text\n",
        "className = [\"О. Генри\", \"Стругацкие\", \"Булгаков\", \"Саймак\", \"Фрай\", \"Брэдберри\"]\n",
        "nClasses = len(className)"
      ],
      "execution_count": null,
      "outputs": []
    },
    {
      "cell_type": "code",
      "metadata": {
        "id": "-Cvxvj1HhhNw",
        "colab": {
          "base_uri": "https://localhost:8080/",
          "height": 221
        },
        "outputId": "16b7004a-6a8c-4530-c96b-55952356b8d6"
      },
      "source": [
        "trainText = []\n",
        "testText = []\n",
        "\n",
        "for i in className:\n",
        "  for j in os.listdir('/content/drive/My Drive/Colab Notebooks/17 Обработка текстов/Писатели/'):\n",
        "    if i in j:\n",
        "      if 'Обучающая' in j:\n",
        "        trainText.append(readText('/content/drive/My Drive/Colab Notebooks/17 Обработка текстов/Писатели/'+j))\n",
        "        print(j, 'добавлен в обучающую выборку')\n",
        "      if 'Тестовая' in j:\n",
        "        testText.append(readText('/content/drive/My Drive/Colab Notebooks/17 Обработка текстов/Писатели/'+j))\n",
        "        print(j, 'добавлен в тестовую выборку')\n"
      ],
      "execution_count": null,
      "outputs": [
        {
          "output_type": "stream",
          "text": [
            "(О. Генри) Обучающая_50 вместе.txt добавлен в обучающую выборку\n",
            "(О. Генри) Тестовая_20 вместе.txt добавлен в тестовую выборку\n",
            "(Стругацкие) Обучающая_5 вместе.txt добавлен в обучающую выборку\n",
            "(Стругацкие) Тестовая_2 вместе.txt добавлен в тестовую выборку\n",
            "(Булгаков) Обучающая_5 вместе.txt добавлен в обучающую выборку\n",
            "(Булгаков) Тестовая_2 вместе.txt добавлен в тестовую выборку\n",
            "(Клиффорд_Саймак) Тестовая_2 вместе.txt добавлен в тестовую выборку\n",
            "(Клиффорд_Саймак) Обучающая_5 вместе.txt добавлен в обучающую выборку\n",
            "(Макс Фрай) Тестовая_2 вместе.txt добавлен в тестовую выборку\n",
            "(Макс Фрай) Обучающая_5 вместе.txt добавлен в обучающую выборку\n",
            "(Рэй Брэдберри) Обучающая_22 вместе.txt добавлен в обучающую выборку\n",
            "(Рэй Брэдберри) Тестовая_8 вместе.txt добавлен в тестовую выборку\n"
          ],
          "name": "stdout"
        }
      ]
    },
    {
      "cell_type": "code",
      "metadata": {
        "id": "yEwuXr8RnT0L"
      },
      "source": [
        "def getSetFromIndexes(wordIndexes, xLen, step):\n",
        "  xSample = []\n",
        "  wordsLen = len(wordIndexes)\n",
        "  index = 0\n",
        "  while (index + xLen <= wordsLen):\n",
        "    xSample.append(wordIndexes[index:index+xLen])\n",
        "    index +=step\n",
        "  return xSample"
      ],
      "execution_count": null,
      "outputs": []
    },
    {
      "cell_type": "code",
      "metadata": {
        "id": "y-fenHySp0oK"
      },
      "source": [
        "def createSetMultiClasses(wordIndexes, xLen, step):\n",
        "  nClasses = len(wordIndexes)\n",
        "  classesXSamples = []\n",
        "  for wI in wordIndexes:\n",
        "    classesXSamples.append(getSetFromIndexes(wI, xLen, step))\n",
        "  \n",
        "  xSamples = []\n",
        "  ySamples = []\n",
        "\n",
        "  for t in range(nClasses):\n",
        "    xT = classesXSamples[t]\n",
        "    for i in range(len(xT)):\n",
        "      xSamples.append(xT[i])\n",
        "      ySamples.append(utils.to_categorical(t, nClasses))\n",
        "\n",
        "  xSamples = np.array(xSamples)\n",
        "  ySamples = np.array(ySamples)\n",
        "\n",
        "  return (xSamples, ySamples)"
      ],
      "execution_count": null,
      "outputs": []
    },
    {
      "cell_type": "code",
      "metadata": {
        "id": "Z3lqT1vAuK5Q"
      },
      "source": [
        "def fit_model01(maxWordCount, xLen, step):\n",
        "  '''\n",
        "  функция для подставления разных значений maxWordCount при формировании обучающей/валидационной выборок и при обучении модели\n",
        "  '''\n",
        "  maxWordCount = maxWordCount\n",
        "  tokenizer = Tokenizer(num_words=maxWordCount, filters='!\"#$%&()*+,-–—./…:;<=>?@[\\\\]^_`{|}~«»\\t\\n\\xa0\\ufeff', lower=True, split=' ', oov_token='unknown', char_level=False)\n",
        "  tokenizer.fit_on_texts(trainText)\n",
        "  trainWordIndexes = tokenizer.texts_to_sequences(trainText)\n",
        "  testWordIndexes = tokenizer.texts_to_sequences(testText)\n",
        "  xLen = xLen\n",
        "  step = step\n",
        "\n",
        "  xTrain, yTrain = createSetMultiClasses(trainWordIndexes, xLen, step)\n",
        "  xTest, yTest = createSetMultiClasses(testWordIndexes, xLen, step)\n",
        "  xTrain01 = tokenizer.sequences_to_matrix(xTrain.tolist())\n",
        "  xTest01 = tokenizer.sequences_to_matrix(xTest.tolist())\n",
        "  # добавил удаление переменных, которые для задания лайт не понадабятся в дальнейшем\n",
        "  # чтобы можно было запустить модель с 50000 maxWordCount\n",
        "  del xTest\n",
        "  del testWordIndexes\n",
        "  del trainWordIndexes\n",
        "  model01 = Sequential()\n",
        "  model01.add(Dense(200, input_dim = maxWordCount, activation='relu'))\n",
        "  model01.add(Dropout(0.25))\n",
        "  model01.add(BatchNormalization())\n",
        "  model01.add(Dense(6, activation='sigmoid'))\n",
        "\n",
        "  model01.compile(optimizer='adam', loss='categorical_crossentropy', metrics=['accuracy'])\n",
        "\n",
        "  history = model01.fit(xTrain01, yTrain,\n",
        "                        epochs=10,\n",
        "                        batch_size=128,\n",
        "                        validation_data=(xTest01, yTest))\n",
        "  plt.plot(history.history['accuracy'], \n",
        "          label='Доля верных ответов на обучающем наборе')\n",
        "  plt.plot(history.history['val_accuracy'], \n",
        "          label='Доля верных ответов на проверочном наборе')\n",
        "  plt.xlabel('Эпоха обучения')\n",
        "  plt.ylabel('Доля верных ответов')\n",
        "  plt.legend()\n",
        "  plt.show()"
      ],
      "execution_count": null,
      "outputs": []
    },
    {
      "cell_type": "markdown",
      "metadata": {
        "id": "sV0s9dJ0-WJm"
      },
      "source": [
        "## 1"
      ]
    },
    {
      "cell_type": "markdown",
      "metadata": {
        "id": "J3ti4NI9-Zor"
      },
      "source": [
        "### а. 100 maxWordsCount"
      ]
    },
    {
      "cell_type": "code",
      "metadata": {
        "id": "jwWydTQIxB0G",
        "colab": {
          "base_uri": "https://localhost:8080/",
          "height": 615
        },
        "outputId": "65fc7ce8-d133-43dd-af15-a46701a6cc3a"
      },
      "source": [
        "# maxWordCount = 100\n",
        "fit_model01(maxWordCount=100, xLen=1000, step=100)"
      ],
      "execution_count": null,
      "outputs": [
        {
          "output_type": "stream",
          "text": [
            "Epoch 1/10\n",
            "138/138 [==============================] - 1s 5ms/step - loss: 1.2894 - accuracy: 0.5615 - val_loss: 1.3420 - val_accuracy: 0.4936\n",
            "Epoch 2/10\n",
            "138/138 [==============================] - 1s 4ms/step - loss: 0.8914 - accuracy: 0.6833 - val_loss: 1.2525 - val_accuracy: 0.5242\n",
            "Epoch 3/10\n",
            "138/138 [==============================] - 1s 4ms/step - loss: 0.7359 - accuracy: 0.7232 - val_loss: 1.3441 - val_accuracy: 0.5121\n",
            "Epoch 4/10\n",
            "138/138 [==============================] - 1s 4ms/step - loss: 0.6447 - accuracy: 0.7628 - val_loss: 1.3750 - val_accuracy: 0.5230\n",
            "Epoch 5/10\n",
            "138/138 [==============================] - 1s 4ms/step - loss: 0.5873 - accuracy: 0.7829 - val_loss: 1.4464 - val_accuracy: 0.5123\n",
            "Epoch 6/10\n",
            "138/138 [==============================] - 1s 4ms/step - loss: 0.5325 - accuracy: 0.8029 - val_loss: 1.5569 - val_accuracy: 0.4994\n",
            "Epoch 7/10\n",
            "138/138 [==============================] - 1s 4ms/step - loss: 0.5060 - accuracy: 0.8139 - val_loss: 1.5491 - val_accuracy: 0.5093\n",
            "Epoch 8/10\n",
            "138/138 [==============================] - 1s 4ms/step - loss: 0.4634 - accuracy: 0.8300 - val_loss: 1.6424 - val_accuracy: 0.4987\n",
            "Epoch 9/10\n",
            "138/138 [==============================] - 1s 4ms/step - loss: 0.4385 - accuracy: 0.8416 - val_loss: 1.6883 - val_accuracy: 0.5000\n",
            "Epoch 10/10\n",
            "138/138 [==============================] - 1s 4ms/step - loss: 0.4146 - accuracy: 0.8539 - val_loss: 1.8408 - val_accuracy: 0.4855\n"
          ],
          "name": "stdout"
        },
        {
          "output_type": "display_data",
          "data": {
            "image/png": "[encoded data removed]",
            "text/plain": [
              "<Figure size 432x288 with 1 Axes>"
            ]
          },
          "metadata": {
            "tags": [],
            "needs_background": "light"
          }
        }
      ]
    },
    {
      "cell_type": "markdown",
      "metadata": {
        "id": "aLCgF68A-iTl"
      },
      "source": [
        "### b. 1000 maxWordsCount"
      ]
    },
    {
      "cell_type": "code",
      "metadata": {
        "id": "s1PyIJh_1Y17",
        "colab": {
          "base_uri": "https://localhost:8080/",
          "height": 615
        },
        "outputId": "7c9df29b-2982-4677-d8bc-27330eb083eb"
      },
      "source": [
        "# 1000\n",
        "fit_model01(maxWordCount=1000, xLen=1000, step=100)"
      ],
      "execution_count": null,
      "outputs": [
        {
          "output_type": "stream",
          "text": [
            "Epoch 1/10\n",
            "138/138 [==============================] - 1s 5ms/step - loss: 0.7580 - accuracy: 0.8993 - val_loss: 0.7592 - val_accuracy: 0.7390\n",
            "Epoch 2/10\n",
            "138/138 [==============================] - 1s 4ms/step - loss: 0.1427 - accuracy: 0.9705 - val_loss: 0.4917 - val_accuracy: 0.8278\n",
            "Epoch 3/10\n",
            "138/138 [==============================] - 1s 4ms/step - loss: 0.0203 - accuracy: 0.9991 - val_loss: 0.5307 - val_accuracy: 0.8180\n",
            "Epoch 4/10\n",
            "138/138 [==============================] - 1s 4ms/step - loss: 0.0055 - accuracy: 0.9999 - val_loss: 0.4733 - val_accuracy: 0.8367\n",
            "Epoch 5/10\n",
            "138/138 [==============================] - 1s 4ms/step - loss: 0.0029 - accuracy: 1.0000 - val_loss: 0.5077 - val_accuracy: 0.8265\n",
            "Epoch 6/10\n",
            "138/138 [==============================] - 1s 4ms/step - loss: 0.0019 - accuracy: 1.0000 - val_loss: 0.5105 - val_accuracy: 0.8311\n",
            "Epoch 7/10\n",
            "138/138 [==============================] - 1s 4ms/step - loss: 0.0014 - accuracy: 1.0000 - val_loss: 0.5070 - val_accuracy: 0.8331\n",
            "Epoch 8/10\n",
            "138/138 [==============================] - 1s 4ms/step - loss: 0.0011 - accuracy: 1.0000 - val_loss: 0.5102 - val_accuracy: 0.8337\n",
            "Epoch 9/10\n",
            "138/138 [==============================] - 1s 4ms/step - loss: 7.9584e-04 - accuracy: 1.0000 - val_loss: 0.4954 - val_accuracy: 0.8412\n",
            "Epoch 10/10\n",
            "138/138 [==============================] - 1s 4ms/step - loss: 6.5750e-04 - accuracy: 1.0000 - val_loss: 0.5115 - val_accuracy: 0.8373\n"
          ],
          "name": "stdout"
        },
        {
          "output_type": "display_data",
          "data": {
            "image/png": "[encoded data removed]",
            "text/plain": [
              "<Figure size 432x288 with 1 Axes>"
            ]
          },
          "metadata": {
            "tags": [],
            "needs_background": "light"
          }
        }
      ]
    },
    {
      "cell_type": "markdown",
      "metadata": {
        "id": "RsdEZ50D-l1m"
      },
      "source": [
        "### c. 10000 maxWordsCount"
      ]
    },
    {
      "cell_type": "code",
      "metadata": {
        "id": "EN2EWn1j1mtn",
        "colab": {
          "base_uri": "https://localhost:8080/",
          "height": 615
        },
        "outputId": "fa618f5d-900e-479e-92f1-cda0350238bf"
      },
      "source": [
        "fit_model01(maxWordCount=10000, xLen=1000, step=100)"
      ],
      "execution_count": null,
      "outputs": [
        {
          "output_type": "stream",
          "text": [
            "Epoch 1/10\n",
            "138/138 [==============================] - 1s 9ms/step - loss: 0.4180 - accuracy: 0.9591 - val_loss: 0.6153 - val_accuracy: 0.8415\n",
            "Epoch 2/10\n",
            "138/138 [==============================] - 1s 7ms/step - loss: 0.1044 - accuracy: 0.9515 - val_loss: 0.4808 - val_accuracy: 0.8335\n",
            "Epoch 3/10\n",
            "138/138 [==============================] - 1s 7ms/step - loss: 0.0755 - accuracy: 0.9557 - val_loss: 0.4200 - val_accuracy: 0.8507\n",
            "Epoch 4/10\n",
            "138/138 [==============================] - 1s 7ms/step - loss: 0.0649 - accuracy: 0.9585 - val_loss: 0.4513 - val_accuracy: 0.8383\n",
            "Epoch 5/10\n",
            "138/138 [==============================] - 1s 7ms/step - loss: 0.0600 - accuracy: 0.9621 - val_loss: 0.4273 - val_accuracy: 0.8482\n",
            "Epoch 6/10\n",
            "138/138 [==============================] - 1s 7ms/step - loss: 0.0452 - accuracy: 0.9759 - val_loss: 0.2702 - val_accuracy: 0.9034\n",
            "Epoch 7/10\n",
            "138/138 [==============================] - 1s 7ms/step - loss: 0.0031 - accuracy: 1.0000 - val_loss: 0.3647 - val_accuracy: 0.8750\n",
            "Epoch 8/10\n",
            "138/138 [==============================] - 1s 7ms/step - loss: 0.0011 - accuracy: 1.0000 - val_loss: 0.3358 - val_accuracy: 0.8857\n",
            "Epoch 9/10\n",
            "138/138 [==============================] - 1s 7ms/step - loss: 7.0759e-04 - accuracy: 1.0000 - val_loss: 0.3298 - val_accuracy: 0.8871\n",
            "Epoch 10/10\n",
            "138/138 [==============================] - 1s 7ms/step - loss: 5.0510e-04 - accuracy: 1.0000 - val_loss: 0.3295 - val_accuracy: 0.8896\n"
          ],
          "name": "stdout"
        },
        {
          "output_type": "display_data",
          "data": {
            "image/png": "[encoded data removed]",
            "text/plain": [
              "<Figure size 432x288 with 1 Axes>"
            ]
          },
          "metadata": {
            "tags": [],
            "needs_background": "light"
          }
        }
      ]
    },
    {
      "cell_type": "markdown",
      "metadata": {
        "id": "tLT_vyHT-opr"
      },
      "source": [
        "### d. 50000 maxWordsCount"
      ]
    },
    {
      "cell_type": "code",
      "metadata": {
        "id": "4j1xQ5fD1pYv",
        "colab": {
          "base_uri": "https://localhost:8080/",
          "height": 619
        },
        "outputId": "2a090a28-6d95-48f9-a7f8-46b31b468551"
      },
      "source": [
        "# оперативки на 50000 не хватило, пришлось увеличить шаг и окно\n",
        "fit_model01(maxWordCount=50000, xLen=2000, step=200)"
      ],
      "execution_count": null,
      "outputs": [
        {
          "output_type": "stream",
          "text": [
            "Epoch 1/10\n",
            "69/69 [==============================] - 11s 162ms/step - loss: 0.5208 - accuracy: 0.9778 - val_loss: 0.7336 - val_accuracy: 0.8944\n",
            "Epoch 2/10\n",
            "69/69 [==============================] - 11s 154ms/step - loss: 0.1960 - accuracy: 0.9601 - val_loss: 0.6081 - val_accuracy: 0.8944\n",
            "Epoch 3/10\n",
            "69/69 [==============================] - 11s 154ms/step - loss: 0.1167 - accuracy: 0.9470 - val_loss: 0.4980 - val_accuracy: 0.8977\n",
            "Epoch 4/10\n",
            "69/69 [==============================] - 11s 154ms/step - loss: 0.0804 - accuracy: 0.9470 - val_loss: 0.3856 - val_accuracy: 0.9297\n",
            "Epoch 5/10\n",
            "69/69 [==============================] - 11s 154ms/step - loss: 0.0620 - accuracy: 0.9506 - val_loss: 0.3367 - val_accuracy: 0.9228\n",
            "Epoch 6/10\n",
            "69/69 [==============================] - 11s 155ms/step - loss: 0.0495 - accuracy: 0.9628 - val_loss: 0.2870 - val_accuracy: 0.9240\n",
            "Epoch 7/10\n",
            "69/69 [==============================] - 11s 154ms/step - loss: 0.0396 - accuracy: 0.9771 - val_loss: 0.2351 - val_accuracy: 0.9369\n",
            "Epoch 8/10\n",
            "69/69 [==============================] - 11s 154ms/step - loss: 0.0263 - accuracy: 0.9902 - val_loss: 0.2373 - val_accuracy: 0.9351\n",
            "Epoch 9/10\n",
            "69/69 [==============================] - 11s 155ms/step - loss: 0.0120 - accuracy: 0.9984 - val_loss: 0.2256 - val_accuracy: 0.9279\n",
            "Epoch 10/10\n",
            "69/69 [==============================] - 11s 155ms/step - loss: 0.0043 - accuracy: 1.0000 - val_loss: 0.2065 - val_accuracy: 0.9282\n"
          ],
          "name": "stdout"
        },
        {
          "output_type": "display_data",
          "data": {
            "image/png": "[encoded data removed]",
            "text/plain": [
              "<Figure size 432x288 with 1 Axes>"
            ]
          },
          "metadata": {
            "tags": [],
            "needs_background": "light"
          }
        }
      ]
    },
    {
      "cell_type": "markdown",
      "metadata": {
        "id": "sG4V-z5m3IWX"
      },
      "source": [
        "## 2"
      ]
    },
    {
      "cell_type": "markdown",
      "metadata": {
        "id": "hSSz_OzP-uuY"
      },
      "source": [
        "### e. Поменять количество нейронов"
      ]
    },
    {
      "cell_type": "code",
      "metadata": {
        "id": "EDdOIV0Y1rjD",
        "colab": {
          "base_uri": "https://localhost:8080/",
          "height": 615
        },
        "outputId": "458fb31d-8ac7-4ea4-d86f-6a4a3b73a2c0"
      },
      "source": [
        "# сделал 1000 нейронов\n",
        "maxWordCount = 20000\n",
        "tokenizer = Tokenizer(num_words=maxWordCount, filters='!\"#$%&()*+,-–—./…:;<=>?@[\\\\]^_`{|}~«»\\t\\n\\xa0\\ufeff', lower=True, split=' ', oov_token='unknown', char_level=False)\n",
        "tokenizer.fit_on_texts(trainText)\n",
        "trainWordIndexes = tokenizer.texts_to_sequences(trainText)\n",
        "testWordIndexes = tokenizer.texts_to_sequences(testText)\n",
        "xLen = 1000\n",
        "step = 100\n",
        "\n",
        "xTrain, yTrain = createSetMultiClasses(trainWordIndexes, xLen, step)\n",
        "xTest, yTest = createSetMultiClasses(testWordIndexes, xLen, step)\n",
        "xTrain01 = tokenizer.sequences_to_matrix(xTrain.tolist())\n",
        "xTest01 = tokenizer.sequences_to_matrix(xTest.tolist())\n",
        "\n",
        "model01 = Sequential()\n",
        "model01.add(Dense(1000, input_dim = maxWordCount, activation='relu'))\n",
        "model01.add(Dropout(0.25))\n",
        "model01.add(BatchNormalization())\n",
        "model01.add(Dense(6, activation='sigmoid'))\n",
        "\n",
        "model01.compile(optimizer='adam', loss='categorical_crossentropy', metrics=['accuracy'])\n",
        "\n",
        "history = model01.fit(xTrain01, yTrain,\n",
        "                      epochs=10,\n",
        "                      batch_size=128,\n",
        "                      validation_data=(xTest01, yTest))\n",
        "plt.plot(history.history['accuracy'], \n",
        "        label='Доля верных ответов на обучающем наборе')\n",
        "plt.plot(history.history['val_accuracy'], \n",
        "        label='Доля верных ответов на проверочном наборе')\n",
        "plt.xlabel('Эпоха обучения')\n",
        "plt.ylabel('Доля верных ответов')\n",
        "plt.legend()\n",
        "plt.show()"
      ],
      "execution_count": null,
      "outputs": [
        {
          "output_type": "stream",
          "text": [
            "Epoch 1/10\n",
            "138/138 [==============================] - 2s 16ms/step - loss: 0.2420 - accuracy: 0.9504 - val_loss: 0.5301 - val_accuracy: 0.9014\n",
            "Epoch 2/10\n",
            "138/138 [==============================] - 2s 14ms/step - loss: 0.0472 - accuracy: 0.9671 - val_loss: 0.3961 - val_accuracy: 0.8926\n",
            "Epoch 3/10\n",
            "138/138 [==============================] - 2s 14ms/step - loss: 0.0085 - accuracy: 0.9967 - val_loss: 0.3479 - val_accuracy: 0.8968\n",
            "Epoch 4/10\n",
            "138/138 [==============================] - 2s 14ms/step - loss: 0.0014 - accuracy: 1.0000 - val_loss: 0.3293 - val_accuracy: 0.8980\n",
            "Epoch 5/10\n",
            "138/138 [==============================] - 2s 14ms/step - loss: 6.9871e-04 - accuracy: 1.0000 - val_loss: 0.3228 - val_accuracy: 0.8999\n",
            "Epoch 6/10\n",
            "138/138 [==============================] - 2s 14ms/step - loss: 4.3862e-04 - accuracy: 1.0000 - val_loss: 0.3170 - val_accuracy: 0.9004\n",
            "Epoch 7/10\n",
            "138/138 [==============================] - 2s 14ms/step - loss: 2.5921e-04 - accuracy: 1.0000 - val_loss: 0.3217 - val_accuracy: 0.8996\n",
            "Epoch 8/10\n",
            "138/138 [==============================] - 2s 14ms/step - loss: 2.0639e-04 - accuracy: 1.0000 - val_loss: 0.3256 - val_accuracy: 0.9005\n",
            "Epoch 9/10\n",
            "138/138 [==============================] - 2s 14ms/step - loss: 1.7380e-04 - accuracy: 1.0000 - val_loss: 0.3284 - val_accuracy: 0.9004\n",
            "Epoch 10/10\n",
            "138/138 [==============================] - 2s 14ms/step - loss: 1.4908e-04 - accuracy: 1.0000 - val_loss: 0.3293 - val_accuracy: 0.9011\n"
          ],
          "name": "stdout"
        },
        {
          "output_type": "display_data",
          "data": {
            "image/png": "[encoded data removed]",
            "text/plain": [
              "<Figure size 432x288 with 1 Axes>"
            ]
          },
          "metadata": {
            "tags": [],
            "needs_background": "light"
          }
        }
      ]
    },
    {
      "cell_type": "markdown",
      "metadata": {
        "id": "Ml_5LS77-2pE"
      },
      "source": [
        "### f. Поменять количество слоев"
      ]
    },
    {
      "cell_type": "code",
      "metadata": {
        "id": "wfp5ToV93jVa",
        "colab": {
          "base_uri": "https://localhost:8080/",
          "height": 615
        },
        "outputId": "9914bbfb-2486-4291-ae39-c078e70652bc"
      },
      "source": [
        "# добавил два Dense слоя\n",
        "maxWordCount = 20000\n",
        "tokenizer = Tokenizer(num_words=maxWordCount, filters='!\"#$%&()*+,-–—./…:;<=>?@[\\\\]^_`{|}~«»\\t\\n\\xa0\\ufeff', lower=True, split=' ', oov_token='unknown', char_level=False)\n",
        "tokenizer.fit_on_texts(trainText)\n",
        "trainWordIndexes = tokenizer.texts_to_sequences(trainText)\n",
        "testWordIndexes = tokenizer.texts_to_sequences(testText)\n",
        "xLen = 1000\n",
        "step = 100\n",
        "\n",
        "xTrain, yTrain = createSetMultiClasses(trainWordIndexes, xLen, step)\n",
        "xTest, yTest = createSetMultiClasses(testWordIndexes, xLen, step)\n",
        "xTrain01 = tokenizer.sequences_to_matrix(xTrain.tolist())\n",
        "xTest01 = tokenizer.sequences_to_matrix(xTest.tolist())\n",
        "\n",
        "model01 = Sequential()\n",
        "model01.add(Dense(200, input_dim = maxWordCount, activation='relu'))\n",
        "model01.add(Dropout(0.25))\n",
        "model01.add(BatchNormalization())\n",
        "model01.add(Dense(100, activation='relu'))\n",
        "model01.add(Dropout(0.25))\n",
        "model01.add(BatchNormalization())\n",
        "model01.add(Dense(50, activation='relu'))\n",
        "model01.add(Dropout(0.25))\n",
        "model01.add(BatchNormalization())\n",
        "model01.add(Dense(6, activation='sigmoid'))\n",
        "\n",
        "model01.compile(optimizer='adam', loss='categorical_crossentropy', metrics=['accuracy'])\n",
        "\n",
        "history = model01.fit(xTrain01, yTrain,\n",
        "                      epochs=10,\n",
        "                      batch_size=128,\n",
        "                      validation_data=(xTest01, yTest))\n",
        "plt.plot(history.history['accuracy'], \n",
        "        label='Доля верных ответов на обучающем наборе')\n",
        "plt.plot(history.history['val_accuracy'], \n",
        "        label='Доля верных ответов на проверочном наборе')\n",
        "plt.xlabel('Эпоха обучения')\n",
        "plt.ylabel('Доля верных ответов')\n",
        "plt.legend()\n",
        "plt.show()"
      ],
      "execution_count": null,
      "outputs": [
        {
          "output_type": "stream",
          "text": [
            "Epoch 1/10\n",
            "138/138 [==============================] - 2s 15ms/step - loss: 0.8612 - accuracy: 0.9287 - val_loss: 0.7699 - val_accuracy: 0.8627\n",
            "Epoch 2/10\n",
            "138/138 [==============================] - 2s 13ms/step - loss: 0.3360 - accuracy: 0.9584 - val_loss: 0.3873 - val_accuracy: 0.8620\n",
            "Epoch 3/10\n",
            "138/138 [==============================] - 2s 13ms/step - loss: 0.1721 - accuracy: 0.9578 - val_loss: 0.3733 - val_accuracy: 0.8522\n",
            "Epoch 4/10\n",
            "138/138 [==============================] - 2s 13ms/step - loss: 0.1454 - accuracy: 0.9554 - val_loss: 0.3970 - val_accuracy: 0.8430\n",
            "Epoch 5/10\n",
            "138/138 [==============================] - 2s 13ms/step - loss: 0.1369 - accuracy: 0.9539 - val_loss: 0.4198 - val_accuracy: 0.8482\n",
            "Epoch 6/10\n",
            "138/138 [==============================] - 2s 13ms/step - loss: 0.1328 - accuracy: 0.9552 - val_loss: 0.3952 - val_accuracy: 0.8548\n",
            "Epoch 7/10\n",
            "138/138 [==============================] - 2s 13ms/step - loss: 0.1303 - accuracy: 0.9559 - val_loss: 0.3911 - val_accuracy: 0.8554\n",
            "Epoch 8/10\n",
            "138/138 [==============================] - 2s 13ms/step - loss: 0.1292 - accuracy: 0.9593 - val_loss: 0.3835 - val_accuracy: 0.8549\n",
            "Epoch 9/10\n",
            "138/138 [==============================] - 2s 13ms/step - loss: 0.1285 - accuracy: 0.9597 - val_loss: 0.3864 - val_accuracy: 0.8536\n",
            "Epoch 10/10\n",
            "138/138 [==============================] - 2s 13ms/step - loss: 0.1279 - accuracy: 0.9624 - val_loss: 0.4130 - val_accuracy: 0.8456\n"
          ],
          "name": "stdout"
        },
        {
          "output_type": "display_data",
          "data": {
            "image/png": "[encoded data removed]",
            "text/plain": [
              "<Figure size 432x288 with 1 Axes>"
            ]
          },
          "metadata": {
            "tags": [],
            "needs_background": "light"
          }
        }
      ]
    },
    {
      "cell_type": "markdown",
      "metadata": {
        "id": "9SLyIX2VAFBG"
      },
      "source": [
        "### g. Поменять активационные функции"
      ]
    },
    {
      "cell_type": "code",
      "metadata": {
        "id": "QekP5Q0m3-nz",
        "colab": {
          "base_uri": "https://localhost:8080/",
          "height": 615
        },
        "outputId": "abf8b71a-be6b-4eab-d15f-9493da24db09"
      },
      "source": [
        "# поменял релу на танг\n",
        "maxWordCount = 20000\n",
        "tokenizer = Tokenizer(num_words=maxWordCount, filters='!\"#$%&()*+,-–—./…:;<=>?@[\\\\]^_`{|}~«»\\t\\n\\xa0\\ufeff', lower=True, split=' ', oov_token='unknown', char_level=False)\n",
        "tokenizer.fit_on_texts(trainText)\n",
        "trainWordIndexes = tokenizer.texts_to_sequences(trainText)\n",
        "testWordIndexes = tokenizer.texts_to_sequences(testText)\n",
        "xLen = 1000\n",
        "step = 100\n",
        "\n",
        "xTrain, yTrain = createSetMultiClasses(trainWordIndexes, xLen, step)\n",
        "xTest, yTest = createSetMultiClasses(testWordIndexes, xLen, step)\n",
        "xTrain01 = tokenizer.sequences_to_matrix(xTrain.tolist())\n",
        "xTest01 = tokenizer.sequences_to_matrix(xTest.tolist())\n",
        "\n",
        "model01 = Sequential()\n",
        "model01.add(Dense(200, input_dim = maxWordCount, activation='tanh'))\n",
        "model01.add(Dropout(0.25))\n",
        "model01.add(BatchNormalization())\n",
        "model01.add(Dense(100, activation='tanh'))\n",
        "model01.add(Dropout(0.25))\n",
        "model01.add(Dense(6, activation='sigmoid'))\n",
        "\n",
        "model01.compile(optimizer='adam', loss='categorical_crossentropy', metrics=['accuracy'])\n",
        "\n",
        "history = model01.fit(xTrain01, yTrain,\n",
        "                      epochs=10,\n",
        "                      batch_size=128,\n",
        "                      validation_data=(xTest01, yTest))\n",
        "plt.plot(history.history['accuracy'], \n",
        "        label='Доля верных ответов на обучающем наборе')\n",
        "plt.plot(history.history['val_accuracy'], \n",
        "        label='Доля верных ответов на проверочном наборе')\n",
        "plt.xlabel('Эпоха обучения')\n",
        "plt.ylabel('Доля верных ответов')\n",
        "plt.legend()\n",
        "plt.show()"
      ],
      "execution_count": null,
      "outputs": [
        {
          "output_type": "stream",
          "text": [
            "Epoch 1/10\n",
            "138/138 [==============================] - 2s 14ms/step - loss: 0.3883 - accuracy: 0.9823 - val_loss: 0.4657 - val_accuracy: 0.8507\n",
            "Epoch 2/10\n",
            "138/138 [==============================] - 2s 11ms/step - loss: 0.1156 - accuracy: 0.9993 - val_loss: 0.4357 - val_accuracy: 0.8433\n",
            "Epoch 3/10\n",
            "138/138 [==============================] - 2s 12ms/step - loss: 0.1077 - accuracy: 0.9989 - val_loss: 0.4352 - val_accuracy: 0.8459\n",
            "Epoch 4/10\n",
            "138/138 [==============================] - 2s 11ms/step - loss: 0.1055 - accuracy: 0.9993 - val_loss: 0.4338 - val_accuracy: 0.8524\n",
            "Epoch 5/10\n",
            "138/138 [==============================] - 2s 12ms/step - loss: 0.1043 - accuracy: 0.9995 - val_loss: 0.4386 - val_accuracy: 0.8678\n",
            "Epoch 6/10\n",
            "138/138 [==============================] - 2s 11ms/step - loss: 0.1029 - accuracy: 0.9998 - val_loss: 0.4172 - val_accuracy: 0.9197\n",
            "Epoch 7/10\n",
            "138/138 [==============================] - 2s 12ms/step - loss: 0.0058 - accuracy: 1.0000 - val_loss: 0.3182 - val_accuracy: 0.9282\n",
            "Epoch 8/10\n",
            "138/138 [==============================] - 2s 12ms/step - loss: 0.0015 - accuracy: 1.0000 - val_loss: 0.3109 - val_accuracy: 0.9281\n",
            "Epoch 9/10\n",
            "138/138 [==============================] - 2s 11ms/step - loss: 0.0012 - accuracy: 1.0000 - val_loss: 0.3194 - val_accuracy: 0.9270\n",
            "Epoch 10/10\n",
            "138/138 [==============================] - 2s 11ms/step - loss: 0.0010 - accuracy: 1.0000 - val_loss: 0.3546 - val_accuracy: 0.9245\n"
          ],
          "name": "stdout"
        },
        {
          "output_type": "display_data",
          "data": {
            "image/png": "[encoded data removed]",
            "text/plain": [
              "<Figure size 432x288 with 1 Axes>"
            ]
          },
          "metadata": {
            "tags": [],
            "needs_background": "light"
          }
        }
      ]
    },
    {
      "cell_type": "code",
      "metadata": {
        "id": "dIZXS-Kf4mZz",
        "colab": {
          "base_uri": "https://localhost:8080/",
          "height": 615
        },
        "outputId": "4901f556-105c-41d8-865f-f1b66b9064a1"
      },
      "source": [
        "# поменял релу на selu\n",
        "maxWordCount = 20000\n",
        "tokenizer = Tokenizer(num_words=maxWordCount, filters='!\"#$%&()*+,-–—./…:;<=>?@[\\\\]^_`{|}~«»\\t\\n\\xa0\\ufeff', lower=True, split=' ', oov_token='unknown', char_level=False)\n",
        "tokenizer.fit_on_texts(trainText)\n",
        "trainWordIndexes = tokenizer.texts_to_sequences(trainText)\n",
        "testWordIndexes = tokenizer.texts_to_sequences(testText)\n",
        "xLen = 1000\n",
        "step = 100\n",
        "\n",
        "xTrain, yTrain = createSetMultiClasses(trainWordIndexes, xLen, step)\n",
        "xTest, yTest = createSetMultiClasses(testWordIndexes, xLen, step)\n",
        "xTrain01 = tokenizer.sequences_to_matrix(xTrain.tolist())\n",
        "xTest01 = tokenizer.sequences_to_matrix(xTest.tolist())\n",
        "\n",
        "model01 = Sequential()\n",
        "model01.add(Dense(200, input_dim = maxWordCount, activation='selu'))\n",
        "model01.add(Dropout(0.25))\n",
        "model01.add(BatchNormalization())\n",
        "model01.add(Dense(100, activation='selu'))\n",
        "model01.add(Dropout(0.25))\n",
        "model01.add(Dense(6, activation='sigmoid'))\n",
        "\n",
        "model01.compile(optimizer='adam', loss='categorical_crossentropy', metrics=['accuracy'])\n",
        "\n",
        "history = model01.fit(xTrain01, yTrain,\n",
        "                      epochs=10,\n",
        "                      batch_size=128,\n",
        "                      validation_data=(xTest01, yTest))\n",
        "plt.plot(history.history['accuracy'], \n",
        "        label='Доля верных ответов на обучающем наборе')\n",
        "plt.plot(history.history['val_accuracy'], \n",
        "        label='Доля верных ответов на проверочном наборе')\n",
        "plt.xlabel('Эпоха обучения')\n",
        "plt.ylabel('Доля верных ответов')\n",
        "plt.legend()\n",
        "plt.show()"
      ],
      "execution_count": null,
      "outputs": [
        {
          "output_type": "stream",
          "text": [
            "Epoch 1/10\n",
            "138/138 [==============================] - 2s 14ms/step - loss: 0.2292 - accuracy: 0.9816 - val_loss: 0.3979 - val_accuracy: 0.9059\n",
            "Epoch 2/10\n",
            "138/138 [==============================] - 2s 12ms/step - loss: 0.0038 - accuracy: 1.0000 - val_loss: 0.3963 - val_accuracy: 0.9011\n",
            "Epoch 3/10\n",
            "138/138 [==============================] - 2s 11ms/step - loss: 0.0013 - accuracy: 1.0000 - val_loss: 0.3865 - val_accuracy: 0.8998\n",
            "Epoch 4/10\n",
            "138/138 [==============================] - 2s 11ms/step - loss: 6.0681e-04 - accuracy: 1.0000 - val_loss: 0.3936 - val_accuracy: 0.9041\n",
            "Epoch 5/10\n",
            "138/138 [==============================] - 2s 12ms/step - loss: 4.4410e-04 - accuracy: 1.0000 - val_loss: 0.3869 - val_accuracy: 0.8990\n",
            "Epoch 6/10\n",
            "138/138 [==============================] - 2s 12ms/step - loss: 3.1918e-04 - accuracy: 1.0000 - val_loss: 0.3846 - val_accuracy: 0.9013\n",
            "Epoch 7/10\n",
            "138/138 [==============================] - 2s 11ms/step - loss: 2.3499e-04 - accuracy: 1.0000 - val_loss: 0.4008 - val_accuracy: 0.8969\n",
            "Epoch 8/10\n",
            "138/138 [==============================] - 2s 12ms/step - loss: 3.3345e-04 - accuracy: 0.9999 - val_loss: 0.4269 - val_accuracy: 0.8916\n",
            "Epoch 9/10\n",
            "138/138 [==============================] - 2s 11ms/step - loss: 1.7651e-04 - accuracy: 1.0000 - val_loss: 0.4352 - val_accuracy: 0.8919\n",
            "Epoch 10/10\n",
            "138/138 [==============================] - 2s 11ms/step - loss: 1.1579e-04 - accuracy: 1.0000 - val_loss: 0.4273 - val_accuracy: 0.8913\n"
          ],
          "name": "stdout"
        },
        {
          "output_type": "display_data",
          "data": {
            "image/png": "[encoded data removed]",
            "text/plain": [
              "<Figure size 432x288 with 1 Axes>"
            ]
          },
          "metadata": {
            "tags": [],
            "needs_background": "light"
          }
        }
      ]
    },
    {
      "cell_type": "code",
      "metadata": {
        "id": "ynljFBEu46xK"
      },
      "source": [
        "maxWordCount = 50000\n",
        "tokenizer = Tokenizer(num_words=maxWordCount, filters='!\"#$%&()*+,-–—./…:;<=>?@[\\\\]^_`{|}~«»\\t\\n\\xa0\\ufeff', lower=True, split=' ', oov_token='unknown', char_level=False)\n",
        "tokenizer.fit_on_texts(trainText)\n",
        "trainWordIndexes = tokenizer.texts_to_sequences(trainText)\n",
        "testWordIndexes = tokenizer.texts_to_sequences(testText)\n",
        "xLen = 1000\n",
        "step = 100\n",
        "\n",
        "xTrain, yTrain = createSetMultiClasses(trainWordIndexes, xLen, step)\n",
        "xTest, yTest = createSetMultiClasses(testWordIndexes, xLen, step)\n",
        "xTrain01 = tokenizer.sequences_to_matrix(xTrain.tolist())\n",
        "xTest01 = tokenizer.sequences_to_matrix(xTest.tolist())\n"
      ],
      "execution_count": null,
      "outputs": []
    },
    {
      "cell_type": "markdown",
      "metadata": {
        "id": "FmiXGPtTAMS3"
      },
      "source": [
        "## 3"
      ]
    },
    {
      "cell_type": "code",
      "metadata": {
        "id": "D_uc0c6uHs3I",
        "colab": {
          "base_uri": "https://localhost:8080/",
          "height": 615
        },
        "outputId": "2772c7c5-1ee8-4b10-aac3-08d55df9adcd"
      },
      "source": [
        "# Контрольный замер\n",
        "modelE = Sequential()\n",
        "modelE.add(Embedding(maxWordCount, 20, input_length=xLen))\n",
        "modelE.add(SpatialDropout1D(0.2))\n",
        "modelE.add(Flatten())\n",
        "modelE.add(BatchNormalization())\n",
        "modelE.add(Dense(200, activation=\"relu\"))\n",
        "modelE.add(Dropout(0.2))\n",
        "modelE.add(BatchNormalization())\n",
        "modelE.add(Dense(6, activation='sigmoid'))\n",
        "\n",
        "modelE.compile(optimizer='adam', \n",
        "              loss='categorical_crossentropy', \n",
        "              metrics=['accuracy'])\n",
        "\n",
        "history = modelE.fit(xTrain, \n",
        "                    yTrain, \n",
        "                    epochs=10,\n",
        "                    batch_size=128,\n",
        "                    validation_data=(xTest, yTest))\n",
        "\n",
        "\n",
        "plt.plot(history.history['accuracy'], \n",
        "         label='Доля верных ответов на обучающем наборе')\n",
        "plt.plot(history.history['val_accuracy'], \n",
        "         label='Доля верных ответов на проверочном наборе')\n",
        "plt.xlabel('Эпоха обучения')\n",
        "plt.ylabel('Доля верных ответов')\n",
        "plt.legend()\n",
        "plt.show()"
      ],
      "execution_count": null,
      "outputs": [
        {
          "output_type": "stream",
          "text": [
            "Epoch 1/10\n",
            "138/138 [==============================] - 4s 28ms/step - loss: 1.0516 - accuracy: 0.6602 - val_loss: 2.4929 - val_accuracy: 0.2929\n",
            "Epoch 2/10\n",
            "138/138 [==============================] - 4s 26ms/step - loss: 0.3674 - accuracy: 0.8550 - val_loss: 3.4877 - val_accuracy: 0.2929\n",
            "Epoch 3/10\n",
            "138/138 [==============================] - 4s 26ms/step - loss: 0.1481 - accuracy: 0.8604 - val_loss: 2.2555 - val_accuracy: 0.3253\n",
            "Epoch 4/10\n",
            "138/138 [==============================] - 4s 26ms/step - loss: 0.1113 - accuracy: 0.8549 - val_loss: 1.8258 - val_accuracy: 0.4657\n",
            "Epoch 5/10\n",
            "138/138 [==============================] - 4s 26ms/step - loss: 0.1072 - accuracy: 0.8564 - val_loss: 1.4791 - val_accuracy: 0.5615\n",
            "Epoch 6/10\n",
            "138/138 [==============================] - 4s 27ms/step - loss: 0.1052 - accuracy: 0.8569 - val_loss: 1.4765 - val_accuracy: 0.5909\n",
            "Epoch 7/10\n",
            "138/138 [==============================] - 4s 26ms/step - loss: 0.1041 - accuracy: 0.8558 - val_loss: 1.4530 - val_accuracy: 0.6011\n",
            "Epoch 8/10\n",
            "138/138 [==============================] - 4s 27ms/step - loss: 0.1039 - accuracy: 0.8580 - val_loss: 1.3416 - val_accuracy: 0.6177\n",
            "Epoch 9/10\n",
            "138/138 [==============================] - 4s 26ms/step - loss: 0.1035 - accuracy: 0.8612 - val_loss: 1.2300 - val_accuracy: 0.6114\n",
            "Epoch 10/10\n",
            "138/138 [==============================] - 4s 26ms/step - loss: 0.1033 - accuracy: 0.8630 - val_loss: 1.2175 - val_accuracy: 0.6128\n"
          ],
          "name": "stdout"
        },
        {
          "output_type": "display_data",
          "data": {
            "image/png": "[encoded data removed]",
            "text/plain": [
              "<Figure size 432x288 with 1 Axes>"
            ]
          },
          "metadata": {
            "tags": [],
            "needs_background": "light"
          }
        }
      ]
    },
    {
      "cell_type": "markdown",
      "metadata": {
        "id": "H4Xfkf2gAd9x"
      },
      "source": [
        "### h. 10 Embedding"
      ]
    },
    {
      "cell_type": "code",
      "metadata": {
        "id": "Le6D05mzH6Ar",
        "colab": {
          "base_uri": "https://localhost:8080/",
          "height": 615
        },
        "outputId": "e68a108a-4749-4155-a37e-45506b1b2e1b"
      },
      "source": [
        "# 10 Embedding\n",
        "modelE = Sequential()\n",
        "modelE.add(Embedding(maxWordCount, 10, input_length=xLen))\n",
        "modelE.add(SpatialDropout1D(0.2))\n",
        "modelE.add(Flatten())\n",
        "modelE.add(BatchNormalization())\n",
        "modelE.add(Dense(200, activation=\"relu\"))\n",
        "modelE.add(Dropout(0.2))\n",
        "modelE.add(BatchNormalization())\n",
        "modelE.add(Dense(6, activation='sigmoid'))\n",
        "\n",
        "modelE.compile(optimizer='adam', \n",
        "              loss='categorical_crossentropy', \n",
        "              metrics=['accuracy'])\n",
        "\n",
        "history = modelE.fit(xTrain, \n",
        "                    yTrain, \n",
        "                    epochs=10,\n",
        "                    batch_size=128,\n",
        "                    validation_data=(xTest, yTest))\n",
        "\n",
        "\n",
        "plt.plot(history.history['accuracy'], \n",
        "         label='Доля верных ответов на обучающем наборе')\n",
        "plt.plot(history.history['val_accuracy'], \n",
        "         label='Доля верных ответов на проверочном наборе')\n",
        "plt.xlabel('Эпоха обучения')\n",
        "plt.ylabel('Доля верных ответов')\n",
        "plt.legend()\n",
        "plt.show()"
      ],
      "execution_count": null,
      "outputs": [
        {
          "output_type": "stream",
          "text": [
            "Epoch 1/10\n",
            "138/138 [==============================] - 2s 18ms/step - loss: 1.1616 - accuracy: 0.6307 - val_loss: 1.8859 - val_accuracy: 0.2929\n",
            "Epoch 2/10\n",
            "138/138 [==============================] - 2s 18ms/step - loss: 0.3950 - accuracy: 0.8979 - val_loss: 2.8792 - val_accuracy: 0.2929\n",
            "Epoch 3/10\n",
            "138/138 [==============================] - 2s 16ms/step - loss: 0.1574 - accuracy: 0.8790 - val_loss: 2.0579 - val_accuracy: 0.3177\n",
            "Epoch 4/10\n",
            "138/138 [==============================] - 2s 17ms/step - loss: 0.1160 - accuracy: 0.9119 - val_loss: 1.3700 - val_accuracy: 0.4313\n",
            "Epoch 5/10\n",
            "138/138 [==============================] - 2s 17ms/step - loss: 0.0604 - accuracy: 0.9803 - val_loss: 1.1739 - val_accuracy: 0.5652\n",
            "Epoch 6/10\n",
            "138/138 [==============================] - 2s 16ms/step - loss: 0.0076 - accuracy: 0.9990 - val_loss: 1.0207 - val_accuracy: 0.6452\n",
            "Epoch 7/10\n",
            "138/138 [==============================] - 2s 17ms/step - loss: 0.0046 - accuracy: 0.9993 - val_loss: 1.1067 - val_accuracy: 0.6351\n",
            "Epoch 8/10\n",
            "138/138 [==============================] - 2s 16ms/step - loss: 0.0038 - accuracy: 0.9995 - val_loss: 1.1499 - val_accuracy: 0.6261\n",
            "Epoch 9/10\n",
            "138/138 [==============================] - 2s 16ms/step - loss: 0.0031 - accuracy: 0.9994 - val_loss: 1.0991 - val_accuracy: 0.6479\n",
            "Epoch 10/10\n",
            "138/138 [==============================] - 2s 17ms/step - loss: 0.0026 - accuracy: 0.9994 - val_loss: 1.1342 - val_accuracy: 0.6319\n"
          ],
          "name": "stdout"
        },
        {
          "output_type": "display_data",
          "data": {
            "image/png": "[encoded data removed]",
            "text/plain": [
              "<Figure size 432x288 with 1 Axes>"
            ]
          },
          "metadata": {
            "tags": [],
            "needs_background": "light"
          }
        }
      ]
    },
    {
      "cell_type": "markdown",
      "metadata": {
        "id": "UL4SwaXIAj1u"
      },
      "source": [
        "### i. 50 Embedding"
      ]
    },
    {
      "cell_type": "code",
      "metadata": {
        "id": "GbgAAlQ0IK2d",
        "colab": {
          "base_uri": "https://localhost:8080/",
          "height": 615
        },
        "outputId": "650d2644-cf03-4926-a299-670e5d38e6a5"
      },
      "source": [
        "\n",
        "modelE = Sequential()\n",
        "modelE.add(Embedding(maxWordCount, 50, input_length=xLen))\n",
        "modelE.add(SpatialDropout1D(0.2))\n",
        "modelE.add(Flatten())\n",
        "modelE.add(BatchNormalization())\n",
        "modelE.add(Dense(200, activation=\"relu\"))\n",
        "modelE.add(Dropout(0.2))\n",
        "modelE.add(BatchNormalization())\n",
        "modelE.add(Dense(6, activation='sigmoid'))\n",
        "\n",
        "modelE.compile(optimizer='adam', \n",
        "              loss='categorical_crossentropy', \n",
        "              metrics=['accuracy'])\n",
        "\n",
        "history = modelE.fit(xTrain, \n",
        "                    yTrain, \n",
        "                    epochs=10,\n",
        "                    batch_size=128,\n",
        "                    validation_data=(xTest, yTest))\n",
        "\n",
        "\n",
        "plt.plot(history.history['accuracy'], \n",
        "         label='Доля верных ответов на обучающем наборе')\n",
        "plt.plot(history.history['val_accuracy'], \n",
        "         label='Доля верных ответов на проверочном наборе')\n",
        "plt.xlabel('Эпоха обучения')\n",
        "plt.ylabel('Доля верных ответов')\n",
        "plt.legend()\n",
        "plt.show()"
      ],
      "execution_count": null,
      "outputs": [
        {
          "output_type": "stream",
          "text": [
            "Epoch 1/10\n",
            "138/138 [==============================] - 8s 58ms/step - loss: 0.9803 - accuracy: 0.7240 - val_loss: 2.7507 - val_accuracy: 0.2937\n",
            "Epoch 2/10\n",
            "138/138 [==============================] - 8s 56ms/step - loss: 0.2885 - accuracy: 0.9467 - val_loss: 3.0761 - val_accuracy: 0.2929\n",
            "Epoch 3/10\n",
            "138/138 [==============================] - 8s 56ms/step - loss: 0.0688 - accuracy: 0.9735 - val_loss: 2.0767 - val_accuracy: 0.3243\n",
            "Epoch 4/10\n",
            "138/138 [==============================] - 8s 56ms/step - loss: 0.0191 - accuracy: 0.9940 - val_loss: 1.5052 - val_accuracy: 0.4251\n",
            "Epoch 5/10\n",
            "138/138 [==============================] - 8s 56ms/step - loss: 0.0046 - accuracy: 0.9999 - val_loss: 1.2533 - val_accuracy: 0.5464\n",
            "Epoch 6/10\n",
            "138/138 [==============================] - 8s 57ms/step - loss: 0.0021 - accuracy: 1.0000 - val_loss: 1.2841 - val_accuracy: 0.5704\n",
            "Epoch 7/10\n",
            "138/138 [==============================] - 8s 56ms/step - loss: 0.0014 - accuracy: 0.9999 - val_loss: 1.2053 - val_accuracy: 0.5974\n",
            "Epoch 8/10\n",
            "138/138 [==============================] - 8s 55ms/step - loss: 0.0010 - accuracy: 0.9999 - val_loss: 1.1145 - val_accuracy: 0.6271\n",
            "Epoch 9/10\n",
            "138/138 [==============================] - 8s 55ms/step - loss: 7.7720e-04 - accuracy: 1.0000 - val_loss: 1.1004 - val_accuracy: 0.6337\n",
            "Epoch 10/10\n",
            "138/138 [==============================] - 8s 55ms/step - loss: 6.5000e-04 - accuracy: 1.0000 - val_loss: 1.1244 - val_accuracy: 0.6318\n"
          ],
          "name": "stdout"
        },
        {
          "output_type": "display_data",
          "data": {
            "image/png": "[encoded data removed]",
            "text/plain": [
              "<Figure size 432x288 with 1 Axes>"
            ]
          },
          "metadata": {
            "tags": [],
            "needs_background": "light"
          }
        }
      ]
    },
    {
      "cell_type": "markdown",
      "metadata": {
        "id": "sap7Q1IrApqM"
      },
      "source": [
        "### j. 200 Embedding"
      ]
    },
    {
      "cell_type": "code",
      "metadata": {
        "id": "S2mPumfpIWSz",
        "colab": {
          "base_uri": "https://localhost:8080/",
          "height": 615
        },
        "outputId": "1915d581-f6c1-4efc-8558-4f54598bfb2f"
      },
      "source": [
        "\n",
        "modelE = Sequential()\n",
        "modelE.add(Embedding(maxWordCount, 200, input_length=xLen))\n",
        "modelE.add(SpatialDropout1D(0.2))\n",
        "modelE.add(Flatten())\n",
        "modelE.add(BatchNormalization())\n",
        "modelE.add(Dense(200, activation=\"relu\"))\n",
        "modelE.add(Dropout(0.2))\n",
        "modelE.add(BatchNormalization())\n",
        "modelE.add(Dense(6, activation='sigmoid'))\n",
        "\n",
        "modelE.compile(optimizer='adam', \n",
        "              loss='categorical_crossentropy', \n",
        "              metrics=['accuracy'])\n",
        "\n",
        "history = modelE.fit(xTrain, \n",
        "                    yTrain, \n",
        "                    epochs=10,\n",
        "                    batch_size=128,\n",
        "                    validation_data=(xTest, yTest))\n",
        "\n",
        "\n",
        "plt.plot(history.history['accuracy'], \n",
        "         label='Доля верных ответов на обучающем наборе')\n",
        "plt.plot(history.history['val_accuracy'], \n",
        "         label='Доля верных ответов на проверочном наборе')\n",
        "plt.xlabel('Эпоха обучения')\n",
        "plt.ylabel('Доля верных ответов')\n",
        "plt.legend()\n",
        "plt.show()"
      ],
      "execution_count": null,
      "outputs": [
        {
          "output_type": "stream",
          "text": [
            "Epoch 1/10\n",
            "138/138 [==============================] - 28s 206ms/step - loss: 0.8992 - accuracy: 0.7478 - val_loss: 3.0471 - val_accuracy: 0.2929\n",
            "Epoch 2/10\n",
            "138/138 [==============================] - 28s 203ms/step - loss: 0.3013 - accuracy: 0.8891 - val_loss: 2.7105 - val_accuracy: 0.2931\n",
            "Epoch 3/10\n",
            "138/138 [==============================] - 28s 202ms/step - loss: 0.1764 - accuracy: 0.8793 - val_loss: 2.0165 - val_accuracy: 0.3578\n",
            "Epoch 4/10\n",
            "138/138 [==============================] - 28s 204ms/step - loss: 0.1654 - accuracy: 0.8764 - val_loss: 1.6167 - val_accuracy: 0.4789\n",
            "Epoch 5/10\n",
            "138/138 [==============================] - 28s 202ms/step - loss: 0.1383 - accuracy: 0.8793 - val_loss: 1.4463 - val_accuracy: 0.5408\n",
            "Epoch 6/10\n",
            "138/138 [==============================] - 28s 202ms/step - loss: 0.0883 - accuracy: 0.9414 - val_loss: 1.6294 - val_accuracy: 0.5787\n",
            "Epoch 7/10\n",
            "138/138 [==============================] - 28s 202ms/step - loss: 0.0099 - accuracy: 0.9989 - val_loss: 1.0076 - val_accuracy: 0.6683\n",
            "Epoch 8/10\n",
            "138/138 [==============================] - 28s 200ms/step - loss: 0.0018 - accuracy: 1.0000 - val_loss: 0.9612 - val_accuracy: 0.6825\n",
            "Epoch 9/10\n",
            "138/138 [==============================] - 28s 201ms/step - loss: 9.4735e-04 - accuracy: 1.0000 - val_loss: 0.9693 - val_accuracy: 0.6835\n",
            "Epoch 10/10\n",
            "138/138 [==============================] - 28s 201ms/step - loss: 6.3631e-04 - accuracy: 1.0000 - val_loss: 0.9469 - val_accuracy: 0.6928\n"
          ],
          "name": "stdout"
        },
        {
          "output_type": "display_data",
          "data": {
            "image/png": "[encoded data removed]",
            "text/plain": [
              "<Figure size 432x288 with 1 Axes>"
            ]
          },
          "metadata": {
            "tags": [],
            "needs_background": "light"
          }
        }
      ]
    },
    {
      "cell_type": "markdown",
      "metadata": {
        "id": "lVY-nP23aLJU"
      },
      "source": [
        "# Pro Вар1"
      ]
    },
    {
      "cell_type": "code",
      "metadata": {
        "id": "Jw5AizMRIsnX"
      },
      "source": [
        "def readText(fileName):\n",
        "  f = open(fileName, 'r')\n",
        "  text = f.read()\n",
        "  text = text.replace('\\n', ' ')\n",
        "  return text\n",
        "className = [\"О. Генри\", \"Стругацкие\", \"Булгаков\", \"Саймак\", \"Фрай\", \"Брэдберри\"]\n",
        "nClasses = len(className)"
      ],
      "execution_count": null,
      "outputs": []
    },
    {
      "cell_type": "code",
      "metadata": {
        "id": "Mgu5uEqkagDe",
        "colab": {
          "base_uri": "https://localhost:8080/",
          "height": 218
        },
        "outputId": "fd28317c-bd24-481a-ae1c-b8f154387dad"
      },
      "source": [
        "trainText = []\n",
        "testText = []\n",
        "\n",
        "for i in className:\n",
        "  for j in os.listdir('/content/drive/My Drive/Colab Notebooks/17 Обработка текстов/Писатели/'):\n",
        "    if i in j:\n",
        "      if 'Обучающая' in j:\n",
        "        trainText.append(readText('/content/drive/My Drive/Colab Notebooks/17 Обработка текстов/Писатели/'+j))\n",
        "        print(j, 'добавлен в обучающую выборку')\n",
        "      if 'Тестовая' in j:\n",
        "        testText.append(readText('/content/drive/My Drive/Colab Notebooks/17 Обработка текстов/Писатели/'+j))\n",
        "        print(j, 'добавлен в тестовую выборку')\n"
      ],
      "execution_count": null,
      "outputs": [
        {
          "output_type": "stream",
          "text": [
            "(О. Генри) Обучающая_50 вместе.txt добавлен в обучающую выборку\n",
            "(О. Генри) Тестовая_20 вместе.txt добавлен в тестовую выборку\n",
            "(Стругацкие) Обучающая_5 вместе.txt добавлен в обучающую выборку\n",
            "(Стругацкие) Тестовая_2 вместе.txt добавлен в тестовую выборку\n",
            "(Булгаков) Обучающая_5 вместе.txt добавлен в обучающую выборку\n",
            "(Булгаков) Тестовая_2 вместе.txt добавлен в тестовую выборку\n",
            "(Клиффорд_Саймак) Тестовая_2 вместе.txt добавлен в тестовую выборку\n",
            "(Клиффорд_Саймак) Обучающая_5 вместе.txt добавлен в обучающую выборку\n",
            "(Макс Фрай) Тестовая_2 вместе.txt добавлен в тестовую выборку\n",
            "(Макс Фрай) Обучающая_5 вместе.txt добавлен в обучающую выборку\n",
            "(Рэй Брэдберри) Обучающая_22 вместе.txt добавлен в обучающую выборку\n",
            "(Рэй Брэдберри) Тестовая_8 вместе.txt добавлен в тестовую выборку\n"
          ],
          "name": "stdout"
        }
      ]
    },
    {
      "cell_type": "code",
      "metadata": {
        "id": "3ZBziO7vajMn"
      },
      "source": [
        "def getSetFromIndexes(wordIndexes, xLen, step):\n",
        "  xSample = []\n",
        "  wordsLen = len(wordIndexes)\n",
        "  index = 0\n",
        "  while (index + xLen <= wordsLen):\n",
        "    xSample.append(wordIndexes[index:index+xLen])\n",
        "    index +=step\n",
        "  return xSample\n",
        "  \n",
        "def createSetMultiClasses(wordIndexes, xLen, step):\n",
        "  nClasses = len(wordIndexes)\n",
        "  classesXSamples = []\n",
        "  for wI in wordIndexes:\n",
        "    classesXSamples.append(getSetFromIndexes(wI, xLen, step))\n",
        "  \n",
        "  xSamples = []\n",
        "  ySamples = []\n",
        "\n",
        "  for t in range(nClasses):\n",
        "    xT = classesXSamples[t]\n",
        "    for i in range(len(xT)):\n",
        "      xSamples.append(xT[i])\n",
        "      ySamples.append(utils.to_categorical(t, nClasses))\n",
        "\n",
        "  xSamples = np.array(xSamples)\n",
        "  ySamples = np.array(ySamples)\n",
        "\n",
        "  return (xSamples, ySamples)"
      ],
      "execution_count": null,
      "outputs": []
    },
    {
      "cell_type": "code",
      "metadata": {
        "id": "eZHk_COBatPt"
      },
      "source": [
        "\n",
        "maxWordCount = 25000\n",
        "tokenizer = Tokenizer(num_words=maxWordCount, lower=True, split=' ', oov_token='unknown', char_level=False)\n",
        "tokenizer.fit_on_texts(trainText)\n",
        "trainWordIndexes = tokenizer.texts_to_sequences(trainText)\n",
        "testWordIndexes = tokenizer.texts_to_sequences(testText)\n",
        "xLen = 3000\n",
        "step = 130\n",
        "\n",
        "xTrain, yTrain = createSetMultiClasses(trainWordIndexes, xLen, step)\n",
        "xTest, yTest = createSetMultiClasses(testWordIndexes, xLen, step)\n",
        "xTrain01 = tokenizer.sequences_to_matrix(xTrain.tolist())\n",
        "xTest01 = tokenizer.sequences_to_matrix(xTest.tolist())\n"
      ],
      "execution_count": null,
      "outputs": []
    },
    {
      "cell_type": "code",
      "metadata": {
        "id": "uBUPlOwAfMhr",
        "colab": {
          "base_uri": "https://localhost:8080/",
          "height": 357
        },
        "outputId": "e657e277-5e1b-49ba-a899-cd7544a5344d"
      },
      "source": [
        "\n",
        "model01 = Sequential()\n",
        "model01.add(BatchNormalization(input_shape=(maxWordCount,)))\n",
        "model01.add(Dense(175, activation='sigmoid'))\n",
        "model01.add(Dropout(0.3))\n",
        "model01.add(Dense(6, activation='sigmoid'))\n",
        "\n",
        "model01.compile(optimizer=Adam(learning_rate=0.0001), loss='mae', metrics=['accuracy'])\n",
        "\n",
        "history = model01.fit(xTrain01, yTrain,\n",
        "                      epochs=10,\n",
        "                      batch_size=64,\n",
        "                      validation_data=(xTest01, yTest))\n"
      ],
      "execution_count": null,
      "outputs": [
        {
          "output_type": "stream",
          "text": [
            "Epoch 1/10\n",
            "220/220 [==============================] - 2s 10ms/step - loss: 0.1596 - accuracy: 0.9547 - val_loss: 0.1500 - val_accuracy: 0.9224\n",
            "Epoch 2/10\n",
            "220/220 [==============================] - 2s 7ms/step - loss: 0.0382 - accuracy: 1.0000 - val_loss: 0.0942 - val_accuracy: 0.9675\n",
            "Epoch 3/10\n",
            "220/220 [==============================] - 2s 7ms/step - loss: 0.0241 - accuracy: 1.0000 - val_loss: 0.0797 - val_accuracy: 0.9702\n",
            "Epoch 4/10\n",
            "220/220 [==============================] - 2s 7ms/step - loss: 0.0182 - accuracy: 1.0000 - val_loss: 0.0723 - val_accuracy: 0.9692\n",
            "Epoch 5/10\n",
            "220/220 [==============================] - 2s 7ms/step - loss: 0.0143 - accuracy: 1.0000 - val_loss: 0.0676 - val_accuracy: 0.9692\n",
            "Epoch 6/10\n",
            "220/220 [==============================] - 2s 7ms/step - loss: 0.0118 - accuracy: 1.0000 - val_loss: 0.0640 - val_accuracy: 0.9708\n",
            "Epoch 7/10\n",
            "220/220 [==============================] - 2s 7ms/step - loss: 0.0099 - accuracy: 1.0000 - val_loss: 0.0606 - val_accuracy: 0.9702\n",
            "Epoch 8/10\n",
            "220/220 [==============================] - 2s 7ms/step - loss: 0.0083 - accuracy: 1.0000 - val_loss: 0.0575 - val_accuracy: 0.9694\n",
            "Epoch 9/10\n",
            "220/220 [==============================] - 2s 7ms/step - loss: 0.0071 - accuracy: 1.0000 - val_loss: 0.0551 - val_accuracy: 0.9704\n",
            "Epoch 10/10\n",
            "220/220 [==============================] - 2s 7ms/step - loss: 0.0062 - accuracy: 1.0000 - val_loss: 0.0526 - val_accuracy: 0.9717\n"
          ],
          "name": "stdout"
        }
      ]
    },
    {
      "cell_type": "code",
      "metadata": {
        "id": "GvEa1Yo24RI1",
        "colab": {
          "base_uri": "https://localhost:8080/",
          "height": 156
        },
        "outputId": "ace23903-b169-41d8-cf9b-72e68965126e"
      },
      "source": [
        "model01.save('/content/drive/My Drive/Colab Notebooks/17 Обработка текстов/Saved model writers')"
      ],
      "execution_count": null,
      "outputs": [
        {
          "output_type": "stream",
          "text": [
            "WARNING:tensorflow:From /usr/local/lib/python3.6/dist-packages/tensorflow/python/training/tracking/tracking.py:111: Model.state_updates (from tensorflow.python.keras.engine.training) is deprecated and will be removed in a future version.\n",
            "Instructions for updating:\n",
            "This property should not be used in TensorFlow 2.0, as updates are applied automatically.\n",
            "WARNING:tensorflow:From /usr/local/lib/python3.6/dist-packages/tensorflow/python/training/tracking/tracking.py:111: Layer.updates (from tensorflow.python.keras.engine.base_layer) is deprecated and will be removed in a future version.\n",
            "Instructions for updating:\n",
            "This property should not be used in TensorFlow 2.0, as updates are applied automatically.\n",
            "INFO:tensorflow:Assets written to: /content/drive/My Drive/Colab Notebooks/17 Обработка текстов/Saved model writers/assets\n"
          ],
          "name": "stdout"
        }
      ]
    },
    {
      "cell_type": "code",
      "metadata": {
        "id": "QQiF6taGbkoR"
      },
      "source": [
        "# Представляем тестовую выборку в удобных для распознавания размерах\n",
        "def createTestMultiClasses(wordIndexes, xLen, step): #функция принимает последовательность индексов, размер окна, шаг окна\n",
        "\n",
        "  #Для каждого из 6 классов\n",
        "  #Создаём тестовую выборку из индексов\n",
        "  nClasses = len(wordIndexes) #Задаем количество классов\n",
        "  xTest6Classes01 = []               #Здесь будет список из всех классов, каждый размером \"кол-во окон в тексте * 20000 (при maxWordsCount=20000)\"\n",
        "  xTest6Classes = []                 #Здесь будет список массивов, каждый размером \"кол-во окон в тексте * длину окна\"(6 по 420*1000)\n",
        "  for wI in wordIndexes:                       #Для каждого тестового текста из последовательности индексов\n",
        "    sample = (getSetFromIndexes(wI, xLen, step)) #Тестовая выборка размером \"кол-во окон*длину окна\"(например, 420*1000)\n",
        "    xTest6Classes.append(sample)              # Добавляем в список\n",
        "    xTest6Classes01.append(tokenizer.sequences_to_matrix(sample)) #Трансформируется в Bag of Words в виде \"кол-во окон в тексте * 20000\"\n",
        "  xTest6Classes01 = np.array(xTest6Classes01)                     #И добавляется к нашему списку, \n",
        "  xTest6Classes = np.array(xTest6Classes)                     #И добавляется к нашему списку, \n",
        "  \n",
        "  return xTest6Classes01, xTest6Classes  #функция вернёт тестовые данные: TestBag 6 классов на n*20000 и xTestEm 6 по n*1000\n",
        "\n",
        "# Распознаём тестовую выборку и выводим результаты\n",
        "def recognizeMultiClass(model, xTest, modelName):\n",
        "  print(\"НЕЙРОНКА: \", modelName)\n",
        "  print()\n",
        "  \n",
        "  totalSumRec = 0 # Сумма всех правильных ответов\n",
        "  \n",
        "  #Проходим по всем классам\n",
        "  for i in range(nClasses):\n",
        "    #Получаем результаты распознавания класса по блокам слов длины xLen\n",
        "    currPred = model.predict(xTest[i])\n",
        "    #Определяем номер распознанного класса для каждохо блока слов длины xLen\n",
        "    currOut = np.argmax(currPred, axis=1)\n",
        "\n",
        "    evVal = []\n",
        "    for j in range(nClasses):\n",
        "      evVal.append(len(currOut[currOut==j])/len(xTest[i]))\n",
        "\n",
        "    totalSumRec += len(currOut[currOut==i])\n",
        "    recognizedClass = np.argmax(evVal) #Определяем, какой класс в итоге за какой был распознан\n",
        "    \n",
        "    #Выводим результаты распознавания по текущему классу\n",
        "    isRecognized = \"Это НЕПРАВИЛЬНЫЙ ответ!\"\n",
        "    if (recognizedClass == i):\n",
        "      isRecognized = \"Это ПРАВИЛЬНЫЙ ответ!\"\n",
        "    str1 = 'Класс: ' + className[i] + \" \" * (11 - len(className[i])) + str(int(100*evVal[i])) + \"% сеть отнесла к классу \" + className[recognizedClass]\n",
        "    print(str1, \" \" * (55-len(str1)), isRecognized, sep='')\n",
        "  \n",
        "  #Выводим средний процент распознавания по всем классам вместе\n",
        "  print()\n",
        "  sumCount = 0\n",
        "  for i in range(nClasses):\n",
        "    sumCount += len(xTest[i])\n",
        "  print(\"Средний процент распознавания \", int(100*totalSumRec/sumCount), \"%\", sep='')\n",
        "\n",
        "  print()\n",
        "  \n",
        "  return totalSumRec/sumCount"
      ],
      "execution_count": null,
      "outputs": []
    },
    {
      "cell_type": "code",
      "metadata": {
        "id": "3fkXT4Uzd-5z"
      },
      "source": [
        "xTest6Classes01, x2 = createTestMultiClasses(testWordIndexes, xLen, step) #Преобразование тестовой выборки"
      ],
      "execution_count": null,
      "outputs": []
    },
    {
      "cell_type": "code",
      "metadata": {
        "id": "3a0N6Cx3eCLM",
        "colab": {
          "base_uri": "https://localhost:8080/",
          "height": 204
        },
        "outputId": "f58dc6a3-96ee-40ce-e56c-1f52efedafce"
      },
      "source": [
        "#Проверяем точность нейронки обученной на bag of words\n",
        "pred = recognizeMultiClass(model01, xTest6Classes01, \"Тексты 01 + Dense\")"
      ],
      "execution_count": null,
      "outputs": [
        {
          "output_type": "stream",
          "text": [
            "НЕЙРОНКА:  Тексты 01 + Dense\n",
            "\n",
            "Класс: О. Генри   100% сеть отнесла к классу О. Генри  Это ПРАВИЛЬНЫЙ ответ!\n",
            "Класс: Стругацкие 93% сеть отнесла к классу Стругацкие Это ПРАВИЛЬНЫЙ ответ!\n",
            "Класс: Булгаков   98% сеть отнесла к классу Булгаков   Это ПРАВИЛЬНЫЙ ответ!\n",
            "Класс: Саймак    100% сеть отнесла к классу Саймак   Это ПРАВИЛЬНЫЙ ответ!\n",
            "Класс: Фрай      94% сеть отнесла к классу Фрай      Это ПРАВИЛЬНЫЙ ответ!\n",
            "Класс: Брэдберри  100% сеть отнесла к классу Брэдберри Это ПРАВИЛЬНЫЙ ответ!\n",
            "\n",
            "Средний процент распознавания 97%\n",
            "\n"
          ],
          "name": "stdout"
        }
      ]
    }
  ]
}