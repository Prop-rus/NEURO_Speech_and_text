{
  "nbformat": 4,
  "nbformat_minor": 0,
  "metadata": {
    "colab": {
      "name": "ДЗ18 Власов АЛ - 2",
      "provenance": [],
      "toc_visible": true
    },
    "kernelspec": {
      "name": "python3",
      "display_name": "Python 3"
    },
    "accelerator": "GPU"
  },
  "cells": [
    {
      "cell_type": "markdown",
      "metadata": {
        "id": "5KPyQBKSeQ-e"
      },
      "source": [
        "# Импорт"
      ]
    },
    {
      "cell_type": "code",
      "metadata": {
        "id": "zxfiZN2WeDSh",
        "colab": {
          "base_uri": "https://localhost:8080/"
        },
        "outputId": "76202f95-b167-4106-8314-d693322eb3f0"
      },
      "source": [
        "from google.colab import files\n",
        "import numpy as np\n",
        "import pandas as pd\n",
        "import matplotlib.pyplot as plt\n",
        "from tensorflow.keras import utils\n",
        "from tensorflow.keras.models import Sequential, load_model\n",
        "from tensorflow.keras.layers import Dropout, Dense, BatchNormalization, Embedding, Flatten, Activation\n",
        "from tensorflow.keras.layers import Conv1D, SpatialDropout1D, MaxPooling1D, GlobalAveragePooling1D, GlobalMaxPooling1D\n",
        "from tensorflow.keras.layers import LSTM, GRU, SimpleRNN, Bidirectional\n",
        "from tensorflow.keras.optimizers import Adam, RMSprop\n",
        "from tensorflow.keras.callbacks import LambdaCallback, ModelCheckpoint\n",
        "\n",
        "from keras.preprocessing.text import Tokenizer, text_to_word_sequence\n",
        "from sklearn.model_selection import train_test_split\n",
        "import os\n",
        "import re\n",
        "!pip install pymorphy2\n",
        "import pymorphy2\n",
        "!pip install pymorphy2-dicts-ru\n",
        "!pip install pymorphy2-dicts\n"
      ],
      "execution_count": null,
      "outputs": [
        {
          "output_type": "stream",
          "text": [
            "Collecting pymorphy2\n",
            "\u001b[?25l  Downloading https://files.pythonhosted.org/packages/07/57/b2ff2fae3376d4f3c697b9886b64a54b476e1a332c67eee9f88e7f1ae8c9/pymorphy2-0.9.1-py3-none-any.whl (55kB)\n",
            "\u001b[K     |████████████████████████████████| 61kB 7.7MB/s \n",
            "\u001b[?25hCollecting dawg-python>=0.7.1\n",
            "  Downloading https://files.pythonhosted.org/packages/6a/84/ff1ce2071d4c650ec85745766c0047ccc3b5036f1d03559fd46bb38b5eeb/DAWG_Python-0.7.2-py2.py3-none-any.whl\n",
            "Collecting pymorphy2-dicts-ru<3.0,>=2.4\n",
            "\u001b[?25l  Downloading https://files.pythonhosted.org/packages/3a/79/bea0021eeb7eeefde22ef9e96badf174068a2dd20264b9a378f2be1cdd9e/pymorphy2_dicts_ru-2.4.417127.4579844-py2.py3-none-any.whl (8.2MB)\n",
            "\u001b[K     |████████████████████████████████| 8.2MB 28.1MB/s \n",
            "\u001b[?25hRequirement already satisfied: docopt>=0.6 in /usr/local/lib/python3.6/dist-packages (from pymorphy2) (0.6.2)\n",
            "Installing collected packages: dawg-python, pymorphy2-dicts-ru, pymorphy2\n",
            "Successfully installed dawg-python-0.7.2 pymorphy2-0.9.1 pymorphy2-dicts-ru-2.4.417127.4579844\n",
            "Requirement already satisfied: pymorphy2-dicts-ru in /usr/local/lib/python3.6/dist-packages (2.4.417127.4579844)\n",
            "Collecting pymorphy2-dicts\n",
            "\u001b[?25l  Downloading https://files.pythonhosted.org/packages/02/51/2465fd4f72328ab50877b54777764d928da8cb15b74e2680fc1bd8cb3173/pymorphy2_dicts-2.4.393442.3710985-py2.py3-none-any.whl (7.1MB)\n",
            "\u001b[K     |████████████████████████████████| 7.1MB 9.2MB/s \n",
            "\u001b[?25hInstalling collected packages: pymorphy2-dicts\n",
            "Successfully installed pymorphy2-dicts-2.4.393442.3710985\n"
          ],
          "name": "stdout"
        }
      ]
    },
    {
      "cell_type": "code",
      "metadata": {
        "colab": {
          "base_uri": "https://localhost:8080/"
        },
        "id": "kZAmK7V53Ex5",
        "outputId": "c6279d12-fdcd-4229-b0ae-15862d655172"
      },
      "source": [
        "!python --version"
      ],
      "execution_count": null,
      "outputs": [
        {
          "output_type": "stream",
          "text": [
            "Python 3.6.9\n"
          ],
          "name": "stdout"
        }
      ]
    },
    {
      "cell_type": "code",
      "metadata": {
        "id": "QKVdV5omhB1V",
        "colab": {
          "base_uri": "https://localhost:8080/",
          "height": 34
        },
        "outputId": "adc4aa05-40b7-4181-fbee-89983638794a"
      },
      "source": [
        "from google.colab import drive\n",
        "drive.mount('/content/drive')"
      ],
      "execution_count": null,
      "outputs": [
        {
          "output_type": "stream",
          "text": [
            "Mounted at /content/drive\n"
          ],
          "name": "stdout"
        }
      ]
    },
    {
      "cell_type": "markdown",
      "metadata": {
        "id": "jWbTJh4MSXzR"
      },
      "source": [
        "# Light"
      ]
    },
    {
      "cell_type": "code",
      "metadata": {
        "id": "mMle9TuqiH-z"
      },
      "source": [
        "def readText(fileName):\n",
        "  f = open(fileName, 'r')\n",
        "  text = f.read()\n",
        "  text = text.replace('\\n', ' ')\n",
        "  return text\n",
        "className = [\"О. Генри\", \"Стругацкие\", \"Булгаков\", \"Саймак\", \"Фрай\", \"Брэдберри\"]\n",
        "nClasses = len(className)\n",
        "\n",
        "trainText = []\n",
        "testText = []\n",
        "\n",
        "trainText.append(readText('/content/drive/My Drive/Colab Notebooks/17 Обработка текстов/Писатели/(Булгаков) Обучающая_5 вместе.txt'))\n",
        "trainText.append(readText('/content/drive/My Drive/Colab Notebooks/17 Обработка текстов/Писатели/(Клиффорд_Саймак) Обучающая_5 вместе.txt'))\n",
        "trainText.append(readText('/content/drive/My Drive/Colab Notebooks/17 Обработка текстов/Писатели/(Макс Фрай) Обучающая_5 вместе.txt'))\n",
        "trainText.append(readText('/content/drive/My Drive/Colab Notebooks/17 Обработка текстов/Писатели/(О. Генри) Обучающая_50 вместе.txt'))\n",
        "trainText.append(readText('/content/drive/My Drive/Colab Notebooks/17 Обработка текстов/Писатели/(Рэй Брэдберри) Обучающая_22 вместе.txt'))\n",
        "trainText.append(readText('/content/drive/My Drive/Colab Notebooks/17 Обработка текстов/Писатели/(Стругацкие) Обучающая_5 вместе.txt')) \n",
        "\n",
        "testText.append(readText('/content/drive/My Drive/Colab Notebooks/17 Обработка текстов/Писатели/(Булгаков) Тестовая_2 вместе.txt'))\n",
        "testText.append(readText('/content/drive/My Drive/Colab Notebooks/17 Обработка текстов/Писатели/(Клиффорд_Саймак) Тестовая_2 вместе.txt'))\n",
        "testText.append(readText('/content/drive/My Drive/Colab Notebooks/17 Обработка текстов/Писатели/(Макс Фрай) Тестовая_2 вместе.txt'))\n",
        "testText.append(readText('/content/drive/My Drive/Colab Notebooks/17 Обработка текстов/Писатели/(О. Генри) Тестовая_20 вместе.txt'))\n",
        "testText.append(readText('/content/drive/My Drive/Colab Notebooks/17 Обработка текстов/Писатели/(Рэй Брэдберри) Тестовая_8 вместе.txt'))\n",
        "testText.append(readText('/content/drive/My Drive/Colab Notebooks/17 Обработка текстов/Писатели/(Стругацкие) Тестовая_2 вместе.txt'))\n",
        "\n",
        "\n",
        "\n"
      ],
      "execution_count": null,
      "outputs": []
    },
    {
      "cell_type": "code",
      "metadata": {
        "id": "A6LVP-lBI4rM"
      },
      "source": [
        "def getSetFromIndexes(wordIndexes, xLen, step):\n",
        "  xSample = []\n",
        "  wordsLen = len(wordIndexes)\n",
        "  index = 0\n",
        "  while (index + xLen <= wordsLen):\n",
        "    xSample.append(wordIndexes[index:index+xLen])\n",
        "    index +=step\n",
        "  return xSample\n",
        "\n",
        "def createSetMultiClasses(wordIndexes, xLen, step):\n",
        "  nClasses = len(wordIndexes)\n",
        "  classesXSamples = []\n",
        "  for wI in wordIndexes:\n",
        "    classesXSamples.append(getSetFromIndexes(wI, xLen, step))\n",
        "  \n",
        "  xSamples = []\n",
        "  ySamples = []\n",
        "\n",
        "  for t in range(nClasses):\n",
        "    xT = classesXSamples[t]\n",
        "    for i in range(len(xT)):\n",
        "      xSamples.append(xT[i])\n",
        "      ySamples.append(utils.to_categorical(t, nClasses))\n",
        "\n",
        "  xSamples = np.array(xSamples)\n",
        "  ySamples = np.array(ySamples)\n",
        "\n",
        "  return (xSamples, ySamples)"
      ],
      "execution_count": null,
      "outputs": []
    },
    {
      "cell_type": "code",
      "metadata": {
        "id": "vjm7L-KekQtg"
      },
      "source": [
        "maxWordsCount = 20000\n",
        "tokenizer = Tokenizer(num_words=maxWordsCount, filters='–—!\"#$%&()*+,-./:;<=>?@[\\\\]^_`{|}~\\t\\n\\xa0–\\ufeff', lower=True,\n",
        "                      split=' ', char_level=False, oov_token='unknown')\n",
        "tokenizer.fit_on_texts(trainText)\n",
        "items = list(tokenizer.word_index.items())"
      ],
      "execution_count": null,
      "outputs": []
    },
    {
      "cell_type": "code",
      "metadata": {
        "id": "tU0LOrlclla9"
      },
      "source": [
        "  trainWordIndexes = tokenizer.texts_to_sequences(trainText)\n",
        "  testWordIndexes = tokenizer.texts_to_sequences(testText)\n",
        "  xLen = 1000\n",
        "  step = 100\n",
        "\n",
        "  xTrain, yTrain = createSetMultiClasses(trainWordIndexes, xLen, step)\n",
        "  xTest, yTest = createSetMultiClasses(testWordIndexes, xLen, step)"
      ],
      "execution_count": null,
      "outputs": []
    },
    {
      "cell_type": "markdown",
      "metadata": {
        "id": "VKBS0YoRSfgQ"
      },
      "source": [
        "## Embedding + Dense сеть.\n"
      ]
    },
    {
      "cell_type": "code",
      "metadata": {
        "id": "msulFSONHt_N",
        "colab": {
          "base_uri": "https://localhost:8080/",
          "height": 1000
        },
        "outputId": "765ec0f2-3ff9-4a6a-d635-f758f18a8696"
      },
      "source": [
        "# Embedding + Dense\n",
        "modelD = Sequential()\n",
        "modelD.add(Embedding(maxWordsCount, 50, input_length=xLen))\n",
        "modelD.add(SpatialDropout1D(0.2))\n",
        "modelD.add(Flatten())\n",
        "modelD.add(BatchNormalization())\n",
        "modelD.add(Dense(200, activation=\"relu\"))\n",
        "modelD.add(Dropout(0.2))\n",
        "modelD.add(BatchNormalization())\n",
        "modelD.add(Dense(6, activation='sigmoid'))\n",
        "\n",
        "modelD.compile(optimizer='adam', \n",
        "              loss='categorical_crossentropy', \n",
        "              metrics=['accuracy'])\n",
        "\n",
        "history = modelD.fit(xTrain, \n",
        "                    yTrain, \n",
        "                    epochs=50,\n",
        "                    batch_size=128,\n",
        "                    validation_data=(xTest, yTest))\n",
        "\n",
        "\n",
        "plt.plot(history.history['accuracy'], \n",
        "         label='Доля верных ответов на обучающем наборе')\n",
        "plt.plot(history.history['val_accuracy'], \n",
        "         label='Доля верных ответов на проверочном наборе')\n",
        "plt.xlabel('Эпоха обучения')\n",
        "plt.ylabel('Доля верных ответов')\n",
        "plt.legend()\n",
        "plt.show()"
      ],
      "execution_count": null,
      "outputs": [
        {
          "output_type": "stream",
          "text": [
            "Epoch 1/50\n",
            "138/138 [==============================] - 5s 39ms/step - loss: 1.0215 - accuracy: 0.6815 - val_loss: 3.0821 - val_accuracy: 0.2928\n",
            "Epoch 2/50\n",
            "138/138 [==============================] - 5s 37ms/step - loss: 0.3323 - accuracy: 0.9509 - val_loss: 2.8104 - val_accuracy: 0.2928\n",
            "Epoch 3/50\n",
            "138/138 [==============================] - 5s 37ms/step - loss: 0.1747 - accuracy: 0.9852 - val_loss: 1.8187 - val_accuracy: 0.3259\n",
            "Epoch 4/50\n",
            "138/138 [==============================] - 5s 37ms/step - loss: 0.0446 - accuracy: 0.9999 - val_loss: 1.3641 - val_accuracy: 0.4866\n",
            "Epoch 5/50\n",
            "138/138 [==============================] - 5s 36ms/step - loss: 0.0057 - accuracy: 0.9999 - val_loss: 0.9097 - val_accuracy: 0.6879\n",
            "Epoch 6/50\n",
            "138/138 [==============================] - 5s 37ms/step - loss: 0.0022 - accuracy: 1.0000 - val_loss: 0.8094 - val_accuracy: 0.7187\n",
            "Epoch 7/50\n",
            "138/138 [==============================] - 5s 36ms/step - loss: 0.0014 - accuracy: 1.0000 - val_loss: 0.8017 - val_accuracy: 0.7263\n",
            "Epoch 8/50\n",
            "138/138 [==============================] - 5s 36ms/step - loss: 9.7286e-04 - accuracy: 1.0000 - val_loss: 0.8043 - val_accuracy: 0.7237\n",
            "Epoch 9/50\n",
            "138/138 [==============================] - 5s 37ms/step - loss: 7.5787e-04 - accuracy: 1.0000 - val_loss: 0.7866 - val_accuracy: 0.7299\n",
            "Epoch 10/50\n",
            "138/138 [==============================] - 5s 37ms/step - loss: 5.4747e-04 - accuracy: 1.0000 - val_loss: 0.7923 - val_accuracy: 0.7303\n",
            "Epoch 11/50\n",
            "138/138 [==============================] - 5s 38ms/step - loss: 4.4586e-04 - accuracy: 1.0000 - val_loss: 0.7758 - val_accuracy: 0.7361\n",
            "Epoch 12/50\n",
            "138/138 [==============================] - 5s 38ms/step - loss: 3.7698e-04 - accuracy: 1.0000 - val_loss: 0.9039 - val_accuracy: 0.6977\n",
            "Epoch 13/50\n",
            "138/138 [==============================] - 5s 36ms/step - loss: 3.1594e-04 - accuracy: 1.0000 - val_loss: 0.8059 - val_accuracy: 0.7287\n",
            "Epoch 14/50\n",
            "138/138 [==============================] - 5s 37ms/step - loss: 2.5374e-04 - accuracy: 1.0000 - val_loss: 0.7708 - val_accuracy: 0.7438\n",
            "Epoch 15/50\n",
            "138/138 [==============================] - 5s 37ms/step - loss: 2.2003e-04 - accuracy: 1.0000 - val_loss: 0.7869 - val_accuracy: 0.7382\n",
            "Epoch 16/50\n",
            "138/138 [==============================] - 5s 37ms/step - loss: 1.8357e-04 - accuracy: 1.0000 - val_loss: 0.7900 - val_accuracy: 0.7341\n",
            "Epoch 17/50\n",
            "138/138 [==============================] - 5s 36ms/step - loss: 1.6432e-04 - accuracy: 1.0000 - val_loss: 0.7932 - val_accuracy: 0.7343\n",
            "Epoch 18/50\n",
            "138/138 [==============================] - 5s 37ms/step - loss: 1.4850e-04 - accuracy: 1.0000 - val_loss: 0.8011 - val_accuracy: 0.7338\n",
            "Epoch 19/50\n",
            "138/138 [==============================] - 5s 37ms/step - loss: 1.2236e-04 - accuracy: 1.0000 - val_loss: 0.8160 - val_accuracy: 0.7300\n",
            "Epoch 20/50\n",
            "138/138 [==============================] - 5s 37ms/step - loss: 1.4091e-04 - accuracy: 1.0000 - val_loss: 0.9335 - val_accuracy: 0.7082\n",
            "Epoch 21/50\n",
            "138/138 [==============================] - 5s 37ms/step - loss: 1.0023e-04 - accuracy: 1.0000 - val_loss: 0.8720 - val_accuracy: 0.7158\n",
            "Epoch 22/50\n",
            "138/138 [==============================] - 5s 36ms/step - loss: 9.3352e-05 - accuracy: 1.0000 - val_loss: 0.8797 - val_accuracy: 0.7173\n",
            "Epoch 23/50\n",
            "138/138 [==============================] - 5s 37ms/step - loss: 8.9234e-05 - accuracy: 1.0000 - val_loss: 0.8978 - val_accuracy: 0.7121\n",
            "Epoch 24/50\n",
            "138/138 [==============================] - 5s 37ms/step - loss: 7.8061e-05 - accuracy: 1.0000 - val_loss: 0.7930 - val_accuracy: 0.7418\n",
            "Epoch 25/50\n",
            "138/138 [==============================] - 5s 37ms/step - loss: 7.1918e-05 - accuracy: 1.0000 - val_loss: 0.8386 - val_accuracy: 0.7281\n",
            "Epoch 26/50\n",
            "138/138 [==============================] - 5s 36ms/step - loss: 6.1814e-05 - accuracy: 1.0000 - val_loss: 0.8574 - val_accuracy: 0.7261\n",
            "Epoch 27/50\n",
            "138/138 [==============================] - 5s 37ms/step - loss: 5.5127e-05 - accuracy: 1.0000 - val_loss: 0.8309 - val_accuracy: 0.7346\n",
            "Epoch 28/50\n",
            "138/138 [==============================] - 5s 36ms/step - loss: 5.0083e-05 - accuracy: 1.0000 - val_loss: 0.8103 - val_accuracy: 0.7412\n",
            "Epoch 29/50\n",
            "138/138 [==============================] - 5s 36ms/step - loss: 4.7899e-05 - accuracy: 1.0000 - val_loss: 0.7795 - val_accuracy: 0.7500\n",
            "Epoch 30/50\n",
            "138/138 [==============================] - 5s 37ms/step - loss: 4.5103e-05 - accuracy: 1.0000 - val_loss: 0.8017 - val_accuracy: 0.7412\n",
            "Epoch 31/50\n",
            "138/138 [==============================] - 5s 37ms/step - loss: 3.9351e-05 - accuracy: 1.0000 - val_loss: 0.7713 - val_accuracy: 0.7488\n",
            "Epoch 32/50\n",
            "138/138 [==============================] - 5s 38ms/step - loss: 3.7098e-05 - accuracy: 1.0000 - val_loss: 0.8239 - val_accuracy: 0.7341\n",
            "Epoch 33/50\n",
            "138/138 [==============================] - 5s 37ms/step - loss: 3.4799e-05 - accuracy: 1.0000 - val_loss: 0.8116 - val_accuracy: 0.7457\n",
            "Epoch 34/50\n",
            "138/138 [==============================] - 5s 36ms/step - loss: 3.0097e-05 - accuracy: 1.0000 - val_loss: 0.8138 - val_accuracy: 0.7384\n",
            "Epoch 35/50\n",
            "138/138 [==============================] - 5s 37ms/step - loss: 2.6109e-05 - accuracy: 1.0000 - val_loss: 0.7561 - val_accuracy: 0.7578\n",
            "Epoch 36/50\n",
            "138/138 [==============================] - 5s 37ms/step - loss: 2.2713e-05 - accuracy: 1.0000 - val_loss: 0.7677 - val_accuracy: 0.7541\n",
            "Epoch 37/50\n",
            "138/138 [==============================] - 5s 37ms/step - loss: 2.3056e-05 - accuracy: 1.0000 - val_loss: 0.7661 - val_accuracy: 0.7559\n",
            "Epoch 38/50\n",
            "138/138 [==============================] - 5s 37ms/step - loss: 1.9247e-05 - accuracy: 1.0000 - val_loss: 0.7653 - val_accuracy: 0.7574\n",
            "Epoch 39/50\n",
            "138/138 [==============================] - 5s 37ms/step - loss: 1.9500e-05 - accuracy: 1.0000 - val_loss: 0.7762 - val_accuracy: 0.7556\n",
            "Epoch 40/50\n",
            "138/138 [==============================] - 5s 37ms/step - loss: 1.6851e-05 - accuracy: 1.0000 - val_loss: 0.7952 - val_accuracy: 0.7505\n",
            "Epoch 41/50\n",
            "138/138 [==============================] - 5s 37ms/step - loss: 1.5701e-05 - accuracy: 1.0000 - val_loss: 0.8080 - val_accuracy: 0.7444\n",
            "Epoch 42/50\n",
            "138/138 [==============================] - 5s 37ms/step - loss: 1.5952e-05 - accuracy: 1.0000 - val_loss: 0.8331 - val_accuracy: 0.7396\n",
            "Epoch 43/50\n",
            "138/138 [==============================] - 5s 37ms/step - loss: 1.4391e-05 - accuracy: 1.0000 - val_loss: 0.7876 - val_accuracy: 0.7523\n",
            "Epoch 44/50\n",
            "138/138 [==============================] - 5s 37ms/step - loss: 1.3221e-05 - accuracy: 1.0000 - val_loss: 0.8386 - val_accuracy: 0.7379\n",
            "Epoch 45/50\n",
            "138/138 [==============================] - 5s 36ms/step - loss: 1.2853e-05 - accuracy: 1.0000 - val_loss: 0.8036 - val_accuracy: 0.7503\n",
            "Epoch 46/50\n",
            "138/138 [==============================] - 5s 36ms/step - loss: 1.1291e-05 - accuracy: 1.0000 - val_loss: 0.8155 - val_accuracy: 0.7509\n",
            "Epoch 47/50\n",
            "138/138 [==============================] - 5s 36ms/step - loss: 1.0177e-05 - accuracy: 1.0000 - val_loss: 0.7966 - val_accuracy: 0.7514\n",
            "Epoch 48/50\n",
            "138/138 [==============================] - 5s 36ms/step - loss: 0.0330 - accuracy: 0.9901 - val_loss: 2.5893 - val_accuracy: 0.6187\n",
            "Epoch 49/50\n",
            "138/138 [==============================] - 5s 37ms/step - loss: 0.0162 - accuracy: 0.9947 - val_loss: 1.1453 - val_accuracy: 0.7125\n",
            "Epoch 50/50\n",
            "138/138 [==============================] - 5s 37ms/step - loss: 0.0018 - accuracy: 0.9997 - val_loss: 1.0196 - val_accuracy: 0.7149\n"
          ],
          "name": "stdout"
        },
        {
          "output_type": "display_data",
          "data": {
            "image/png": "[encoded data removed]",
            "text/plain": [
              "<Figure size 432x288 with 1 Axes>"
            ]
          },
          "metadata": {
            "tags": [],
            "needs_background": "light"
          }
        }
      ]
    },
    {
      "cell_type": "markdown",
      "metadata": {
        "id": "W3Yni7d2Sp5O"
      },
      "source": [
        "## Embedding + LSTM сеть."
      ]
    },
    {
      "cell_type": "code",
      "metadata": {
        "id": "ofT97lxuKsgP",
        "colab": {
          "base_uri": "https://localhost:8080/",
          "height": 1000
        },
        "outputId": "74145863-13c0-4735-cd01-04a5097c742a"
      },
      "source": [
        "modelLSTM = Sequential()\n",
        "modelLSTM.add(Embedding(maxWordsCount, 50, input_length=xLen))\n",
        "modelLSTM.add(SpatialDropout1D(0.2))\n",
        "modelLSTM.add(BatchNormalization())\n",
        "modelLSTM.add(LSTM(4, return_sequences=True))\n",
        "modelLSTM.add(Dropout(0.4))\n",
        "modelLSTM.add(BatchNormalization())\n",
        "modelLSTM.add(Dense(100, activation='relu'))\n",
        "modelLSTM.add(Dropout(0.4))\n",
        "modelLSTM.add(BatchNormalization())\n",
        "modelLSTM.add(Flatten())\n",
        "modelLSTM.add(Dense(6, activation='softmax'))\n",
        "\n",
        "modelLSTM.compile(optimizer = 'rmsprop', loss= 'categorical_crossentropy',\n",
        "                  metrics=['accuracy'])\n",
        "history = modelLSTM.fit(xTrain, yTrain,\n",
        "                        epochs = 50,\n",
        "                        batch_size=200,\n",
        "                        validation_data=(xTest, yTest))\n",
        "plt.plot(history.history['accuracy'], \n",
        "         label='Доля верных ответов на обучающем наборе')\n",
        "plt.plot(history.history['val_accuracy'], \n",
        "         label='Доля верных ответов на проверочном наборе')\n",
        "plt.xlabel('Эпоха обучения')\n",
        "plt.ylabel('Доля верных ответов')\n",
        "plt.legend()\n",
        "plt.show()\n"
      ],
      "execution_count": null,
      "outputs": [
        {
          "output_type": "stream",
          "text": [
            "Epoch 1/50\n",
            "89/89 [==============================] - 9s 106ms/step - loss: 0.9910 - accuracy: 0.7982 - val_loss: 5.2757 - val_accuracy: 0.0781\n",
            "Epoch 2/50\n",
            "89/89 [==============================] - 9s 104ms/step - loss: 0.0471 - accuracy: 0.9891 - val_loss: 27.0089 - val_accuracy: 0.0781\n",
            "Epoch 3/50\n",
            "89/89 [==============================] - 9s 102ms/step - loss: 0.0304 - accuracy: 0.9939 - val_loss: 42.9507 - val_accuracy: 0.0781\n",
            "Epoch 4/50\n",
            "89/89 [==============================] - 9s 103ms/step - loss: 0.0258 - accuracy: 0.9959 - val_loss: 52.5934 - val_accuracy: 0.1954\n",
            "Epoch 5/50\n",
            "89/89 [==============================] - 9s 103ms/step - loss: 0.0195 - accuracy: 0.9965 - val_loss: 46.8603 - val_accuracy: 0.2531\n",
            "Epoch 6/50\n",
            "89/89 [==============================] - 9s 102ms/step - loss: 0.0310 - accuracy: 0.9958 - val_loss: 13.3663 - val_accuracy: 0.5171\n",
            "Epoch 7/50\n",
            "89/89 [==============================] - 9s 102ms/step - loss: 0.0280 - accuracy: 0.9964 - val_loss: 15.9692 - val_accuracy: 0.5361\n",
            "Epoch 8/50\n",
            "89/89 [==============================] - 9s 102ms/step - loss: 0.0253 - accuracy: 0.9969 - val_loss: 21.4305 - val_accuracy: 0.5646\n",
            "Epoch 9/50\n",
            "89/89 [==============================] - 9s 102ms/step - loss: 0.0177 - accuracy: 0.9977 - val_loss: 27.9485 - val_accuracy: 0.5975\n",
            "Epoch 10/50\n",
            "89/89 [==============================] - 9s 102ms/step - loss: 0.0217 - accuracy: 0.9978 - val_loss: 29.1943 - val_accuracy: 0.5412\n",
            "Epoch 11/50\n",
            "89/89 [==============================] - 9s 103ms/step - loss: 0.0272 - accuracy: 0.9978 - val_loss: 38.1721 - val_accuracy: 0.5818\n",
            "Epoch 12/50\n",
            "89/89 [==============================] - 9s 103ms/step - loss: 0.0264 - accuracy: 0.9977 - val_loss: 29.7636 - val_accuracy: 0.6006\n",
            "Epoch 13/50\n",
            "89/89 [==============================] - 9s 103ms/step - loss: 0.0237 - accuracy: 0.9983 - val_loss: 28.5172 - val_accuracy: 0.6026\n",
            "Epoch 14/50\n",
            "89/89 [==============================] - 9s 101ms/step - loss: 0.0183 - accuracy: 0.9982 - val_loss: 32.6921 - val_accuracy: 0.6005\n",
            "Epoch 15/50\n",
            "89/89 [==============================] - 9s 103ms/step - loss: 0.0233 - accuracy: 0.9977 - val_loss: 42.0177 - val_accuracy: 0.5893\n",
            "Epoch 16/50\n",
            "89/89 [==============================] - 9s 102ms/step - loss: 0.0144 - accuracy: 0.9987 - val_loss: 42.6241 - val_accuracy: 0.5220\n",
            "Epoch 17/50\n",
            "89/89 [==============================] - 9s 101ms/step - loss: 0.0211 - accuracy: 0.9982 - val_loss: 34.3150 - val_accuracy: 0.5947\n",
            "Epoch 18/50\n",
            "89/89 [==============================] - 9s 102ms/step - loss: 0.0150 - accuracy: 0.9993 - val_loss: 38.7980 - val_accuracy: 0.6032\n",
            "Epoch 19/50\n",
            "89/89 [==============================] - 9s 103ms/step - loss: 0.0127 - accuracy: 0.9989 - val_loss: 42.7238 - val_accuracy: 0.5727\n",
            "Epoch 20/50\n",
            "89/89 [==============================] - 9s 102ms/step - loss: 0.0280 - accuracy: 0.9983 - val_loss: 36.8645 - val_accuracy: 0.6014\n",
            "Epoch 21/50\n",
            "89/89 [==============================] - 9s 103ms/step - loss: 0.0189 - accuracy: 0.9984 - val_loss: 37.2780 - val_accuracy: 0.5912\n",
            "Epoch 22/50\n",
            "89/89 [==============================] - 9s 102ms/step - loss: 0.0168 - accuracy: 0.9988 - val_loss: 40.2629 - val_accuracy: 0.6272\n",
            "Epoch 23/50\n",
            "89/89 [==============================] - 9s 102ms/step - loss: 0.0103 - accuracy: 0.9990 - val_loss: 37.8779 - val_accuracy: 0.5918\n",
            "Epoch 24/50\n",
            "89/89 [==============================] - 9s 103ms/step - loss: 0.0229 - accuracy: 0.9987 - val_loss: 43.2488 - val_accuracy: 0.5613\n",
            "Epoch 25/50\n",
            "89/89 [==============================] - 9s 103ms/step - loss: 0.0142 - accuracy: 0.9993 - val_loss: 47.0858 - val_accuracy: 0.5733\n",
            "Epoch 26/50\n",
            "89/89 [==============================] - 9s 103ms/step - loss: 0.0109 - accuracy: 0.9990 - val_loss: 45.9478 - val_accuracy: 0.5619\n",
            "Epoch 27/50\n",
            "89/89 [==============================] - 9s 103ms/step - loss: 0.0233 - accuracy: 0.9986 - val_loss: 41.9707 - val_accuracy: 0.5778\n",
            "Epoch 28/50\n",
            "89/89 [==============================] - 9s 102ms/step - loss: 0.0206 - accuracy: 0.9989 - val_loss: 31.5444 - val_accuracy: 0.5858\n",
            "Epoch 29/50\n",
            "89/89 [==============================] - 9s 103ms/step - loss: 0.0132 - accuracy: 0.9990 - val_loss: 32.9838 - val_accuracy: 0.5988\n",
            "Epoch 30/50\n",
            "89/89 [==============================] - 9s 103ms/step - loss: 0.0059 - accuracy: 0.9995 - val_loss: 37.2944 - val_accuracy: 0.5985\n",
            "Epoch 31/50\n",
            "89/89 [==============================] - 9s 102ms/step - loss: 0.0088 - accuracy: 0.9990 - val_loss: 29.7911 - val_accuracy: 0.6135\n",
            "Epoch 32/50\n",
            "89/89 [==============================] - 9s 103ms/step - loss: 0.0253 - accuracy: 0.9982 - val_loss: 36.7132 - val_accuracy: 0.5763\n",
            "Epoch 33/50\n",
            "89/89 [==============================] - 9s 102ms/step - loss: 0.0178 - accuracy: 0.9991 - val_loss: 36.4584 - val_accuracy: 0.5833\n",
            "Epoch 34/50\n",
            "89/89 [==============================] - 9s 103ms/step - loss: 0.0194 - accuracy: 0.9988 - val_loss: 34.5735 - val_accuracy: 0.5395\n",
            "Epoch 35/50\n",
            "89/89 [==============================] - 9s 103ms/step - loss: 0.0152 - accuracy: 0.9989 - val_loss: 38.2822 - val_accuracy: 0.5453\n",
            "Epoch 36/50\n",
            "89/89 [==============================] - 9s 103ms/step - loss: 0.0203 - accuracy: 0.9988 - val_loss: 35.2861 - val_accuracy: 0.5769\n",
            "Epoch 37/50\n",
            "89/89 [==============================] - 9s 103ms/step - loss: 0.0058 - accuracy: 0.9995 - val_loss: 34.9448 - val_accuracy: 0.5761\n",
            "Epoch 38/50\n",
            "89/89 [==============================] - 9s 102ms/step - loss: 0.0182 - accuracy: 0.9988 - val_loss: 41.4366 - val_accuracy: 0.5198\n",
            "Epoch 39/50\n",
            "89/89 [==============================] - 9s 103ms/step - loss: 0.0109 - accuracy: 0.9992 - val_loss: 34.6172 - val_accuracy: 0.5618\n",
            "Epoch 40/50\n",
            "89/89 [==============================] - 9s 101ms/step - loss: 0.0100 - accuracy: 0.9992 - val_loss: 41.0549 - val_accuracy: 0.5745\n",
            "Epoch 41/50\n",
            "89/89 [==============================] - 9s 104ms/step - loss: 0.0112 - accuracy: 0.9990 - val_loss: 36.4723 - val_accuracy: 0.5970\n",
            "Epoch 42/50\n",
            "89/89 [==============================] - 9s 102ms/step - loss: 0.0139 - accuracy: 0.9990 - val_loss: 35.0516 - val_accuracy: 0.6002\n",
            "Epoch 43/50\n",
            "89/89 [==============================] - 9s 102ms/step - loss: 0.0139 - accuracy: 0.9992 - val_loss: 34.7230 - val_accuracy: 0.6148\n",
            "Epoch 44/50\n",
            "89/89 [==============================] - 9s 104ms/step - loss: 0.0123 - accuracy: 0.9991 - val_loss: 45.3628 - val_accuracy: 0.5932\n",
            "Epoch 45/50\n",
            "89/89 [==============================] - 9s 103ms/step - loss: 0.0086 - accuracy: 0.9990 - val_loss: 32.0295 - val_accuracy: 0.5734\n",
            "Epoch 46/50\n",
            "89/89 [==============================] - 9s 103ms/step - loss: 0.0125 - accuracy: 0.9990 - val_loss: 40.8648 - val_accuracy: 0.5476\n",
            "Epoch 47/50\n",
            "89/89 [==============================] - 9s 102ms/step - loss: 0.0125 - accuracy: 0.9992 - val_loss: 40.3389 - val_accuracy: 0.5698\n",
            "Epoch 48/50\n",
            "89/89 [==============================] - 9s 103ms/step - loss: 0.0142 - accuracy: 0.9991 - val_loss: 37.3946 - val_accuracy: 0.6068\n",
            "Epoch 49/50\n",
            "89/89 [==============================] - 9s 102ms/step - loss: 0.0075 - accuracy: 0.9995 - val_loss: 45.9124 - val_accuracy: 0.5685\n",
            "Epoch 50/50\n",
            "89/89 [==============================] - 9s 101ms/step - loss: 0.0071 - accuracy: 0.9994 - val_loss: 49.7953 - val_accuracy: 0.5845\n"
          ],
          "name": "stdout"
        },
        {
          "output_type": "display_data",
          "data": {
            "image/png": "[encoded data removed]",
            "text/plain": [
              "<Figure size 432x288 with 1 Axes>"
            ]
          },
          "metadata": {
            "tags": [],
            "needs_background": "light"
          }
        }
      ]
    },
    {
      "cell_type": "markdown",
      "metadata": {
        "id": "AqCTFSX3SsyF"
      },
      "source": [
        "## Embedding + Conv1D сеть."
      ]
    },
    {
      "cell_type": "code",
      "metadata": {
        "id": "BO2Y0Xg9MvWq",
        "colab": {
          "base_uri": "https://localhost:8080/",
          "height": 1000
        },
        "outputId": "af5a6f6f-428e-46fa-c9a3-defa52c6e7ba"
      },
      "source": [
        "modelConv = Sequential()\n",
        "modelConv.add(Embedding(maxWordsCount, 50, input_length=xLen))\n",
        "modelConv.add(SpatialDropout1D(0.2))\n",
        "modelConv.add(BatchNormalization())\n",
        "modelConv.add(Conv1D(20, 5, activation='relu'))\n",
        "modelConv.add(Conv1D(20, 5, activation='relu'))\n",
        "modelConv.add(MaxPooling1D(2))\n",
        "modelConv.add(Dropout(0.2))\n",
        "modelConv.add(BatchNormalization())\n",
        "modelConv.add(Flatten())\n",
        "modelConv.add(Dense(6, activation = 'softmax'))\n",
        "\n",
        "modelConv.compile(optimizer = 'rmsprop', loss= 'categorical_crossentropy',\n",
        "                  metrics=['accuracy'])\n",
        "history = modelConv.fit(xTrain, yTrain,\n",
        "                        epochs = 50,\n",
        "                        batch_size=200,\n",
        "                        validation_data=(xTest, yTest))\n",
        "plt.plot(history.history['accuracy'], \n",
        "         label='Доля верных ответов на обучающем наборе')\n",
        "plt.plot(history.history['val_accuracy'], \n",
        "         label='Доля верных ответов на проверочном наборе')\n",
        "plt.xlabel('Эпоха обучения')\n",
        "plt.ylabel('Доля верных ответов')\n",
        "plt.legend()\n",
        "plt.show()\n"
      ],
      "execution_count": null,
      "outputs": [
        {
          "output_type": "stream",
          "text": [
            "Epoch 1/50\n",
            "89/89 [==============================] - 5s 55ms/step - loss: 0.8669 - accuracy: 0.7014 - val_loss: 3.8410 - val_accuracy: 0.0781\n",
            "Epoch 2/50\n",
            "89/89 [==============================] - 5s 53ms/step - loss: 0.0057 - accuracy: 0.9988 - val_loss: 6.1219 - val_accuracy: 0.0781\n",
            "Epoch 3/50\n",
            "89/89 [==============================] - 5s 53ms/step - loss: 0.0018 - accuracy: 0.9994 - val_loss: 6.6996 - val_accuracy: 0.1007\n",
            "Epoch 4/50\n",
            "89/89 [==============================] - 5s 53ms/step - loss: 6.5549e-04 - accuracy: 0.9997 - val_loss: 8.4284 - val_accuracy: 0.0781\n",
            "Epoch 5/50\n",
            "89/89 [==============================] - 5s 53ms/step - loss: 4.0273e-04 - accuracy: 0.9999 - val_loss: 3.1697 - val_accuracy: 0.5047\n",
            "Epoch 6/50\n",
            "89/89 [==============================] - 5s 52ms/step - loss: 2.8156e-04 - accuracy: 0.9999 - val_loss: 4.3356 - val_accuracy: 0.4309\n",
            "Epoch 7/50\n",
            "89/89 [==============================] - 5s 52ms/step - loss: 5.1839e-04 - accuracy: 0.9999 - val_loss: 3.3367 - val_accuracy: 0.4493\n",
            "Epoch 8/50\n",
            "89/89 [==============================] - 5s 52ms/step - loss: 7.1953e-04 - accuracy: 0.9998 - val_loss: 2.4782 - val_accuracy: 0.5923\n",
            "Epoch 9/50\n",
            "89/89 [==============================] - 5s 52ms/step - loss: 8.1368e-04 - accuracy: 0.9998 - val_loss: 1.1859 - val_accuracy: 0.7626\n",
            "Epoch 10/50\n",
            "89/89 [==============================] - 5s 52ms/step - loss: 8.7699e-04 - accuracy: 0.9997 - val_loss: 2.7649 - val_accuracy: 0.6076\n",
            "Epoch 11/50\n",
            "89/89 [==============================] - 5s 52ms/step - loss: 2.0587e-04 - accuracy: 0.9999 - val_loss: 3.0931 - val_accuracy: 0.6150\n",
            "Epoch 12/50\n",
            "89/89 [==============================] - 5s 53ms/step - loss: 4.1233e-04 - accuracy: 0.9998 - val_loss: 4.5288 - val_accuracy: 0.5213\n",
            "Epoch 13/50\n",
            "89/89 [==============================] - 5s 52ms/step - loss: 5.0365e-04 - accuracy: 0.9998 - val_loss: 5.4966 - val_accuracy: 0.5110\n",
            "Epoch 14/50\n",
            "89/89 [==============================] - 5s 52ms/step - loss: 0.0011 - accuracy: 0.9997 - val_loss: 2.6699 - val_accuracy: 0.5973\n",
            "Epoch 15/50\n",
            "89/89 [==============================] - 5s 53ms/step - loss: 9.0250e-04 - accuracy: 0.9997 - val_loss: 3.0802 - val_accuracy: 0.5784\n",
            "Epoch 16/50\n",
            "89/89 [==============================] - 5s 52ms/step - loss: 8.2707e-04 - accuracy: 0.9998 - val_loss: 2.7993 - val_accuracy: 0.6688\n",
            "Epoch 17/50\n",
            "89/89 [==============================] - 5s 52ms/step - loss: 3.8278e-04 - accuracy: 0.9999 - val_loss: 2.1288 - val_accuracy: 0.7197\n",
            "Epoch 18/50\n",
            "89/89 [==============================] - 5s 52ms/step - loss: 7.3142e-04 - accuracy: 0.9997 - val_loss: 2.3413 - val_accuracy: 0.7124\n",
            "Epoch 19/50\n",
            "89/89 [==============================] - 5s 52ms/step - loss: 7.2600e-04 - accuracy: 0.9998 - val_loss: 1.5826 - val_accuracy: 0.7644\n",
            "Epoch 20/50\n",
            "89/89 [==============================] - 5s 53ms/step - loss: 8.8224e-04 - accuracy: 0.9998 - val_loss: 2.7204 - val_accuracy: 0.6746\n",
            "Epoch 21/50\n",
            "89/89 [==============================] - 5s 52ms/step - loss: 7.0371e-04 - accuracy: 0.9998 - val_loss: 2.0598 - val_accuracy: 0.7390\n",
            "Epoch 22/50\n",
            "89/89 [==============================] - 5s 53ms/step - loss: 4.0464e-04 - accuracy: 0.9998 - val_loss: 4.2465 - val_accuracy: 0.6145\n",
            "Epoch 23/50\n",
            "89/89 [==============================] - 5s 52ms/step - loss: 1.4681e-04 - accuracy: 0.9999 - val_loss: 1.4197 - val_accuracy: 0.7681\n",
            "Epoch 24/50\n",
            "89/89 [==============================] - 5s 52ms/step - loss: 1.3813e-04 - accuracy: 0.9999 - val_loss: 2.2827 - val_accuracy: 0.7127\n",
            "Epoch 25/50\n",
            "89/89 [==============================] - 5s 53ms/step - loss: 5.5297e-04 - accuracy: 0.9999 - val_loss: 2.6496 - val_accuracy: 0.6659\n",
            "Epoch 26/50\n",
            "89/89 [==============================] - 5s 52ms/step - loss: 5.5028e-04 - accuracy: 0.9999 - val_loss: 1.4710 - val_accuracy: 0.7929\n",
            "Epoch 27/50\n",
            "89/89 [==============================] - 5s 52ms/step - loss: 2.1110e-04 - accuracy: 0.9999 - val_loss: 2.7509 - val_accuracy: 0.6807\n",
            "Epoch 28/50\n",
            "89/89 [==============================] - 5s 53ms/step - loss: 2.2609e-04 - accuracy: 0.9998 - val_loss: 2.2393 - val_accuracy: 0.7205\n",
            "Epoch 29/50\n",
            "89/89 [==============================] - 5s 54ms/step - loss: 7.5802e-04 - accuracy: 0.9998 - val_loss: 2.8971 - val_accuracy: 0.6429\n",
            "Epoch 30/50\n",
            "89/89 [==============================] - 5s 54ms/step - loss: 0.0013 - accuracy: 0.9998 - val_loss: 5.1343 - val_accuracy: 0.5999\n",
            "Epoch 31/50\n",
            "89/89 [==============================] - 5s 53ms/step - loss: 0.0012 - accuracy: 0.9996 - val_loss: 2.9461 - val_accuracy: 0.6378\n",
            "Epoch 32/50\n",
            "89/89 [==============================] - 5s 52ms/step - loss: 0.0019 - accuracy: 0.9997 - val_loss: 8.5778 - val_accuracy: 0.4352\n",
            "Epoch 33/50\n",
            "89/89 [==============================] - 5s 52ms/step - loss: 4.7488e-04 - accuracy: 0.9998 - val_loss: 5.7235 - val_accuracy: 0.5300\n",
            "Epoch 34/50\n",
            "89/89 [==============================] - 5s 52ms/step - loss: 0.0011 - accuracy: 0.9996 - val_loss: 3.6043 - val_accuracy: 0.6363\n",
            "Epoch 35/50\n",
            "89/89 [==============================] - 5s 53ms/step - loss: 6.4808e-04 - accuracy: 0.9999 - val_loss: 3.1879 - val_accuracy: 0.6580\n",
            "Epoch 36/50\n",
            "89/89 [==============================] - 5s 53ms/step - loss: 6.1469e-04 - accuracy: 0.9998 - val_loss: 1.7980 - val_accuracy: 0.7523\n",
            "Epoch 37/50\n",
            "89/89 [==============================] - 5s 53ms/step - loss: 6.7227e-04 - accuracy: 0.9998 - val_loss: 2.6078 - val_accuracy: 0.7016\n",
            "Epoch 38/50\n",
            "89/89 [==============================] - 5s 53ms/step - loss: 1.6981e-04 - accuracy: 0.9999 - val_loss: 4.6319 - val_accuracy: 0.6057\n",
            "Epoch 39/50\n",
            "89/89 [==============================] - 5s 53ms/step - loss: 6.6495e-04 - accuracy: 0.9999 - val_loss: 1.8204 - val_accuracy: 0.7429\n",
            "Epoch 40/50\n",
            "89/89 [==============================] - 5s 52ms/step - loss: 6.1011e-04 - accuracy: 0.9997 - val_loss: 2.2492 - val_accuracy: 0.7170\n",
            "Epoch 41/50\n",
            "89/89 [==============================] - 5s 53ms/step - loss: 4.2342e-04 - accuracy: 0.9998 - val_loss: 1.5773 - val_accuracy: 0.7835\n",
            "Epoch 42/50\n",
            "89/89 [==============================] - 5s 52ms/step - loss: 1.6584e-04 - accuracy: 0.9999 - val_loss: 2.0718 - val_accuracy: 0.7581\n",
            "Epoch 43/50\n",
            "89/89 [==============================] - 5s 52ms/step - loss: 5.3467e-04 - accuracy: 0.9999 - val_loss: 2.2860 - val_accuracy: 0.7762\n",
            "Epoch 44/50\n",
            "89/89 [==============================] - 5s 53ms/step - loss: 8.9064e-04 - accuracy: 0.9998 - val_loss: 3.8121 - val_accuracy: 0.5903\n",
            "Epoch 45/50\n",
            "89/89 [==============================] - 5s 54ms/step - loss: 0.0012 - accuracy: 0.9997 - val_loss: 2.8507 - val_accuracy: 0.7200\n",
            "Epoch 46/50\n",
            "89/89 [==============================] - 5s 53ms/step - loss: 8.8082e-04 - accuracy: 0.9998 - val_loss: 4.9225 - val_accuracy: 0.5915\n",
            "Epoch 47/50\n",
            "89/89 [==============================] - 5s 52ms/step - loss: 0.0013 - accuracy: 0.9997 - val_loss: 1.2515 - val_accuracy: 0.8309\n",
            "Epoch 48/50\n",
            "89/89 [==============================] - 5s 52ms/step - loss: 9.0929e-04 - accuracy: 0.9997 - val_loss: 1.6603 - val_accuracy: 0.7996\n",
            "Epoch 49/50\n",
            "89/89 [==============================] - 5s 52ms/step - loss: 0.0013 - accuracy: 0.9997 - val_loss: 2.5380 - val_accuracy: 0.7306\n",
            "Epoch 50/50\n",
            "89/89 [==============================] - 5s 52ms/step - loss: 1.6397e-04 - accuracy: 0.9999 - val_loss: 3.3149 - val_accuracy: 0.6853\n"
          ],
          "name": "stdout"
        },
        {
          "output_type": "display_data",
          "data": {
            "image/png": "[encoded data removed]",
            "text/plain": [
              "<Figure size 432x288 with 1 Axes>"
            ]
          },
          "metadata": {
            "tags": [],
            "needs_background": "light"
          }
        }
      ]
    },
    {
      "cell_type": "markdown",
      "metadata": {
        "id": "wPpMPvTXSwBl"
      },
      "source": [
        "## Embedding + сложная сеть из Dense, LSTM и Conv1D."
      ]
    },
    {
      "cell_type": "code",
      "metadata": {
        "id": "H8O1W709P__o",
        "colab": {
          "base_uri": "https://localhost:8080/",
          "height": 1000
        },
        "outputId": "efa0b29e-7fb4-403a-aff3-cd7c1fbb1ba3"
      },
      "source": [
        "modelAll = Sequential()\n",
        "modelAll.add(Embedding(maxWordsCount, 50, input_length=xLen))\n",
        "modelAll.add(SpatialDropout1D(0.3))\n",
        "modelAll.add(Conv1D(20, 5, activation='relu'))\n",
        "modelAll.add(MaxPooling1D(2))\n",
        "modelAll.add(Dropout(0.2))\n",
        "modelAll.add(BatchNormalization())\n",
        "modelAll.add(LSTM(4, return_sequences=True))\n",
        "modelAll.add(LSTM(4, return_sequences=True))\n",
        "modelAll.add(Dropout(0.2))\n",
        "modelAll.add(BatchNormalization())\n",
        "modelAll.add(Flatten())\n",
        "modelAll.add(Dense(6, activation='softmax'))\n",
        "\n",
        "modelAll.compile(optimizer = 'rmsprop', loss= 'categorical_crossentropy',\n",
        "                  metrics=['accuracy'])\n",
        "history = modelAll.fit(xTrain, yTrain,\n",
        "                        epochs = 50,\n",
        "                        batch_size=200,\n",
        "                        validation_data=(xTest, yTest))\n",
        "plt.plot(history.history['accuracy'], \n",
        "         label='Доля верных ответов на обучающем наборе')\n",
        "plt.plot(history.history['val_accuracy'], \n",
        "         label='Доля верных ответов на проверочном наборе')\n",
        "plt.xlabel('Эпоха обучения')\n",
        "plt.ylabel('Доля верных ответов')\n",
        "plt.legend()\n",
        "plt.show()\n"
      ],
      "execution_count": null,
      "outputs": [
        {
          "output_type": "stream",
          "text": [
            "Epoch 1/50\n",
            "89/89 [==============================] - 8s 88ms/step - loss: 0.6675 - accuracy: 0.7520 - val_loss: 1.9918 - val_accuracy: 0.2928\n",
            "Epoch 2/50\n",
            "89/89 [==============================] - 7s 79ms/step - loss: 0.0117 - accuracy: 0.9971 - val_loss: 2.2373 - val_accuracy: 0.2945\n",
            "Epoch 3/50\n",
            "89/89 [==============================] - 7s 80ms/step - loss: 0.0024 - accuracy: 0.9996 - val_loss: 3.6723 - val_accuracy: 0.3067\n",
            "Epoch 4/50\n",
            "89/89 [==============================] - 7s 79ms/step - loss: 0.0020 - accuracy: 0.9994 - val_loss: 5.6107 - val_accuracy: 0.3058\n",
            "Epoch 5/50\n",
            "89/89 [==============================] - 7s 80ms/step - loss: 0.0023 - accuracy: 0.9989 - val_loss: 4.3615 - val_accuracy: 0.3693\n",
            "Epoch 6/50\n",
            "89/89 [==============================] - 7s 80ms/step - loss: 0.0016 - accuracy: 0.9993 - val_loss: 3.6597 - val_accuracy: 0.4106\n",
            "Epoch 7/50\n",
            "89/89 [==============================] - 7s 79ms/step - loss: 0.0016 - accuracy: 0.9995 - val_loss: 3.8089 - val_accuracy: 0.4611\n",
            "Epoch 8/50\n",
            "89/89 [==============================] - 7s 81ms/step - loss: 0.0022 - accuracy: 0.9994 - val_loss: 2.6689 - val_accuracy: 0.6041\n",
            "Epoch 9/50\n",
            "89/89 [==============================] - 7s 79ms/step - loss: 0.0010 - accuracy: 0.9995 - val_loss: 2.5663 - val_accuracy: 0.5879\n",
            "Epoch 10/50\n",
            "89/89 [==============================] - 7s 79ms/step - loss: 0.0027 - accuracy: 0.9992 - val_loss: 3.0237 - val_accuracy: 0.5589\n",
            "Epoch 11/50\n",
            "89/89 [==============================] - 7s 79ms/step - loss: 0.0018 - accuracy: 0.9994 - val_loss: 7.4189 - val_accuracy: 0.3626\n",
            "Epoch 12/50\n",
            "89/89 [==============================] - 7s 80ms/step - loss: 0.0017 - accuracy: 0.9994 - val_loss: 2.7236 - val_accuracy: 0.6141\n",
            "Epoch 13/50\n",
            "89/89 [==============================] - 7s 80ms/step - loss: 0.0011 - accuracy: 0.9997 - val_loss: 2.3416 - val_accuracy: 0.6638\n",
            "Epoch 14/50\n",
            "89/89 [==============================] - 7s 80ms/step - loss: 0.0020 - accuracy: 0.9994 - val_loss: 2.5318 - val_accuracy: 0.6546\n",
            "Epoch 15/50\n",
            "89/89 [==============================] - 7s 80ms/step - loss: 0.0018 - accuracy: 0.9994 - val_loss: 2.9044 - val_accuracy: 0.6068\n",
            "Epoch 16/50\n",
            "89/89 [==============================] - 7s 83ms/step - loss: 0.0012 - accuracy: 0.9996 - val_loss: 3.2066 - val_accuracy: 0.5891\n",
            "Epoch 17/50\n",
            "89/89 [==============================] - 7s 81ms/step - loss: 0.0011 - accuracy: 0.9995 - val_loss: 2.2391 - val_accuracy: 0.6460\n",
            "Epoch 18/50\n",
            "89/89 [==============================] - 7s 79ms/step - loss: 0.0012 - accuracy: 0.9997 - val_loss: 5.6892 - val_accuracy: 0.4647\n",
            "Epoch 19/50\n",
            "89/89 [==============================] - 7s 79ms/step - loss: 0.0014 - accuracy: 0.9996 - val_loss: 2.3999 - val_accuracy: 0.6487\n",
            "Epoch 20/50\n",
            "89/89 [==============================] - 7s 80ms/step - loss: 0.0017 - accuracy: 0.9994 - val_loss: 3.6092 - val_accuracy: 0.6374\n",
            "Epoch 21/50\n",
            "89/89 [==============================] - 7s 81ms/step - loss: 2.0798e-04 - accuracy: 0.9998 - val_loss: 2.6487 - val_accuracy: 0.6350\n",
            "Epoch 22/50\n",
            "89/89 [==============================] - 7s 80ms/step - loss: 0.0013 - accuracy: 0.9997 - val_loss: 3.1114 - val_accuracy: 0.6008\n",
            "Epoch 23/50\n",
            "89/89 [==============================] - 7s 79ms/step - loss: 0.0022 - accuracy: 0.9994 - val_loss: 4.1031 - val_accuracy: 0.6381\n",
            "Epoch 24/50\n",
            "89/89 [==============================] - 7s 79ms/step - loss: 0.0013 - accuracy: 0.9994 - val_loss: 5.1068 - val_accuracy: 0.5279\n",
            "Epoch 25/50\n",
            "89/89 [==============================] - 7s 81ms/step - loss: 0.0012 - accuracy: 0.9997 - val_loss: 5.3665 - val_accuracy: 0.5404\n",
            "Epoch 26/50\n",
            "89/89 [==============================] - 7s 81ms/step - loss: 8.0040e-04 - accuracy: 0.9995 - val_loss: 3.0271 - val_accuracy: 0.6153\n",
            "Epoch 27/50\n",
            "89/89 [==============================] - 7s 81ms/step - loss: 0.0020 - accuracy: 0.9994 - val_loss: 6.4555 - val_accuracy: 0.5670\n",
            "Epoch 28/50\n",
            "89/89 [==============================] - 7s 79ms/step - loss: 8.1090e-04 - accuracy: 0.9996 - val_loss: 3.8671 - val_accuracy: 0.6326\n",
            "Epoch 29/50\n",
            "89/89 [==============================] - 7s 80ms/step - loss: 0.0012 - accuracy: 0.9994 - val_loss: 4.4915 - val_accuracy: 0.5773\n",
            "Epoch 30/50\n",
            "89/89 [==============================] - 7s 80ms/step - loss: 0.0020 - accuracy: 0.9997 - val_loss: 4.9017 - val_accuracy: 0.5337\n",
            "Epoch 31/50\n",
            "89/89 [==============================] - 7s 80ms/step - loss: 0.0014 - accuracy: 0.9995 - val_loss: 4.4499 - val_accuracy: 0.5649\n",
            "Epoch 32/50\n",
            "89/89 [==============================] - 7s 80ms/step - loss: 0.0014 - accuracy: 0.9995 - val_loss: 2.6028 - val_accuracy: 0.6635\n",
            "Epoch 33/50\n",
            "89/89 [==============================] - 7s 79ms/step - loss: 0.0016 - accuracy: 0.9995 - val_loss: 3.5866 - val_accuracy: 0.5697\n",
            "Epoch 34/50\n",
            "89/89 [==============================] - 7s 78ms/step - loss: 0.0012 - accuracy: 0.9996 - val_loss: 3.6272 - val_accuracy: 0.5933\n",
            "Epoch 35/50\n",
            "89/89 [==============================] - 7s 79ms/step - loss: 0.0016 - accuracy: 0.9993 - val_loss: 2.5164 - val_accuracy: 0.6703\n",
            "Epoch 36/50\n",
            "89/89 [==============================] - 7s 80ms/step - loss: 0.0019 - accuracy: 0.9995 - val_loss: 3.2359 - val_accuracy: 0.6257\n",
            "Epoch 37/50\n",
            "89/89 [==============================] - 7s 81ms/step - loss: 2.5852e-04 - accuracy: 0.9999 - val_loss: 4.8003 - val_accuracy: 0.6138\n",
            "Epoch 38/50\n",
            "89/89 [==============================] - 7s 81ms/step - loss: 3.7841e-04 - accuracy: 0.9999 - val_loss: 6.4835 - val_accuracy: 0.5179\n",
            "Epoch 39/50\n",
            "89/89 [==============================] - 7s 81ms/step - loss: 0.0013 - accuracy: 0.9994 - val_loss: 3.9762 - val_accuracy: 0.5834\n",
            "Epoch 40/50\n",
            "89/89 [==============================] - 7s 79ms/step - loss: 0.0012 - accuracy: 0.9995 - val_loss: 5.1259 - val_accuracy: 0.5527\n",
            "Epoch 41/50\n",
            "89/89 [==============================] - 7s 80ms/step - loss: 8.0393e-04 - accuracy: 0.9996 - val_loss: 3.6557 - val_accuracy: 0.6012\n",
            "Epoch 42/50\n",
            "89/89 [==============================] - 7s 80ms/step - loss: 0.0014 - accuracy: 0.9995 - val_loss: 4.1379 - val_accuracy: 0.6069\n",
            "Epoch 43/50\n",
            "89/89 [==============================] - 7s 79ms/step - loss: 6.4751e-04 - accuracy: 0.9997 - val_loss: 4.0977 - val_accuracy: 0.5961\n",
            "Epoch 44/50\n",
            "89/89 [==============================] - 7s 79ms/step - loss: 0.0013 - accuracy: 0.9998 - val_loss: 3.2059 - val_accuracy: 0.6490\n",
            "Epoch 45/50\n",
            "89/89 [==============================] - 7s 80ms/step - loss: 0.0014 - accuracy: 0.9995 - val_loss: 5.7763 - val_accuracy: 0.5516\n",
            "Epoch 46/50\n",
            "89/89 [==============================] - 7s 79ms/step - loss: 7.3141e-04 - accuracy: 0.9997 - val_loss: 4.0828 - val_accuracy: 0.5881\n",
            "Epoch 47/50\n",
            "89/89 [==============================] - 7s 80ms/step - loss: 7.8067e-04 - accuracy: 0.9997 - val_loss: 3.9687 - val_accuracy: 0.6253\n",
            "Epoch 48/50\n",
            "89/89 [==============================] - 7s 81ms/step - loss: 9.7094e-04 - accuracy: 0.9997 - val_loss: 4.3137 - val_accuracy: 0.6317\n",
            "Epoch 49/50\n",
            "89/89 [==============================] - 7s 80ms/step - loss: 0.0024 - accuracy: 0.9993 - val_loss: 3.8433 - val_accuracy: 0.6317\n",
            "Epoch 50/50\n",
            "89/89 [==============================] - 7s 80ms/step - loss: 0.0011 - accuracy: 0.9998 - val_loss: 4.4334 - val_accuracy: 0.6408\n"
          ],
          "name": "stdout"
        },
        {
          "output_type": "display_data",
          "data": {
            "image/png": "[encoded data removed]",
            "text/plain": [
              "<Figure size 432x288 with 1 Axes>"
            ]
          },
          "metadata": {
            "tags": [],
            "needs_background": "light"
          }
        }
      ]
    },
    {
      "cell_type": "code",
      "metadata": {
        "id": "4aMhiHyTSJuU"
      },
      "source": [
        ""
      ],
      "execution_count": null,
      "outputs": []
    },
    {
      "cell_type": "markdown",
      "metadata": {
        "id": "_Sw3KOzkS3Do"
      },
      "source": [
        "# Pro Вариант 1"
      ]
    },
    {
      "cell_type": "markdown",
      "metadata": {
        "id": "9vP816I_qhSg"
      },
      "source": [
        "применил следующие методы:\n",
        "- заранее очистил текст от знаков препинаний и прочих символов\n",
        "- применил pyMorphy (здесь, в отличие от художественных текстов, склонения и падежи не важны - важны сами факты симптомов)\n",
        "- заранее разделил подготовленные тексты на обучающую и тестовую выборки - по 15% от каждой болезни в тестовую выборку\n",
        "\n",
        "В итоге лучшие результаты получились при:\n",
        "- Bag of Words - 96%\n",
        "- Embedding+Conv1D - 91%\n",
        "\n",
        "Привожу оба примера, так как насчет BagOfWords есть сомнения - это выше, чем результаты по стажировке, которую озвучивал Сергей (93%). "
      ]
    },
    {
      "cell_type": "markdown",
      "metadata": {
        "id": "qHPk39a4qayJ"
      },
      "source": [
        "## Подготовка данных"
      ]
    },
    {
      "cell_type": "code",
      "metadata": {
        "id": "tQW-az4xTEDw"
      },
      "source": [
        "def readText(fileName):\n",
        "  f = open(fileName, 'r')\n",
        "  text = f.read()\n",
        "  text = text.replace('\\n', ' ')\n",
        "  return text\n",
        "className = [\"Аппендицит\", 'Гастрит', 'Гепатит', 'Дуоденит', 'Колит', 'Панкреатит',\n",
        "             'Холецестит', 'Эзофагит', 'Энтерит', 'Язва']\n",
        "nClasses = len(className)"
      ],
      "execution_count": null,
      "outputs": []
    },
    {
      "cell_type": "code",
      "metadata": {
        "id": "hQCgs60eUSrj"
      },
      "source": [
        "wholeText = []\n",
        "for file_ in os.listdir('/content/drive/My Drive/Colab Notebooks/18. Рекуррентные сети/Dataset'):\n",
        "  wholeText.append(readText('/content/drive/My Drive/Colab Notebooks/18. Рекуррентные сети/Dataset/'+file_)) "
      ],
      "execution_count": null,
      "outputs": []
    },
    {
      "cell_type": "code",
      "metadata": {
        "id": "j7kWwt4AWvg5",
        "colab": {
          "base_uri": "https://localhost:8080/",
          "height": 205
        },
        "outputId": "00b01334-6263-4117-da94-b0798999e1df"
      },
      "source": [
        "wholeText"
      ],
      "execution_count": null,
      "outputs": [
        {
          "output_type": "execute_result",
          "data": {
            "text/plain": [
              "['Желтуха начало гепатита напоминает грипп: повышение температуры тела головная боль общее недомогание ломота в теле слабость Боли в правом подреберье   высокая температура усталость отсутствие аппетита тошнота рвота боли в животе бледный стул темная моча боли в суставах желтушность кожи и глаз  головная боль; нарушение сна; запоры; тошнота и рвота; общая слабость; зуд и пигментация кожи (редко); желтуха; боли в суставах; тупая боль в районе печени; снижение аппетита,отвращение к пище; повышается температура тела (при тяжелом течении болезни).  высокая температура; общее недомогание, усталость разбитость; головные боли; расстройства желудка тошнота рвота; желтушность кожных покровов; тянущие или приступообразные боли в правом подреберье; увеличение печени, реже – селезенки; светлый цвет экскрементов; темный цвет мочи.  быстрая утомляемость, снижение толерантности к физическим нагрузкам, нарушения сна, депрессии, апатия, периодические расстройства ЖКТ, тяжесть в правом подреберье  повышенная утомляемость и постоянная усталость; нарушение сна; тошнота и отсутствие аппетита; астения и общая слабость; сильная боль в суставах; увеличение печени и селезенки в размерах; желтушность кожных покровов, слизистых оболочек, глазных склер.  высокая температура усталость отсутствие аппетита тошнота рвота боли в животе бледный стул темная моча боли в суставах желтушности кожи и глаз.  ощущение тяжести в правом подреберье; слабость; отсутствие аппетита; вздутие живота; тошнота; кожный зуд; импотенция.  желтуха; сосудистые звездочки, геморрагии; пальмарная эритема; «лакированный» язык; шелушение губ; гинекомастия; расчесы.  изменение размеров печени; увеличение селезенки; темная моча; ахоличный стул; кровотечения;  кратковременное повышение температуры до 38-38.5°С умеренная головная боль боль в мышцах  снижается аппетит отрыжка горечью тошнота рвота слабость быстрая утомляемость тупые боли в эпигастральной области и правом подреберье желтушное окрашивание склер,слизистых и кожи моча  становится темно-желтой или коричневой (цвета темного пива) кал обесцвечивается  увеличенная потливость (особенно ночью); повышение температуры тела, озноб; артралгия (ломота, боли в суставах); потеря аппетита, тошнота (вплоть до отвращения к еде); тяжесть в эпигастральной области; болезненность в правом подреберье (из-за застоя желчи или воспаления желчного пузыря); нарушение концентрации внимания, рассеянность; быстрая утомляемость; сосудистые звездочки, зуд, сыпь; расстройства пищеварения (запор, понос); стул светлого оттенка, обесцвеченный; моча темного цвета; умеренное увеличение размеров печени; общая слабость, головокружение.  Постоянная тошнота и нежелание есть, рвота Быстрая утомляемость, хроническая усталость Появление болей в суставах Тяжесть и дискомфорт справа под ребрами (в области расположения печени) Темный цвет мочи и светлый — кала Пожелтение кожи, склеры глазных яблок Лихорадка Головная боль   ль в мышцах Тошнота и рвота Слабость, вялость Изменения обоняния или вкуса Боль в правом подреберье Светобоязнь, слезотечение, головокружение Понос (могут быть обесцвеченный кал и темная моча)   увеличение печени в размерах тупая боль при пальпации; брадикардия раздражительность бессонница угнетенное состояние нарушения стула проблемы с пищеварением острые реакции на жир и алкоголь метеоризм тошнота пониженная работоспособность высокая утомляемость; боль в суставах; желтуха — желтизна кожных покровов и белков глаз; носовые кровотечения и синяки от самых слабых воздействий; расширенные капилляры «звездочки» на коже спины и рук, покраснение ладоней; увеличение селезенки в размерах.   повышенная температура недомогание потерю аппетита диарея рвота неприятные ощущения в животе потемнение мочи желтуха(пожелтение кожи и глазных белков)  слабость потерю аппетита тошнота снижение массы тела  нарастающая желтуха кожный зуд увеличение печени и селезенки обесцвечивание кала слабость тошнота рвота язык обложен серым налетом  Тяжесть в животе. Обычно с правой стороны, под рёбрами. Жёлтый или светлый кал. Моча тёмного цвета. Быстрая утомляемость, усталость. Регулярное подташнивание. Иногда до рвоты. Снижение аппетита. Часто причина этого — ощущение переполненности желудка даже после небольшой порции. Боль в мышцах и суставах. Как при гриппе. Повышение температуры. Иногда незначительное, до субфебрильного уровня. Лёгкое пожелтение кожи и белков глаз.  потемнение мочи и обесцвечивание кала; увеличение печени; субфебрильную температуру тела; желтушный цвет кожи и глаз; нарушение акта дефекации; болезненность в правом подреберье; тошноту.  повышенная утомляемость; интоксикация; головные боли; снижение иммунитета и частые простудные заболевания; нестабильная температура тела; кожная сыпь; зуд; нарушения сна; мигренеподобные головные боли.    тупая боль брадикардия общее психологическое состояние ухудшается раздражительность  бессонница тошнота расстройства желудка отрыжка метеоризм повышенная утомляемость аппетит снижается, отмечается появление расширенных капилляров на лице, появление характерно признака «печеночные ладони», возникают носовые кровотечения, боли в мышцах и суставах  Общая слабость Снижение аппетита Повышенная утомляемость Диспепсия, проявляющаяся в виде тошноты, горечи во рту, чередования запоров с диареей, боли в эпигастрии и в правом подреберье Иногда наблюдается субфебрилитет Редко желтушность кожный покровов, склер   Увеличение в объеме живота сосудистые звездочки на коже живота нарастание слабости Стойкая желтуха Кровоточивость десен Кожный зуд    ',\n",
              " 'боль в эпигастральной области, тошнота, рвота,  общая слабость,  болезненность при пальпации в эпигастральной области,  слабость, повышение температуры.   дискомфорт и боль в верхних отделах живота, повышенная утомляемость,  снижение физических и умственных способностей, раздражительность, слабость, капризность,  головокружения, боль в голове, тошнота, рвота, отрыжка,  Учащенное сердцебиение, снижение аппетита, метеоризм, вздутие живота  боль в эпигастральной области, тошнота, рвота,  общая слабость,  болезненность при пальпации в эпигастральной области  сильная тошнота,  частая и обильная рвота, слабость быстрая утомляемость,  боль в подложечной области   боль или чувство дискомфорта в области желудка,  тошнота и рвота; потеря аппетита; желудочные кровотечения   Болевые ощущения в подложечной области; Быстрая утомляемость, слабость,  головокружение; Повышение температуры; Отсутствие аппетита; Неприятный привкус во рту; Тошнота, газообразование,  чувство переполненного желудка; Нарушение стула: диарея или запор; Отрыжка, рвота с примесью желчи; Желтизна кожных покровов и белов глаз  боли в эпигастральной области (голодные, ночные, через 15-20 минут или 1-1,5 часа после еды); повышенное газообразование; изжога, отрыжка с горьким привкусом,  горечь во рту; плохой аппетит или его полное отсутствие; ощущение тяжести после еды; боли схваткообразного и распирающего характера, связанные с приемом пищи; тошнота и рвота; напряжение передней брюшной стенки.  снижение аппетита; рвота (может быть однократной или многократной, облегчает состояние); тошнота (возникает сразу после еды); изжога, вздутие; напряжение мышц живота; продолжительная икота (около получаса); горькая отрыжка; повышение температуры тела; кровотечения из ЖКТ, обусловленные повреждением стенок кишечника.  ухудшение аппетита, появление неустойчивого стула,склонного к послаблению,  отрыжка,  изжога  тошнота  боли вверху живота.  боль в верхнем отделе живота, особенно в состоянии голода и в ночное время; нарушения пищеварения (диареи, запоры); вздутие, урчание, метеоризм; «горькая» отрыжка, непрекращающаяся икота; тошнота, редко — рвота; изжога, дискомфорт.  общая слабость,  боли в области желудка,  изжога, отрыжка, тошнота, рвота.  Боли в эпигастрии, связанные с приемом пищи (до еды или после),  тяжесть в эпигастрии после еды,  раннее насыщение, ухудшение аппетита,  тошнота, отрыжка.  голодные боли, боли после сна.  боли в подложечной области, неприятный вкус во рту, общий дискомфорт, тошнота, рвота, обильное слюнотечение, головная боль, общая слабость.  боль в эпигастральной области, тошнота, рвота, общая слабость, повышение температуры, болезненность при пальпации в эпигастральной области.  ощущение распирания «под ложечкой», во рту появляется горький привкус, снижается аппетит, появляется повышенное слюноотделение, отрыжка, рвота и изжога. запоры.  болезненность в области эпигастрия натощак - боли в животе через два-три часа после еды - боли в ночное время - стул нормальный или склонность к запору - язык обложен белым налетом - отмечается слюнотечение - распирание в облсти эпигастрия - снижение аппетита вплоть до полного отсутствия - повышение температуры - головные боли, слабость - понижение давления.   боли чувство полноты и распирания в эпигастральной области отсутствие аппетита приступы слюнотечения тошнота рвота   боль в эпигастральной области, тошнота, рвота общая слабость, болезненность при пальпации в эпигастральной области  боль в эпигастральной области, тошнота, рвота, общая слабость  боль под ложечкой различной интенсивности,в разное время суток,в том числе \"голодные\", ночные, могут быть постоянными в виде распирания и тяжести,  тошнота, склонность к запорам,  изжога,  отрыжка воздухом   ноющая реже схваткообразную боль в эпигастрии,через 1—2 часа после приема пищи ощущение тяжести, распирания в подложечной области,  тошнота,  слюноотделением Иррадиация болей — в подреберье, околопупочную область     ',\n",
              " 'ГАСТРИТ СИМПТОМЫ  диспепсии (тяжесть и чувство давления, полноты в подложечной области, отрыжка, срыгивание, тошнота, неприятный привкус во рту, жжение в эпигастрии, изжога ) ноющая или острая жгучая боль в верхней части живота; ощущение переполненности в верхней части живота после еды; слабость, раздражительность; рвота; отсутствие аппетита; метеоризм; отрыжка; потеря веса; язык обложен грязно-желтым или серовато-белым налетом; головокружение; нарушения со стороны сердечно-сосудистой системы — кардиалгия, аритмия, артериальная неустойчивость; у пациентов с атрофическим хроническим гастритом может развиться симптомокомплекс: внезапная слабость, бледность, потливость, сонливость, в случаях инфекционного гастрита возможно появление лихорадки;  боль в животе: резкая приступообразная или постоянная мучительная; отрыжка с кислым запахом; многократная рвота ( возможна рвота с кровью);повышенное слюноотделение; иногда сухость во рту; нарушение стула: запор или понос; со стороны всего организма: выраженная общая слабость, головокружение, головная боль, потливость, повышение температуры, снижение артериального давления, повышение частоты сердечных сокращений – тахикардия; снижение аппетита; неприятный вкус во рту; чувство тяжести в животе после еды; вздутие, урчание в животе, метеоризм; анемия, ломкость и сухость волос, расслоение ногтей. Дополнительные симптомы: боль в загрудинной и шейной области (изжога); постоянная отрыжка; ухудшение аппетита; частые позывы к дефекации; снижение работоспособности; бессонница; кровавая рвота; стул черного цвета (мелена); белый налет на языке; вздутие живота; ухудшение настроения.   тошнота;  -ноющая или острая жгучая боль в верхней части живота, которая обостряется или исчезает в процессе приема пищи;  -изжога;  -неприятный вкус во рту;  -ощущение переполненности в верхней части живота после еды;  -слабость, раздражительность;  -рвота;  -отсутствие аппетита;  -метеоризм;  -отрыжка;  -потеря веса;  -язык обложен грязно-желтым или серовато-белым налетом;  -головокружение;  -нарушения со стороны сердечно-сосудистой системы — кардиалгия, аритмия, артериальная неустойчивость; -у пациентов с атрофическим хроническим гастритом может развиться симптомокомплекс: внезапная слабость, бледность, потливость, сонливость, возникающие вскоре после еды), иногда сочетающихся с расстройствами кишечника;  -в случаях инфекционного гастрита возможно появление лихорадки;   Дискомфорте, сдавленности (особенно — после еды) в области эпигастрия (верхн его отдела брюшины); Боли в этой же области; Изжоге, «кислой» отрыжке;  Белом, «обложенном» языке;  Проявлениях диспепсии (тошнота, рвота, расстройства стула); Повышении температуры до субфебрильной (37 o ).  боли в подложечной области, возникающие натощак (могут быть острыми схваткообразными или ноющими неинтенсивными; иногда возникают вскоре после еды); изжога, отрыжка кислым, реже тошнота, рвота желудочным содержимым; наиболее частые проявления гастритов в хроническом течении - тяжесть в подложечной области после еды, чувство переедания, переполнения желудка, отрыжка пищей и воздухом, неприятный привкус во рту, снижение аппетита, возможны метеоризм, неустойчивый стул; возможны рвота и диарея; аппетит часто снижен.  разлитая боль в верхней части живота отрыжка  тошнота изменение характера аппетита слабость  ощущение тяжести в желудке. боль в животе: резкая приступообразная или постоянная мучительная; тошнота постоянная или периодическая, часто возникающая сразу после еды; изжога; отрыжка с кислым запахом; многократная рвота (в случае острого гастрита возможна рвота с кровью, т.к. в желудке может открыться внутреннее кровотечение); повышенное слюноотделение; иногда сухость во рту; нарушение стула: запор или понос; со стороны всего организма: выраженная общая слабость, головокружение, головная боль, потливость, повышение температуры, снижение артериального давления, повышение частоты сердечных сокращений – тахикардия; снижение аппетита; неприятный вкус во рту; чувство тяжести в животе после еды; вздутие, урчание в животе, метеоризм; анемия, ломкость и сухость волос, расслоение ногтей.  Ноющие или схваткообразные боли слабоинтенсивные в эпигастральной области, чаще  возникают натощак или непосредственно после еды Постоянная изжога особенно в ночные и утренние часы, отрыжка кислым Тошнота, редко рвота желудочным содержимым Отрыжка воздух, кислым или горьким привкусом Тяжесть в эпигастральной области после приема пищи, чувство быстрого наполнения желудка Неприятный привкус во рту, горечь Снижение аппетита  -ощущение тяжести или дискомфорта в животе; - снижение и ухудшение аппетита; - тошнота и вздутие; - рвота; - снижение работоспособности; - боль в области желудка; - отрыжка и неприятный привкус во рту; - изжога; - диарея. Заболевание начинается остро и характеризуется выраженным болевым синдромом, боль локализирована в эпигастральной области. Основными симптоматическими проявлениями болезни являются: чувство тяжести в эпигастрии, отсутствие аппетита, неприятный привкус во рту, отрыжка, тошнота,  рвота с примесями слизи и желчи, понос,  вздутие живота,  урчание в животе,  метеоризм, повышение температуры тела,  общая слабость,  головокружение,  головные боли.   чувство тяжести в области желудка;  общая слабость;  тошнота;  головокружение;  рвота;  диарея.  ноющая или острая жгучая боль в верхней части живота, которая обостряется или исчезает в процессе приема пищи; тошнота; рвота; отсутствие аппетита; отрыжка; метеоризм; ощущение переполненности в верхней части живота после еды; потеря веса Боль в эпигастрии (верхней части живота),появляющаяся или усиливающаяся натощак или после приема определенной пищи (острое). Боль может сопровождаться вспучиванием, ощущением переполненности, изжогой. Боль в верхнем отделе желудка. Могут быть рвота, диарея, температура, озноб, тяжесть в желудке. О том, что у вас гастрит, может свидетельствовать отрыжка, плохой запах изо рта, снижение аппетита, тянущая боль под ложечкой после еды.   -Дикие боли в эпигастральной области, больше слева, от поджелудочной вниз к кишечнику. Отрыжка, метеоризм, запоры; во время приступов расстройства желудка. Боли до еды и после(с тяжестью). Боли каждый день, если говорить об обострении, то болит с осени, практически каждый день. -Жжение, боли в области желудка по утрам и после после еды, переходящие в метеоризм. Бывает очень сильные, бывает затишье и особо не беспокоит. -От гастрита болей тоже хватает: несколько лет назад заболел желудок, боль была просто дикая -Очень сильно болел желудок, на протяжении нескольких лет (боль шла по нарастающей). Постоянно было дурное настроение, в районе желудка постоянно жгло. В результате ухудшалось самочувствие, был вялым каким-то, подавленным. ',\n",
              " 'Резкая боль в животе Повышение температуры Напряженность мышц Тошнота  Острая боль в животе, в том числе и при надавливании Повышение температуры Тошнота Рвота  Тупая боль возле пупка или верхней части живота, которая становится острой, опускаясь в нижнюю правую часть живота. Обычно это первый симптом; Потеря аппетита; Тошнота и/или рвота вскоре после того, как началась боль в животе; Отек брюшной полости; Повышение температуры.  Тупя или острая боль в верхней или нижней части живота, спины или прямой кишки; Болезненное и/или затрудненное мочеиспускание; Рвота Сильные судороги Запор или диарея  Боль в животе, сначала в эпигастральной области или околопупочной области; нередко она имеет нелокализованный характер (боли «по всему животу») Отсутствие аппетита  Тошнота рвота 1-2 кратная  Подъём температуры до 37-38 жидкий стул частые мочеиспускания повышение числа сердечных сокращений повышение давления  Потеря аппетита тошнота Рвота Повышение температуры тела Запор или диарея  Боль в животе тошнота рвота Стул и газы часто задерживаются жидкие испражнения (преимущественно при тяжелой интоксикации) Температура тела повышается до 37,5—38°,реже остается нормальной Пульс в первые сутки от начала заболевания учащается до 90—100 ударов в 1 мин АД не изменяется и только при тяжелой интоксикации несколько снижается Язык  обложен и влажен,но скоро становится сухим   боль в эпигастрии или области пупка кратковременная тошнота рвота анорексия  боли в животе или вокруг пупка Боль постоянная и постепенно усиливается Пропадает аппетит. Рвота — не постоянная, 1–2 раза. Вздутие живота. Лихорадка, температура до 38 °C.  Внезапная боль внизу живота справа Внезапную боль вокруг пупка и часто смещается вниз и вправо Боль, которая усиливается при кашле, ходьбе и резких движениях Тошнота рвота Потеря аппетита Субфебрильная лихорадка Запор диарея Вздутие живота  сильнаая боль в районе пупка и нижней части живота Неприятные ощущения могут возникать при ходьбе или в транспорте боль в животе в сочетании с тошнотой,рвотой и отсутствием аппетита. Озноб высокая температура  постепенно усиливающаяся боль; болезненный кашель или чихание; тошнота; рвота; диарея; лихорадка; запор; потеря аппетита.  Боль в животе. Тошнота. Рвота. Высокая температура. Боль в нижней части живота. Боль в животе во время резких движений. Боль в паху, пупке или верхней части бедра.  Болезненное и частое мочеиспускание. Рвота и тошнота. Нарушение работы кишечника в виде запора или диареи.  боль в правом боку повышение температуры тошнота рвота  Ноющая боль в животе, которая начинается с области пупка, а затем обычно смещается в нижнюю правую часть живота. Кратковременная тошнота, рвота. Потеря аппетита запор Боль в животе, которая обостряется в течение нескольких часов. Острая боль в нижней правой части живота, которая возникает при внезапном ослаблении давления при прощупывании. Боль в животе, усиливающаяся при кашле, ходьбе, при резких движениях. Болезненность живота в нижней правой части при прощупывании. Повышение температуры тела до 37,7-38,3 °C.  боль в верхней половине живота, а затем она перемещается вправо и вниз. Впрочем, нередко заболевшие аппендицитом испытывают боли в правом подреберье и боли, отдающие в спину или в задний проход. Прикосновение к животу вызывает усиление болевых ощущений. Мышцы живота напряжены. Больной поджимает ноги к животу. Появляется тошнота и рвота. Изменяется характер стула (возникает запор или, наоборот, понос). Может повышаться температура.  боль в верхней половине живота,перемещается вправо и вниз боли в правом подреберье боли, отдающие в спину или в задний проход Мышцы живота напряжены тошнота рвота. запор или понос температура  ухудшение самочувствия общая слабость внезапная усталость снижение либо потеря аппетита возникновение острой боли в области желудка или околопупочной зоне  тошнота однократная рвота диарея запор метеоризм  боль в области пупка, которая постепенно переходит в нижнюю правую сторону живота. Тошнота рвота отсутствие аппетита Частые позывы к мочеиспусканию Приступы дрожи и высокая температура         ',\n",
              " '   Боль при панкреатите обычно очень интенсивная, постоянная, характер болевых ощущений описывается больными как режущий, тупой. Локализуется боль под ложечкой,подреберье либо справа, либо слева, в зависимости от места поражения железы, в случае, когда воспаляется весь орган, то боль носит опоясывающий характер. Высокая температура Низкое или наоборот высокое давление.  Цвет лица.У больного заостряются черты лица, сначала становится бледными кожные покровы, постепенно цвет лица приобретает серо-землистый оттенок. Икота, тошнота. Сухость во рту икота отрыжка тошнота Рвота.  Диарея или запор.  Стул  чаще всего пенистый, частый со зловонным запахом, с частицами не переваренной пищи. Постоянная одышка  липкий пот обильный желтый налет на языке. Вздутие живота.  Желтушность склер, кожи.     В 10% случаев панкреатит проявлялся в виде печеночной колики (боли в правом подреберье) и даже желтухи.  У 9% больных ОП начинался как кишечная колика — боли в нижней части живота. Еще 9% случаев имитировали приступ стенокардии или инфаркт — боль ощущалась выше, отдавала за грудину и под лопатку, иногда возникала одышка.  Около 6% эпизодов ОП были похожи на приступ аппендицита.  Другие 6% сопровождались резкой болью и напряжением стенки живота, как при перфорации желудка или кишечника.  2% приступов панкреатита были похожи на острую инфекцию — с повышением температуры, головной болью, слабостью, тошнотой, рвотой и диареей.  Резкая опоясывающая боль: очень сильная, со временем - нарастает, не устраняется обезболивающими препаратами; Локализация боли: нечеткая, разлитая. Поскольку поджелудочная железа находится вблизи солнечного сплетения, то боль носит именно такой характер и часто пациенты, пытаясь показать, где у них болит, водят руками вокруг живота, иногда заводят их за спину; Явления диспепсии первичной внешнесекреторной недостаточности поджелудочной железы Боль в верхних и средних отделах живота, Боль после приема пищи, страх принимать пищу; Приступы ночной боли. Явления диспепсии вторичной внешнесекреторной недостаточности поджелудочной железы Метеоризм, диарея, флатуленция; Явления интоксикации: Повышенная температура тела; Выраженная общая слабость; Головная боль; Боль в суставах. Потеря массы тела. Пациенты теряют вес из-за синдрома мальдигестии (недостаточность пищеварения) и мальабсорбции (недостаточность всасывания). Кроме того, больные часто связывают боль с приемами пищи, поэтому уменьшают свой пищевой рацион в частоте и количестве. Симптомы эндокринной дисфункции: пониженная толерантность к глюкозе или сахарный диабет в затяжных случаях; Симптомы экзокринной дисфункции: вздутие, стеаторея («жировые испражнения»), признаки дефицита жирорастворимых витаминов (остеопороз).   тупые ноющие боли в эпигастрии,которые усиливаются после обильной и жирной еды чувство тяжести в верхних отделах живота тошнота ощущение горечи во рту  Сильнейшая боль в верхней части живота(подложечная область, правое или левое подреберье),опоясывающего характера.Боли не снимаются спазмолитиками и анальгетиками. Часто отмечается рвота, нарушение стула, слабость, головокружение.  Боли в «подложечной» области, нередко распространяясь в левое и правое подреберье и отдавая в спину. Часто боль бывает опоясывающей, она усиливается, если лечь на спину, и ослабевает, если сесть и чуть наклониться вперед. Боли возникают или усиливаются через 40-60 минут после еды (особенно после обильной, жирной, жареной, острой пищи). «Отголоски» боли могут дойти до области сердца, имитируя стенокардию. Поносы.Стул становится кашицеобразным, при этом может содержать частички непереваренной пищи. Количество кала сильно увеличивается. Он имеет неприятный запах, серый оттенок, жирный вид, тяжело смывается со стенок унитаза. Могут появиться отрыжка, тошнота, эпизодическая рвота, метеоризм. Человек теряет аппетит и быстро худеет.  боль опоясывающего характера, с локализацией в области правого или левого подреберья. полное отсутствие аппетита тошнота приступы рвоты,не способствующие улучшению самочувствия.В рвотных массах наблюдается содержимое желудка с включениями желчи; гипертермия тела (более 38°С), учащение пульса (свыше 90 уд./мин.),  дыхания,  снижение артериального давления (менее 90 мм/рт.ст.); изжога,  приступы икоты, отрыжка,  сухость в ротовой полости; появление белого или желтоватого налета на языке; напряжение брюшной стенки; вздутие живота в области верхних отделов брюшины,  приступы диареи, запора, включения в кале в виде непереваренных остатков пищи; изменение цвета кожных покровов: бледность, синюшность, желтый оттенок кожи и склер  изменение артериального давления – повышение или понижение его показателей; общее значительное ухудшение самочувствия, стремительная потеря массы тела, приступы потливости.  боли в верхней части живота, которые распространяются влево, часто принимая опоясывающий характер, сопровождаются тошнотой, рвотой, общей слабостью.   боль в животе (обычно первый симптом, появляется внезапно, очень сильная, в эпигастрии или в верхнем левом квадранте живота, иногда с иррадиацией в позвоночник),  тошнота и рвота, не приносящие облегчение,  лихорадка,  боль в эпигастрии,  тихие или отсутствующие перистальтические шумы ,  повышенное напряжение брюшной стенки,  пальпаторно болезненная резистентность в эпигастрии, нарушения сознания   Тошнота, рвота «фонтаном». Рвота повторная, мучительная, не приносит облегчения. Боль в верхней части живота, которая может быть очень интенсивной. Она имеет опоясывающий характер, отдает в спину или грудную клетку, усиливается в положении лежа. Прием пищи, особенно жирной, усиливает болевые ощущения. Напряжение мышц живота. Повышение температуры тела. Обычно это происходит при развитии осложнений. Учащенное сердцебиение, снижение артериального давления. Снижение массы тела. Боль в верхней части живота, которая может беспокоить как постоянно, так и приступами. Усиливается после приема жирной или острой пищи. Жидкий, маслянистый стул со зловонным запахом. Нарушения пищеварения в виде вздутия живота, метеоризма, урчания в животе.  Сильные, тупые боли под ложечкой или же боли опоясывающего характера, Лицо больного бледнеет,  Температура тела повышается, Артериальное давление изменяет свои показатели - может падать или же напротив, резко подняться.  Кожные покровы могут синеть,  отмечается вздутие живота,  отрыжка,  тошнота,  рвота.   внезапная острая и очень сильная боль в верхней левой части живота,иногда отдающая в левое плечо или подреберье. Боль может быть опоясывающей. Она становится постоянной и не прекращается даже после приема анальгетиков.  обильная рвота, не приносящая облегчения,  иногда - повышение температуры,  метеоризмом,  повышенное слюноотделение,  желтуха.  отвращение к некоторым продуктам питания; снижение или полное отсутствие аппетита; появление отрыжки; тошнота или рвота с примесью желчи; частая диарея. В каловых массах у больных могут быть частички непереваренной пищи; наблюдается жирный и обильный кал, или зловонный, пенистый стул; при хроническом панкреатите человек быстро теряет массу тела; в стадии обострения может быть повышенная температура; больной жалуется на хроническую усталость и постоянную слабость; у него появляется раздражительность; нарушается сон; возможно появление лихорадки при хроническом панкреатите; наблюдаются скачки артериального давления; при боли выступает липкий, холодный пот; появляется бледность кожных покровов; в районе пупа или в области поясницы могут появиться синюшные пятна; воспаление поджелудочной железы сопровождается появлением желтухи кожи; при сильной боли возможна потеря сознания.  боль, локализующаяся вокруг пояса, отдающая в подреберья с обоих сторон/с одной стороны, приступы не устраняются обезболивающими и продолжаются несколько часов или даже дней; отсутствие желания поесть, рвотные позывы, при рассматривании вышедшего содержимого видны вкрапления желчи; температура повышается на отметку более 38 градусов, пульс учащается, давление падает, учащается дыхание; наблюдаются стандартные проявления расстройств ЖКТ и присутствие в стуле различимых остатков пищи; язык покрывается налетом беловатого или желтоватого цвета; снижается вес, повышается потливость.  Опоясывающая боль, которая отдаёт под рёбра. Иногда ощущения могут быть настолько сильными, что больной может потерять сознание. Приступ может длиться от одного часа до нескольких суток; Отсутствие аппетита, тошнота, рвота с остатками желчи; Повышение температуры до 38°С, учащение пульса, снижение артериального давления; Изжога, икота, отрыжка, сухость во рту; Вздутие, диарея или запор; Появление бледного, жёлтого или синюшного оттенка кожи вследствие увеличения и отёка поджелудочной железы.  Хронический панкреатит может долгое время развиваться бессимптомно, проявляясь лишь через годы. При первых обострениях пациенты часто жалуются на ноющую приступообразную боль в левом подреберье, потерю аппетита, тошноту, рвоту, вздутие живота, понос или запор.  Болевые ощущения очень сильные и стойкие, обычно возникают в верхней части живота, эта боль может отдавать в спину и опоясывать тело. При остром панкреатите боль не проходит после приема спазмолитиков и обезболивающих, при хроническом – боли могут быть как короткими, так и затяжными.  Приступ острого панкреатита, как правило, сопровождается тошнотой и рвотой, которая не приносит облегчения. Кожа, страдающего от воспаления поджелудочной железы может стать бледной, холодной, покрыться липким потом. Возможно и повышение температуры.  При хроническом панкреатите боль может отдавать в область сердца и плечо. Сопровождающие симптомы – отрыжка, повышенное слюноотделение, тошнота, рвота, вздутие живота, послабление стула.   Сильные боли в верхней части живота или в левом верхнем квадранте. Боль обычно характеризуется ощущением жжения, которое также распространяется по спине. Сильная тошнота и рвота. Повышенное кровяное давление. Дегидратация. Внутреннее кровотечение. Повышенная частота сердечных сокращений и частота дыхания. Лихорадка. Желтуха. Потеря веса и отсутствие аппетита. Хронический панкреатит также может привести к диабету и даже раку поджелудочной железы.  -боль сутками, голова раскалывается и т.д.   -уже полтора месяца после больницы постоянные боли  -боли,такие,чтобы на стенку лезть и опоясывающие.побаливает иногда в районе желудка-терпимо.  -у меня хронический фиброзный панкреатит, поставили по кт. Уже год страдаю. Частая диарея, потеряла в весе до 20 кг.  -И главное боли и жжение не только в эпигастрии, а ещё и в почках началось , Да вообще по позвоночнику,пояснице, и по женски отдаёт.  -Тяжесть в правом подреберье, иногда боль. Раз в пол года бывают приступы боли, в правом и одновременно в левом подреберье, иногда переходит в область желудка.  - боли в области поджелудочной не проходят( затихает на несколько дней, потом опять все заново. сегодня ночью опять здорово прихватило, хотя ничего запрещенного я не ела.  -Ещё слабость и налёт на языке.  -Во время обострения: боль в эпигастрии, отсутствие аппетита, расстройство стула, бурление в животе, отрыжка.  -мне тоже ставят хронический, но особых проблем небыло до поры до времени. мес.2 назад схватило и до сих пор толком не отпустило. только жесточайшая диета, чуть отступил и все заново   -Вздутие живота, отрыжка, нарушение стула  - У меня к примеру,чуть что не то съешь,сразу поджелудочная ноет',\n",
              " 'постоянные позывы на дефекацию, урчание, вздутие живота, профузный понос, иногда с кровью и слизью, резкие боли в животе переполнение и тяжесть в брюшной полости,  чувство сдавливания. Боли схваткообразные (колики), которые сопровождаются позывами к дефекаци   Геморрагическая диарея различной выраженности и продолжительности позывы на дефекацию,  неинтенсивная схваткообразная боль внизу живота,  примеси крови и слизи в стуле.   боль в животе диарея выделение крови из прямой кишки (гематохезия) повышение температуры тела тахикардия слабость утомляемость внекишечные проявления – поражение суставов, глаз, печени и желчевыводящих путей, полости рта.  дискомфортные ощущения в животе тупые боли в желудке,которые усиливаются при беге или ходьбе проблемы со стулом - диареи или запоры выделяемые каловые массы содержат слизистые прожилки или примеси крови ложные позывы к дефекации тяжесть в животе вздутие метеоризм  постоянные проблемы со стулом повышенное газообразование вздутие живота слабость высыпания на коже чувство тошноты  болезненные позывы на дефекацию понос,иногда с кровью и слизью боли в животе  увеличение частоты дефекаций жидкий стул ректальные выделения крови и слизи боль в животе  внезапное появление поноса боли в животе рвота метеоризм повышение температуры тела  вздутие живота, метеоризм; болезненность при пальпации; урчание; частый жидкий стул, иногда с примесью крови; сниженный аппетит; общие признаки интоксикации; повышенная температура; обезвоживание. При тяжёлой интоксикации организма наблюдается изменение цвета языка — он становится серым, покрывается налётом  запоры и поносы периодические ноющими боли в животе, особенно по бокам боли перед дефекацией метеоризм слабость  тупая ноющая боль в левой нижней части живота или неясно локализованная боль в животе болевые ощущения усиливаются после еды, а также при ходьбе или тряске, и уменьшаются после отхождения газов и дефекации метеоризм чувство тяжести в животе  Обезвоживание слабость головокружения  сухость во рту частые позывы к опорожнению кишечника лихорадка или озноб  острая боль урчание в животе потеря аппетита жидкий стул с примесью слизи или крови повышенная температура тела  чередование поноса и запора боль в различных отделах живота ощущение недостаточного опорожнения кишечника ложные позывы на дефекацию тошнота отрыжка ощущение горечи во рту урчание в животе недомогание снижение трудоспособности  частые опорожнения,до 20 раз в сутки, небольшими порциями.  острая боль в животе может повышаться температура тела (до 39°С) может появляться сыпь, развиваться артрит, полиартрит, язвы в ротовой полости, омертвение участков кожи, преимущественно нижних конечностей  диарея и примесь крови в кале (до 20 опорожнений в сутки) запор кровотечение ослабление и потеря массы тела симптомы обезвоживания тахикардия отеки диффузная или локальная пальпаторная болезненность живота лихорадка вздутие.  жидкий стул боль в животе лихорадка  кишечное кровотечение диарея боли в животе запоры общие проявления токсемии (лихорадка, снижение массы тела, тошнота, рвота, слабость).  Урчание в животе вздутия скопление газов   Диарея кашицеобразный стул с примесью крови ,гной и слизи ложные позывы при акте дефекации Периодические ноющие боли в левой половине живота Подъем температуры тела до 39 С с ознобом Снижение аппетита Потеря веса Общая слабость снижение работоспособности Эпизодическое появление боли локализующий в крупных суставах (коленных, плечевых, тазобедренных)  кишечные кровотечения диарея запор боль в животе тенезмы общие проявления токсемии(лихорадка, снижение массы тела, тошнота, рвота, слабость и др.)   разлитая «мигрирующая» боль в животе; вздутие, урчание; тенезмы, диарея, жидкий стул с примесью крови или слизи; тошнота, слабость.   Нарушения стула (неустойчивый стул, запоры, поносы). Вздутие, урчание, переливания в животе. Боли (спастического характера, иногда тупые, ноющие, в нижней половине живота и в области фланков, реже - в левом подреберье); возможны тенезмы, связанные с дисфункцией анального сфинкте\\xadра.  боль спастического ноющего характера Боль становится более выраженной после еды и проходит после опорожнения кишечника и выхода газов Появление проблем со стулом – часто с запорами и выделением кала, фрагментированного и покрытого слизью или диареей. Также наблюдается «запорный понос» - выделение жидкого кала после порции нормального. Боли при позывах к опорожнению кишечника.  вздутие живота неустойчивость стула (чередование запора с диареей) боль в животе схваткообразного,тупого или ноющего характера наличие в каловых массах крови и слизи потеря аппетита общая слабость снижение массы тела   периодические резкие боли в животе. Возможны боли в спине и пояснице при колите; постоянные позывы на дефекацию; урчание в толстом кишечнике; вздутие живота; выраженный понос. чувство переполнения и тяжести в животе; боли в виде колик (схваток) – в основном это признаки спастического колита; позывы к дефекации; понос – при поражении правой половины толстого кишечника; запор – при поражении его левой половины; зловонность кала – наблюдается при активизации гнилостной флоры; метеоризм (вздутие живота) – наблюдается при активизации бродильной флоры; кровь в кале   существенное похудение; общая слабость; проявления нехватки витаминов – сухость кожи и слизистых, ухудшение зрения  урчание в животе; тенезмы – ложные позывы к дефекации, заканчивающиеся выделением лишь слизи; ноющая боль в животе, которая возникает после обильной еды; запоры, периодически сменяющиеся диареей; метеоризм при запорах, сопровождающийся ощущением тяжести, вздутием живота, психоэмоциональным и физическим дискомфортом у пациента; диспепсия (тошнота, отрыжка, горечь во рту)  нарушение сна повышенная раздражительность слабость потеря веса  хроническая диарея с примесью крови в стуле, иногда слизи, боли в животе, возможно, схваткообразного характера, чувство неполного опорожнения кишечника и ложные позывы к опорожнению, анальные трещины, кишечные кровотечения, общая слабость и недомогание, повышение температуры, потеря аппетита и массы тела, анемия вследствие кровотечений и нарушения всасывания железа  Диарея с примесью крови и/или слизи,  Схваткообразные боли в животе,  Лихорадка;   Повышается температура тела общая слабость головокружение выраженная боль в нижней части живота схваткообразного характера Стул частый, жидкий или кашицеобразный испражнения содержат немного каловых масс В кале – слизь, примесь гноя и крови.    нарушение стула Частота стула может составлять до 15 раз в сутки Каловых масс выделяется немного Консистенция – жидкая или кашицеобразная, с примесью слизи, кал имеет резкий неприятный запах. Позыв на дефекацию может появляться уже во время приёма пищи. При хроническом колите возможно чередование поносов и запоров. Второй признак колита – боль в животе, в нижних отделах. Характер боли – ноющая, распирающая, приступообразная. Боль может возникать после употребления в пищу пресного молока или свежих овощей. Усиление боли также провоцирует физическая нагрузка, клизмы.  чувство распирания тяжести в животе урчание повышенное газоотделение  боль в животе вздутие живота частые позывы к опорожнению кишечника кровавая диарея  аномальная потеря веса. вздутие живота урчание повышенное образование газов.  схваткообразная боль в кишечнике; не прекращающийся понос; вздутие живота от повышенного газообразования; кал содержит большое количество гнойной слизи, кровь; ложные позывы к дефекации, заканчивающиеся небольшими выделениями кала и слизи.   Стул частый испражнения необильные,жидкие или кашицеобразные,иногда теряют каловый характер,содержат примесь слизи, нередко — крови и гноя Отмечаются схваткообразные боли в животе,при поражении дистальных отделов толстой кишки — тенезмы Живот вздут,толстая кишка спазмирована,болезненна при пальпации,особенно ее дистальные отделы.  Могут возникать нарушения функции сердечно-сосудистой системы.  Боли и вздутие живота; Ложные позывы к дефекации; Едкий запах кала; Присутствие крови в стуле; Слабость, головокружение; Тошнота, отрыжка; Горечь во рту; Метеоризм; Раздражительность, подавленное настроение;  Озноб, лихорадочное состояние; Сухость во рту.   нарушения со стулом, чаще в виде диареи, но возможны и запоры; пациенты чувствуют, что кишечник не опорожнен, при частых дефекациях кал выделяется со слизью; ложные позывы к дефекации, при которых отходят газы или небольшие комочки кала с кровью горечь во рту тошнота частые отрыжки  Болевые ощущения могут быть ноющими или тупыми,иногда превращаются в схватки Расположение источника боли не всегда просто локализировать. Боль становится ощутимей после еды метеоризм  кишечные кровотечения диарея запор боль в животе тенезмы  лихорадка снижение массы тела тошнота рвота слабость   чувство неполноты опорожнения (тенезмы) . Позывы на дефекацию  Кровь в кале (гематохезия). Диарея. Дискомфорт/боль внизу живота, левой подвздошной области.  Похудание. Лихорадка. Анемия.  болевой синдром в виде ноющих и тупых болей, локализующихся в любом из отделов живота, имеющих как схваткообразный, так и разлитой характер. Нарушение стула урчание метеоризм болезненные тенезмы    ',\n",
              " 'затруднения и болезненные ощущения при глотании изжога боли во рту ощущения чего-то застрявшего в горле тошнота рвота  боль при глотании и в состоянии покоя жжение изжога ком в горле болезненные ощущения во рту  неприятный привкус охриплость язвы во рту боль не только в пищеводе и в грудине, отдающая в спину неприятный запах изо рта  затруднённое прохождение пищи по пищеводу  может повышаться температура тела общее недомогание неприятные ощущения по ходу пищевода во время продвижения пищи может беспокоить жжение иногда резкая боль в пищеводе боль в области шеи отрыжка слюнотечение нарушается глотание  боли за грудиной и в подложечной области сочетается с гастритом или дуоденитом чувство саднения за грудиной непосредственно после проглатывания пищи боли, не зависящие от приёма пищи изжога вечером и ночью тошнота рвота икота слюнотечение затрудненное дыхание Икота   дисфагия (затрудненное и болезненное глотание) изжога ощущение кома в горле тошнота срыгивание съеденной пищей рвота обильное слюноотделение  изжога,которая усиливается при наклоне,физической нагрузке,после обильной пищи и лежа отрыжка с кислым или горьким привкусом тошнота рвота расстройство глотания  боль в грудной клетке,напоминающая боли в сердце может протекать без изжоги и боли в груди нарушение глотания  Возникновение изжоги.  Боль в грудной области Нарушается глотательная функция. Частые отрыжки (воздух или кислотой желудка). Кашель хронический, длительный. Частицы пищи попадают в бронхи, вязкий секрет обволакивает инородные тела и провоцирует кашлевой рефлекс. кашель сопровождается рвотой с примесью крови. боль в груди (как правило, после еды, усиливающаяся при наклоне) яжесть в животе после приема пищи гиперсаливация (повышенное слюнотечение) во сне неприятный запах изо рта охриплость  жжение в загрудинной области боль во время глотания  изжога отрыжка воздухом рвота с кровью или вязкой слизью Иногда повышается температура тела  икота срыгивание отрыжка воздухом либо пищей боль за грудиной либо \"под ложечкой\",которая отдает в область сердца, левое плечо и может напоминать приступ стенокардии  может повышаться температура тела отмечается общее недомогание появляются неприятные ощущения по ходу пищевода во время продвижения пищи жжение иногда резкая боль в пищеводе боль в области шеи отрыжка срыгивания слюнотечение нарушается глотание  повышенная чувствительность пищевода к горячей или холодной пище выраженный болевой симптом (острая, сильная, жгучая боль за грудиной, отдающая в шею и спину) расстройство глотания из за сильной боли изжога повышенное слюноотделение  изжога боли в эпигастральной области или за грудиной,возникающие после или во время приема пищи отрыжка воздухом срыгивание  затруднения и/или болезненные ощущения при глотании изжога боли во рту ощущение чего-то застрявшего в горле тошнота рвота  дисфагия ощущение дискомфорта жжение и боли за грудиной,возникающие или усиливающиеся при глотании изжога отрыжка кислым или горечью  Высокая температура Болевые ощущения в области шеи Гиперсаливация Проблемное глотание Регулярная отрыжка, которая внезапно появляется и также исчезает Тошнота Изжога  изжога отрыжка,иногда с кислым вкусом   рвота изжога тошнота отрыжка кислая отрыжка желудочные боли дискомфорт после еды затрудненное глотание (ком в пищеводе)  Изжога, особенно в ночное и утреннее время Обильное слюнотечение Отрыжка воздухом, кислым или горьким привкусом Тошнота и рвота Боли в горле при глотании Ноющие боли в эпигастральной области Боли в области горла, шеи Нарушения сердечного ритма (перебои в работе сердца) Воспалительные заболевания полости рта (стоматиты, гингивиты) Повреждение эмали зубов (кариес) Сухой, малопродуктивный кашель Охриплость голоса  Затруднение или болезненность глотания Изжога Инфекционное воспаление в ротовой полости Ощущение инородного тела в глотке Тошнота Рвота  нарушение глотания (дисфагия) неприятные ощущения по ходу пищевода во время еды боль за грудиной, не купирующаяся приемом антацидов симптомы, похожие на ГЭРб изжога, невосприимчивая к традиционному лечению боль в верхних отделах живота  Изжога. Боль за грудиной. Ощущение жжения и боль за грудиной, отдающая в спину, усиливаются при наклоне, в положении лежа, при курении, употреблении алкоголя, горячих напитков, фруктового сока, острой пищи. отрыжкой воздухом или содержимым желудка изжога, особенно в вечернее время тошнота позывы к рвоте появление кисловатого привкуса в ротовой полости кашель в ночное время суток поражение зубов кариесом частая икота  сильная, острая, жгучая боль за грудиной, с переходом в область шеи и спины; боль при глотании; изжога; повышенное слюноотделение; в тяжёлых случаях — рвота с примесью крови; иногда протекает практически бессимптомно (катаральная форма), о заболевании свидетельствует лишь повышенная чувствительность к холодной и горячей пище.  Изжога при приёме жирных, острых блюд, газированных напитков, кофе, переедании. Отрыжка кислым, горьким (при эзофагите, вызванном рефлюксом с примесью желчи). Обратное движение пищи в ротовую полость без тошноты и рвоты, усиливается ночью. Тошнота после еды. Иногда может сопровождаться ларингоспазмом, нарушением дыхания в положении лёжа, ночным сухим кашлем, приступами бронхиальной астмы, пневмониями. Умеренные боли за грудиной, отдающие в шейный и позвоночный отделы. Хриплый голос.   затруднения и/или болезненные ощущения при глотании изжога боли во рту ощущения чего-то застрявшего в горле тошнота рвота  Дискомфорт в области грудной клетки, сменяющийся болевыми ощущениями по мере прогрессирования заболевания; Боли в верхней части живота; Периодически возникающие боли в горле, рецидивирующее воспаление ротоглотки; Кашель и рецидивирующие воспаления дыхательных путей; Чувство изжоги и жжения за грудиной; Затруднение глотания; Тошнота рвота снижение аппетита снижение массы тела.  изжога отрыжка болевой синдром дисфагия       ',\n",
              " 'боль, часто локализованная в эпигастрии и уменьшающаяся после еды или антацидов.  боль описывается как жгучая или грызущая, иногда как чувство голода.  Боль в эпигастральной области кислая отрыжка  изжога снижение массы тела рвота и тошнота после еды  боль после еды и в зависимости от пораженного отдела может появиться сразу или спустя 1–2 часа рвота кислым содержимым желудка  боль в животе Боль возникает в середине живота («под ложечкой»), никуда, как правило, не отдает Болевой синдром. Возникает в верхней части живота, носит непостоянный характер.  Изжога Рвота тошнота Отсутствие аппетита  жжениеи  боль в верхней части живота выше пупка тошнота рвота снижение аппетита снижение веса слабость усталость  налет на языке метеоризм чередование поноса ,запора и нормального стула неприятный запах из ротовой полости уменьшение веса тошнота рвота изжога и отрыжка кислотой  Ноющие или схваткообразные боли, слабоинтенсивные в эпигастральной области, чаще возникают натощак или непосредственно после еды Постоянная изжога, особенно в ночные и утренние часы, отрыжка кислым Тошнота Отрыжка воздухом, кислым или горьким привкусом Тяжесть в эпигастральной области после приема пищи, чувство быстрого наполнения желудка Снижение аппетита При кровотечении из язв появляется рвота “кофейной гущи”, темный стул (мелена) При перфорации язв - сильная, кинжальная боль в эпигастральной области, тошнота, рвота, болезненное напряжение мышц живота  Ощущение раздутости Отрыжка Отсутствие аппетита или потеря веса Тошнота Кровавая или темная дефекация Рвота  боль или дискомфорт в эпигастрии,появляющаяся 1–3 ч после еды,проходящая после приема пищи или антацидов.  диспепсия тошнота рвота  боль в верхней половине живота ночные и «голодные» боли изжога Тошнота рвота «кислая» отрыжка запоры   изжога отрыжка кислым тошнота рвота на высоте болей,приносящая облегчение склонность к запорам  Боль тошнота тяжесть после приема пищи чувство переполнения желудка рвота снижение аппетита массы тела изжога  Потеря аппетита потеря веса Тошнота рвота Гематемезис (рвота кровью) Вздутие живота Боли в животе Кровавый или темный стул. жгучая боль в животе, которая проходит от пупка до груди  сильная изжога тошнота рвота неприятная отрыжка запоры повышенное газообразование вздутие живота потеря аппетита снижение веса повышенная потливость боли в животе чувство дискомфорта,усиливающееся после трапезы  Склонность к запорам Тошнота рвота  Боль во сне «голодная» боль  Болевой синдром Рвота ощущение тяжести в животе тошнота изжога запоры   появление отрыжки после приема пищи раннее появление чувства сытости тяжесть в эпигастрии непереносимость жирной пищи появление тошноты иногда рвота   боль,которая возникает через час после еды и длится два часа отрыжка,имеет острый привкус кислоты кровотечение рвота,возникающая внезапно,иногда во время еды В рвотных массах больного обнаруживаются примеси крови Язвенный больной интенсивно худеет снижается аппетит или полностью пропадает изменяется цвет лица  колющая,давящая боль или рези в области желудка,которые почти всегда по времени возникновения связаны с приемом пищи  Тошнота, иногда сопровождающаяся рвотой.   Изжога жжения в надчревной области.  Чувство тяжести в животе.  Отрыжка воздухом  заброс содержимого желудка в ротовую полость,после чего во рту остается неприятный кисловатый или горьковатый привкус. Повышенное газообразование.  белый налет на языке потливость ладоней болевые ощущения при надавливании на живот  ',\n",
              " 'внезапныые боли (преимущественно в середине живота) рвота понос повышение температуры симптомы общей интоксикации сердечно-сосудистые расстройства обезвоживание организма возможны судороги  тошнота рвота понос повышение температуры тела боль в голове общая слабость бледность кожных покровов белый налет на языке вздутие живота метеоризм бурчание в животе отмечается боль в верхней части живота,вокруг пупка урчание и бурление в животе головокружение тахикардия  диарея тошнота рвота выраженное урчание в животе спастическая боль в верхней половине живота симптомы общей интоксикации организма: головная боль резкая слабость лихорадка (температура может достигать 39°С) бледность обложеность языка вздутие живота.   потеря аппетита тошнота рвота понос боли в области живота повышение температуры   водянистый понос, очень редко содержащий кровь колики боли в животе тошнота рвота  боли в животе понос тошнота рвота головные боли повышение температуры Стул – до 12-15 раз в сутки, обильный и водянистый. общая слабость бледность и сухость кожных покровов на языке – белый налет Живот вздут в кишечнике бурчание При продолжительных поносах возможно развитие клинической картины обезвоживания, вплоть до мышечных судорог и синдрома внутрисосудистого диссеминированного свертывания. Могут отмечаться также симптомы геморрагического диатеза – склонность к тромбообразованию и повышенная кровоточивость. небольшая температура  диарея метеоризм схваткообразные боли в верхней области живота и вокруг пупка бурление в животе урчание  расстройства стула рвота (при остром энтерите); урчание в животе метеоризм боли в области пупка,подвздошной области и нижнем отделе живота нарушение общего самочувствия хроническая усталость повышенная утомляемость психосоматические расстройства повышение температуры тела стремительная потеря веса атрофия мышц (вследствие нарушения белкового обмена) нарушение функций надпочечников сухость во рту (при сопутствующем холецистите) изжога отрыжка (при сопутствующем гастрите)  тошнота рвота диарея выраженное урчание в животе спастические боли слабость общее недомогание холодный пот температура может достигать 38-39°С и выше явления общей интоксикации  Боль в верхней половине живота Рвота диарея  боли в верхней половине живота общая слабость тошнота рвота диарея стул может быть до 10-15 раз в сутки,жидкий,с большим количеством каловых масс обезвоживание язык сухой обложен белым налётом кожа сухая  метеоризм вздутие живота боль в средней части живота громкое урчание в животе  Кал при диарее имеет вид глины  боль носит тупой,иногда спастический характер Боль концентрируется вокруг пупка,где при сильном давлении на живот отмечается болезненность ощущение давления,распирания и вздутия живота,особенно после еды,  тошнота урчание переливание всплески в животе стул очень частый (до 15-20 раз в сутки) кашицеобразный,содержащий непереваренные кусочки пищи, часто зловонный, с пузырьками газа, но без видимой слизи, это так называемый энтеритный копрологический синдром. Характерна полифекалия: общее количество каловых масс за сутки может достигать 1,5-2 кг Иногда возникают резкие позывы к дефекации после еды, а после дефекации - резкая слабость, сопровождаемая холодным потом, дрожанием рук (это - еюнальная диарея). После молока понос и метеоризм усиливаются. В нетяжелых случаях энтерита и при отсутствии сопутствующего колита поноса может не быть, и даже, напротив, возникает запор. Часто каловые массы бывают желтоватого (золотистого) цвета вследствие наличия невосстановленного билирубина и большого количества жира, придающего к тому же каловым массам глинистый вид. возможно постепенное снижение массы тела больного, общая слабость, недомогание, понижение работоспособности, связанные с недостаточностью всасывания. признаки гиповитаминоза: сухость кожи, стоматиты, выпадение волос, ломкость ногтей, полиневриты. При выраженной недостаточности витамина А нарушается сумеречное зрение, при дефиците витамина В1 - ощущение ползания мурашек, жжение и покалывание кожи, похолодание конечностей, слабость в ногах (полиневриты). При недостаточности витамина В2 - ангулярный стоматит, хейлит, своеобразный дерматит кожи лица (крыльев носа, носогубных складок, ушей), покраснение и болезненность губ и языка. При недостаточности никотиновой кислоты развивается глоссит с расстройством вкусовых ощущений и пощипывания языка, покраснение языка (малиновый язык), при этом язык отечен, с атрофией сосочков, наличием эрозий и трещин, может быть пигментация открытых участков кожи - кистей рук, лица и шеи, непроизвольные мышечные подергивания, боли в костях. У некоторых развивается железодефицитная анемия. истощение, остеопороз, гипопротеинемия с отеками, функциональная недостаточность эндокринных желез. болезненность в эпигастральной области, иногда сильное урчание при пальпации слепой кишки.   Болевые ощущения внизу живота; Диарея (до 10-15 раз в день); Вздутие и урчание в кишечнике, метеоризм; Слабость, головная боль; Повышение температуры тела; Белый налет на языке  Диспептические расстройства – тошнота и рвота. Диарея, сопровождающаяся болями в животе. В кале обнаруживаются непереваренные остатки пищи, акт дефекации практически ослабляет пациента. Частота дефекации достигает 5 раз в сутки. Общее состояние пациента средней тяжести – слабость, бледность кожных покровов, белый налет на языке. В некоторых случаях наблюдается повышенная кровоточивость десен, склонность к образованию тромбов. Боли имеют схваткообразный характер.  поносом, тошнотой, повторной рвотой; появляются боли в верхней половине живота, головная боль, резкая слабость, может повышаться температура тела. Больные бледны, с запавшими глазами; язык сухой, обложен белым налетом; живот вздут. В первые 2—3 дня стул до 10—15 раз в сутки, кал обильный (полифекалия), водянистый; аппетит отсутствует.  понос тошнота рвота боли в верхней половине живота головная боль резкая слабость может повышаться температура тела Больные бледны с запавшими глазами язык сухой,обложен белым налетом живот вздут первые 2—3 дня стул до 10—15 раз в сутки кал обильный (полифекалия), водянистый аппетит отсутствует.  Диарея рвота тошнота боли в животе  повышение температуры тела  периодически возникающие боли внизу живота или в правой подвздошной области; диарея, возникающая независимо от того, какие продукты употреблялись в пищу; вздутие живота, урчание; повышенное газообразование.  ',\n",
              " 'тупая, ноющая боль в области правого подреберья постоянного характера или возникающая через 1–3 ч после приема обильной и особенно жирной и жареной пищи. Боль иррадиирует вверх, в область правого плеча и шеи, правой лопатки.  Периодически  резкая боль, напоминающая желчную колику. диспепсические явления:  ощущение горечи и металлического вкуса во рту,  отрыжка воздухом, тошнота, метеоризм, нарушение дефекации(чередование запора и поноса),  раздражительность,  бессонница.  Нарушение пищеварения Присутствие болевых ощущений справа (может проецироваться в область правой руки или лопатки) Постоянная тошнота, отрыжка Озноб Пожелтение кожных покровов Нарушение аппетита Чрезмерное газообразование  Тяжесть и боль в правом боку, под ребрами, в лопатке Регулярная отрыжка и горечь во рту Постоянные проблемы с пищеварением (отсутствие аппетита, тошнота и рвота и др.) Проявление желтушных признаков  Внезапная слабость и горечь во рту Человеку не удобно любое положение, при этом участился пульс и понизилось давление Сразу после приема пищи происходит рвота Кожные покровы пожелтели Справа появилась острая боль  тупая ноющая боль в правом подреберье, часто отдающая в правую лопатку, в правый плечевой сустав и в правую подключичную область. Боль усиливается при употреблении жирной, жареной, обильной пищи, холодных напитков, газированной воды, Обострение хронического холецистита сопровождается сильными схваткообразными болями в правом подреберье,повышением температуры тела,тошнотой,рвотой,вздутием живота,горьким или металлическим привкусом во рту.    приступообразные боли в левом подреберье, могут иррадиировать  в правое плечо, лопатку Тошнота, рвота Повышение температуры тела до 38-38,5 С с ознобом Появление желтушности склер, кожи, зуд   Тошнота. Тупая ноющая боль в правом подреберье Горечь во рту Возможен длительный субфебрилитет Вздутие живота Диарея  Боли в правом подреберье, отдающие в другие части тела, левое подреберье, подложечную область и др. Диспепсические явления – вздутие живота, неприятный привкус во рту, тошнота, рвота и др; Общая слабость и повышение температуры, головная боль.  тупые боли в правом подреберье; вздутие живота; тошнота,  рвота; нарушение переваривания жирной пищи (поносы после еды).  умеренная боль в эпигастрии или в правом верхнем квадранте живота, которая может иррадиировать в правое плечо или лопатку. Боль обычно держится в течение нескольких часов (обычно 3-6 ч.). тошнота рвота (иногда довольно тяжелая) Может повышаться температура, обычно не выше 39°С  периодические болезненные ощущения в животе справа под ребром тошнота; рвота с примесью желчи; отрыжка с привкусом желчи   периодические боли в правом подреберье и в эпигастральной области тошнота рвота  если тонус мускулатуры желчного пузыря повышен, боль дает о себе знать в виде приступов (спазмирование мышц пузыря), она появляется время от времени, достаточно резкая, похожа на желчную колику при желчнокаменной болезни; горечь во рту, рвота желчью; диарея или, наоборот, запоры; вздутие живота; на этапе обострения — повышение температуры до 38 градусов; зуд кожи; быстрое чувство утомляемости; общее ослабление организма; снижение аппетита и частая раздражительность; иногда аллергические реакции на определенную пищу.  боль под ребрами в правом боку, особенно при перемене положения тела, которая может ощущаться также в правом плече, лопатке, стороне шеи  тошнота и рвота; вздутие живота (метеоризм) диарея (понос), особенно после употребления жирной, жареной или копченой пищи; повышенная температура тела до 37-39 °С; озноб.  Боль в правой верхней части живота Вздутие живота Небольшое повышение температуры Озноб Потливость Снижение или отсутствие аппетита Тошнота Рвота   тупые ноющие боли в области правого подреберья,возникают через 1-3 ч после приема обильной, особенно жирной пищи и жареных блюд. иррадиируют в верх, в область правого плеча, шеи, лопатки, порой в левое подреберье. Она усиливается при физической нагрузке, тряске, после приема острых закусок, вина и пива. При сочетании холецистита с желчнокаменной болезнью могут появляться резкие боли по типу желчной колики. диспепсические явления: ощущение горечи и металлического вкуса во рту, отрыжка воздухом, тошнота, вздутие живота, чередование запоров и поносов. состояние тяжести, иногда небольшой боли тупого характера в правом подреберье. Во время обострения боль в правом подреберье с иррадиацией в шею, лопатку, плечо, спину права, усиливающаяся после приема пищи (погрешности в диете) и алкоголя; во рту сухость и горечь; тошнота, рвота, во время которой усиливаются все болезненные процессы. Может наблюдаться небольшая желтушность скляр (глаз) и мелкого неба.   резкие, долгие боли в правом боку, которые могут отдавать в плечо или под лопатку, а также носить опоясывающий характер; тошноту; озноб; привкус горечи; слабость; рвоту, в которой могут содержаться примеси желчи; вздутие живота; отрыжку; сухость во рту; повышение температуры; тахикардию; появление непонятного налета на языке.  боль, чувство тяжести или жжения в правом боку под ребрами после употребления жирной и жареной пищи; боль может отдавать в правое плечо, лопатку, спину; горечь во рту или горькая отрыжка; отрыжка \"тухлым\"; сухость во рту; слабость; снижение работоспособности; раздражительность; незначительное повышение температуры; возможен озноб; чувство тяжести в животе; периодические запоры или поносы; метеоризм; тошнота после еды; рвота; бессонница; возможна кратковременная проходящая желтуха.   -Давление и боли в правом подреберье  -от любой съеденной еды может стать плохо, тошнота рвота  -да тяжесть постоянная, тошнота и горечь тоже. Приступ был на днях - больно очень...  -Приступы протекают всегда одинаково, обычно начинаются поздно вечером: вначале тяжесть в желудке и в правом подреберье, потом боль усиливается и становится просто нетерпимой, прожигает наскозь позвоночник и держится несколько часов. Никакие таблетки /но-шпа и т.п./ не помогают. Только по прошествии времени боль ослабевает, несколько дней сижу на диете, обычно наступает улучшение и так до очередной бессонной ночи.   -Боли были постоянными. Камни не обнаруживали.У меня, то рвота, то понос.  ']"
            ]
          },
          "metadata": {
            "tags": []
          },
          "execution_count": 10
        }
      ]
    },
    {
      "cell_type": "code",
      "metadata": {
        "id": "BbGD44LoY_lY"
      },
      "source": [
        "def clean_text(wholeText):\n",
        "  # оставляет только текстовые значения\n",
        "  new_text = []\n",
        "  for i in wholeText:\n",
        "    new_text.append(re.sub(r' +',' ', re.sub(r'[^\\w\\s]', '', i)))\n",
        "  return new_text"
      ],
      "execution_count": null,
      "outputs": []
    },
    {
      "cell_type": "code",
      "metadata": {
        "id": "EkDmOUIGZBVR"
      },
      "source": [
        "wholeText_cl = clean_text(wholeText)"
      ],
      "execution_count": null,
      "outputs": []
    },
    {
      "cell_type": "code",
      "metadata": {
        "id": "qcg4mW3TFc5B",
        "colab": {
          "base_uri": "https://localhost:8080/",
          "height": 70
        },
        "outputId": "7eccf324-9fed-43d2-fed7-29fd1477ddcd"
      },
      "source": [
        "morph = pymorphy2.MorphAnalyzer(lang='ru-old')"
      ],
      "execution_count": null,
      "outputs": [
        {
          "output_type": "stream",
          "text": [
            "/usr/local/lib/python3.6/dist-packages/pymorphy2/analyzer.py:296: UserWarning: Dictionary language (None) doesn't match analyzer language ('ru-old').\n",
            "  \"analyzer language (%r).\" % (dictionary.lang, lang)\n"
          ],
          "name": "stderr"
        }
      ]
    },
    {
      "cell_type": "code",
      "metadata": {
        "id": "EPKodE7C8hw5"
      },
      "source": [
        "# приводим все слова к нормальной форме\n",
        "wholeText_cl_norm = []\n",
        "for item in wholeText_cl:\n",
        "  str_norm = ''\n",
        "  for word in item.split():\n",
        "    str_norm += morph.parse(word)[0].normal_form + ' '\n",
        "  wholeText_cl_norm.append(str_norm)"
      ],
      "execution_count": null,
      "outputs": []
    },
    {
      "cell_type": "code",
      "metadata": {
        "id": "1qLsOSdsIvkl"
      },
      "source": [
        "trainText = []\n",
        "testText = []\n",
        "for s in wholeText_cl_norm:\n",
        "  tr, tst = train_test_split(s.split(), test_size=0.15, shuffle=True)\n",
        "  trainText.append(tr)\n",
        "  testText.append(tst)\n",
        "\n",
        "maxWordsCount = 500\n",
        "tokenizer = Tokenizer(num_words=maxWordsCount, lower=True, split=' ', char_level=False,\n",
        "                      oov_token='unknown')\n",
        "tokenizer.fit_on_texts(trainText)\n",
        "items = list(tokenizer.word_index.items())\n",
        "\n",
        "def getSetFromIndexes(wordIndexes, xLen, step):\n",
        "  xSample = []\n",
        "  wordsLen = len(wordIndexes)\n",
        "  index = 0\n",
        "  while (index + xLen <= wordsLen):\n",
        "    xSample.append(wordIndexes[index:index+xLen])\n",
        "    index +=step\n",
        "  return xSample\n",
        "\n",
        "def createSetMultiClasses(wordIndexes, xLen, step):\n",
        "  nClasses = len(wordIndexes)\n",
        "  classesXSamples = []\n",
        "  for wI in wordIndexes:\n",
        "    classesXSamples.append(getSetFromIndexes(wI, xLen, step))\n",
        "  xSamples = []\n",
        "  ySamples = []\n",
        "\n",
        "  for t in range(nClasses):\n",
        "    xT = classesXSamples[t]\n",
        "    for i in range(len(xT)):\n",
        "      xSamples.append(xT[i])\n",
        "      ySamples.append(utils.to_categorical(t, nClasses))\n",
        "\n",
        "  xSamples = np.array(xSamples)\n",
        "  ySamples = np.array(ySamples)\n",
        "\n",
        "  return (xSamples, ySamples)"
      ],
      "execution_count": null,
      "outputs": []
    },
    {
      "cell_type": "code",
      "metadata": {
        "id": "U5PjHWUQJ5xy"
      },
      "source": [
        "trainWordIndexes = tokenizer.texts_to_sequences(trainText)\n",
        "testWordIndexes = tokenizer.texts_to_sequences(testText)\n",
        "xLen = 50\n",
        "step = 5\n",
        "\n",
        "xTrain, yTrain = createSetMultiClasses(trainWordIndexes, xLen, step)\n",
        "xTest, yTest = createSetMultiClasses(testWordIndexes, xLen, step)\n",
        "\n",
        "xTrain01 = tokenizer.sequences_to_matrix(xTrain.tolist())\n",
        "xTest01 = tokenizer.sequences_to_matrix(xTest.tolist())"
      ],
      "execution_count": null,
      "outputs": []
    },
    {
      "cell_type": "code",
      "metadata": {
        "id": "39lNln6bJ9Mo"
      },
      "source": [
        "def createTestMultiClasses(wordIndexes, xLen, step): # функция принимает последовательность индексов, размер окна, шаг окна\n",
        "\n",
        "  nClasses = len(wordIndexes) \n",
        "  xTest6Classes01 = []               \n",
        "  xTest6Classes = []                 \n",
        "  for wI in wordIndexes:             \n",
        "    sample = (getSetFromIndexes(wI, xLen, step))\n",
        "    xTest6Classes.append(np.array(sample))       \n",
        "    xTest6Classes01.append(tokenizer.sequences_to_matrix(sample)) \n",
        "  xTest6Classes01 = np.array(xTest6Classes01)                     \n",
        "  \n",
        "  return xTest6Classes01, xTest6Classes\n",
        "\n",
        "def recognizeMultiClass(model, xTest, modelName):\n",
        "  print(\"НЕЙРОНКА: \", modelName)\n",
        "  print()\n",
        "  \n",
        "  val = []\n",
        "  pred = []\n",
        "  \n",
        "  totalSumRec = []\n",
        "  \n",
        "  for i in range(nClasses):\n",
        "    currPred = model.predict(xTest[i])\n",
        "    pred.append(currPred)\n",
        "    currOut = np.argmax(currPred, axis=1)\n",
        "    \n",
        "\n",
        "    evVal = []\n",
        "    sumRec = []\n",
        "    for j in range(nClasses):\n",
        "      sumRec.append(0)\n",
        "      for t in range(len(currOut)):\n",
        "        if (currOut[t] == j):\n",
        "          sumRec[j] += 1\n",
        "      evVal.append(sumRec[j] / len(currOut))\n",
        "    \n",
        "    totalSumRec.append(sumRec[i])\n",
        "    \n",
        "    val.append(evVal[i])\n",
        "    recognizedClass = np.argmax(evVal)\n",
        "    \n",
        "    isRecognized = \"распознано НЕ ВЕРНО!\"\n",
        "    if (recognizedClass == i):\n",
        "      isRecognized = \"распознано ВЕРНО!\"\n",
        "    print(className[i], \" распознано \", int(100*evVal[i]), \"% сеть считает, что это \", className[recognizedClass], \", \", isRecognized)\n",
        "  \n",
        "  print()\n",
        "  sumVal = 0\n",
        "  sumCount = 0\n",
        "  lenXtest = []\n",
        "  for i in range(nClasses):\n",
        "    sumCount += len(xTest[i])\n",
        "    sumVal += totalSumRec[i]\n",
        "  print(\"Средний процент распознавания \", int(100*sumVal/sumCount), \"%\")\n",
        "  print()\n",
        "  return sumVal/sumCount\n",
        "\n",
        "xTest10Classes01, xTest10Classes = createTestMultiClasses(testWordIndexes, xLen, step)"
      ],
      "execution_count": null,
      "outputs": []
    },
    {
      "cell_type": "markdown",
      "metadata": {
        "id": "W1c4GBmW7Fxi"
      },
      "source": [
        "## Embedding + Conv1D\n"
      ]
    },
    {
      "cell_type": "code",
      "metadata": {
        "id": "TIJK3q4hfEzC"
      },
      "source": [
        "clb_save = ModelCheckpoint('/content/drive/My Drive/Colab Notebooks/18. Рекуррентные сети/50xLen/callbacks_all/weights{epoch:02d}.hdf5', save_best_only=False)"
      ],
      "execution_count": null,
      "outputs": []
    },
    {
      "cell_type": "code",
      "metadata": {
        "id": "3QMFwpYI78M8",
        "colab": {
          "base_uri": "https://localhost:8080/",
          "height": 1000
        },
        "outputId": "d9873607-946a-42a0-b54e-d4cffba0ffc1"
      },
      "source": [
        "model = Sequential()\n",
        "model.add(Embedding(maxWordsCount, 20, input_length=xLen))\n",
        "model.add(SpatialDropout1D(0.4))\n",
        "model.add(Conv1D(64,4, padding='same', activation='relu'))\n",
        "model.add(Conv1D(64,4, padding='same', activation='relu'))\n",
        "model.add(MaxPooling1D(2))\n",
        "model.add(Dropout(0.5))\n",
        "model.add(BatchNormalization())\n",
        "model.add(Flatten())\n",
        "model.add(Dense(1000, activation='relu'))\n",
        "model.add(Dropout(0.5))\n",
        "model.add(BatchNormalization())\n",
        "model.add(Dense(500, activation='relu'))\n",
        "model.add(Dropout(0.5))\n",
        "model.add(BatchNormalization())\n",
        "model.add(Dense(10, activation='softmax'))\n",
        "\n",
        "model.compile(optimizer = RMSprop(lr=0.0005),\n",
        "              loss='categorical_crossentropy',\n",
        "              metrics = ['accuracy'])\n",
        "history = model.fit(xTrain, yTrain,\n",
        "                    epochs=50,\n",
        "                    batch_size=20,\n",
        "                    validation_data=(xTest, yTest),\n",
        "                    callbacks=[clb_save])\n",
        "\n",
        "plt.plot(history.history['accuracy'], \n",
        "         label='Доля верных ответов на обучающем наборе')\n",
        "plt.plot(history.history['val_accuracy'], \n",
        "         label='Доля верных ответов на проверочном наборе')\n",
        "plt.xlabel('Эпоха обучения')\n",
        "plt.ylabel('Доля верных ответов')\n",
        "plt.legend()\n",
        "plt.show()\n",
        "\n",
        "pred = recognizeMultiClass(model, xTest10Classes, \"Embedding + Conv1D\")"
      ],
      "execution_count": null,
      "outputs": [
        {
          "output_type": "stream",
          "text": [
            "Epoch 1/50\n",
            "159/159 [==============================] - 2s 13ms/step - loss: 2.9253 - accuracy: 0.1222 - val_loss: 2.3623 - val_accuracy: 0.0331\n",
            "Epoch 2/50\n",
            "159/159 [==============================] - 2s 10ms/step - loss: 2.5150 - accuracy: 0.2003 - val_loss: 2.4518 - val_accuracy: 0.0967\n",
            "Epoch 3/50\n",
            "159/159 [==============================] - 2s 10ms/step - loss: 1.8591 - accuracy: 0.3838 - val_loss: 1.8383 - val_accuracy: 0.3757\n",
            "Epoch 4/50\n",
            "159/159 [==============================] - 2s 11ms/step - loss: 1.1671 - accuracy: 0.5904 - val_loss: 1.3634 - val_accuracy: 0.4779\n",
            "Epoch 5/50\n",
            "159/159 [==============================] - 2s 11ms/step - loss: 0.6961 - accuracy: 0.7509 - val_loss: 1.6736 - val_accuracy: 0.5856\n",
            "Epoch 6/50\n",
            "159/159 [==============================] - 2s 10ms/step - loss: 0.4127 - accuracy: 0.8555 - val_loss: 1.0010 - val_accuracy: 0.6630\n",
            "Epoch 7/50\n",
            "159/159 [==============================] - 2s 10ms/step - loss: 0.2843 - accuracy: 0.9043 - val_loss: 0.7251 - val_accuracy: 0.7901\n",
            "Epoch 8/50\n",
            "159/159 [==============================] - 2s 12ms/step - loss: 0.2203 - accuracy: 0.9263 - val_loss: 0.6769 - val_accuracy: 0.7735\n",
            "Epoch 9/50\n",
            "159/159 [==============================] - 2s 12ms/step - loss: 0.1745 - accuracy: 0.9433 - val_loss: 0.4276 - val_accuracy: 0.8260\n",
            "Epoch 10/50\n",
            "159/159 [==============================] - 2s 11ms/step - loss: 0.1517 - accuracy: 0.9499 - val_loss: 0.6555 - val_accuracy: 0.8066\n",
            "Epoch 11/50\n",
            "159/159 [==============================] - 2s 11ms/step - loss: 0.1400 - accuracy: 0.9540 - val_loss: 0.5653 - val_accuracy: 0.8177\n",
            "Epoch 12/50\n",
            "159/159 [==============================] - 2s 11ms/step - loss: 0.1440 - accuracy: 0.9553 - val_loss: 0.6063 - val_accuracy: 0.8094\n",
            "Epoch 13/50\n",
            "159/159 [==============================] - 2s 11ms/step - loss: 0.1326 - accuracy: 0.9584 - val_loss: 0.6820 - val_accuracy: 0.8370\n",
            "Epoch 14/50\n",
            "159/159 [==============================] - 2s 10ms/step - loss: 0.1244 - accuracy: 0.9600 - val_loss: 0.7008 - val_accuracy: 0.8287\n",
            "Epoch 15/50\n",
            "159/159 [==============================] - 2s 11ms/step - loss: 0.0967 - accuracy: 0.9647 - val_loss: 0.5971 - val_accuracy: 0.8453\n",
            "Epoch 16/50\n",
            "159/159 [==============================] - 2s 11ms/step - loss: 0.1105 - accuracy: 0.9682 - val_loss: 0.4753 - val_accuracy: 0.8895\n",
            "Epoch 17/50\n",
            "159/159 [==============================] - 2s 12ms/step - loss: 0.1062 - accuracy: 0.9679 - val_loss: 0.5185 - val_accuracy: 0.8785\n",
            "Epoch 18/50\n",
            "159/159 [==============================] - 2s 11ms/step - loss: 0.1010 - accuracy: 0.9682 - val_loss: 0.5436 - val_accuracy: 0.8453\n",
            "Epoch 19/50\n",
            "159/159 [==============================] - 2s 11ms/step - loss: 0.0910 - accuracy: 0.9695 - val_loss: 0.3500 - val_accuracy: 0.9033\n",
            "Epoch 20/50\n",
            "159/159 [==============================] - 2s 10ms/step - loss: 0.0933 - accuracy: 0.9679 - val_loss: 0.4338 - val_accuracy: 0.8923\n",
            "Epoch 21/50\n",
            "159/159 [==============================] - 2s 10ms/step - loss: 0.0940 - accuracy: 0.9701 - val_loss: 0.7909 - val_accuracy: 0.8287\n",
            "Epoch 22/50\n",
            "159/159 [==============================] - 2s 11ms/step - loss: 0.0956 - accuracy: 0.9673 - val_loss: 0.4543 - val_accuracy: 0.8674\n",
            "Epoch 23/50\n",
            "159/159 [==============================] - 2s 10ms/step - loss: 0.0972 - accuracy: 0.9673 - val_loss: 0.5494 - val_accuracy: 0.8840\n",
            "Epoch 24/50\n",
            "159/159 [==============================] - 2s 11ms/step - loss: 0.0999 - accuracy: 0.9691 - val_loss: 0.5271 - val_accuracy: 0.8840\n",
            "Epoch 25/50\n",
            "159/159 [==============================] - 2s 12ms/step - loss: 0.0943 - accuracy: 0.9676 - val_loss: 0.3935 - val_accuracy: 0.9116\n",
            "Epoch 26/50\n",
            "159/159 [==============================] - 2s 10ms/step - loss: 0.1014 - accuracy: 0.9685 - val_loss: 0.5685 - val_accuracy: 0.8536\n",
            "Epoch 27/50\n",
            "159/159 [==============================] - 2s 11ms/step - loss: 0.0926 - accuracy: 0.9713 - val_loss: 0.8314 - val_accuracy: 0.8315\n",
            "Epoch 28/50\n",
            "159/159 [==============================] - 2s 11ms/step - loss: 0.0835 - accuracy: 0.9745 - val_loss: 0.9059 - val_accuracy: 0.8204\n",
            "Epoch 29/50\n",
            "159/159 [==============================] - 2s 10ms/step - loss: 0.0817 - accuracy: 0.9748 - val_loss: 0.9970 - val_accuracy: 0.8177\n",
            "Epoch 30/50\n",
            "159/159 [==============================] - 2s 10ms/step - loss: 0.0746 - accuracy: 0.9761 - val_loss: 0.4990 - val_accuracy: 0.9171\n",
            "Epoch 31/50\n",
            "159/159 [==============================] - 2s 12ms/step - loss: 0.0803 - accuracy: 0.9736 - val_loss: 0.5381 - val_accuracy: 0.8729\n",
            "Epoch 32/50\n",
            "159/159 [==============================] - 2s 10ms/step - loss: 0.0833 - accuracy: 0.9723 - val_loss: 0.6439 - val_accuracy: 0.8536\n",
            "Epoch 33/50\n",
            "159/159 [==============================] - 2s 11ms/step - loss: 0.0842 - accuracy: 0.9710 - val_loss: 1.1579 - val_accuracy: 0.7845\n",
            "Epoch 34/50\n",
            "159/159 [==============================] - 2s 12ms/step - loss: 0.0846 - accuracy: 0.9729 - val_loss: 0.7348 - val_accuracy: 0.8481\n",
            "Epoch 35/50\n",
            "159/159 [==============================] - 2s 11ms/step - loss: 0.0792 - accuracy: 0.9748 - val_loss: 1.0753 - val_accuracy: 0.7901\n",
            "Epoch 36/50\n",
            "159/159 [==============================] - 2s 13ms/step - loss: 0.0748 - accuracy: 0.9758 - val_loss: 1.1121 - val_accuracy: 0.8011\n",
            "Epoch 37/50\n",
            "159/159 [==============================] - 2s 11ms/step - loss: 0.0818 - accuracy: 0.9732 - val_loss: 0.9773 - val_accuracy: 0.8094\n",
            "Epoch 38/50\n",
            "159/159 [==============================] - 2s 11ms/step - loss: 0.0817 - accuracy: 0.9742 - val_loss: 0.7576 - val_accuracy: 0.8177\n",
            "Epoch 39/50\n",
            "159/159 [==============================] - 2s 12ms/step - loss: 0.0685 - accuracy: 0.9776 - val_loss: 0.7531 - val_accuracy: 0.8370\n",
            "Epoch 40/50\n",
            "159/159 [==============================] - 2s 11ms/step - loss: 0.0697 - accuracy: 0.9767 - val_loss: 1.0816 - val_accuracy: 0.7983\n",
            "Epoch 41/50\n",
            "159/159 [==============================] - 2s 11ms/step - loss: 0.0840 - accuracy: 0.9739 - val_loss: 0.8879 - val_accuracy: 0.8287\n",
            "Epoch 42/50\n",
            "159/159 [==============================] - 2s 11ms/step - loss: 0.0671 - accuracy: 0.9764 - val_loss: 1.1911 - val_accuracy: 0.7845\n",
            "Epoch 43/50\n",
            "159/159 [==============================] - 2s 11ms/step - loss: 0.0795 - accuracy: 0.9745 - val_loss: 1.3252 - val_accuracy: 0.7707\n",
            "Epoch 44/50\n",
            "159/159 [==============================] - 2s 10ms/step - loss: 0.0627 - accuracy: 0.9795 - val_loss: 1.4839 - val_accuracy: 0.7624\n",
            "Epoch 45/50\n",
            "159/159 [==============================] - 2s 10ms/step - loss: 0.0685 - accuracy: 0.9798 - val_loss: 1.7276 - val_accuracy: 0.7597\n",
            "Epoch 46/50\n",
            "159/159 [==============================] - 2s 10ms/step - loss: 0.0658 - accuracy: 0.9821 - val_loss: 0.9254 - val_accuracy: 0.8343\n",
            "Epoch 47/50\n",
            "159/159 [==============================] - 2s 11ms/step - loss: 0.0765 - accuracy: 0.9745 - val_loss: 1.0157 - val_accuracy: 0.8260\n",
            "Epoch 48/50\n",
            "159/159 [==============================] - 2s 12ms/step - loss: 0.0694 - accuracy: 0.9789 - val_loss: 0.6836 - val_accuracy: 0.8895\n",
            "Epoch 49/50\n",
            "159/159 [==============================] - 2s 11ms/step - loss: 0.0781 - accuracy: 0.9773 - val_loss: 1.1924 - val_accuracy: 0.7652\n",
            "Epoch 50/50\n",
            "159/159 [==============================] - 2s 11ms/step - loss: 0.0686 - accuracy: 0.9780 - val_loss: 1.1816 - val_accuracy: 0.8094\n"
          ],
          "name": "stdout"
        },
        {
          "output_type": "display_data",
          "data": {
            "image/png": "[encoded data removed]",
            "text/plain": [
              "<Figure size 432x288 with 1 Axes>"
            ]
          },
          "metadata": {
            "tags": [],
            "needs_background": "light"
          }
        },
        {
          "output_type": "stream",
          "text": [
            "НЕЙРОНКА:  Embedding + LSTM\n",
            "\n",
            "Аппендицит  распознано  81 % сеть считает, что это  Аппендицит ,  распознано ВЕРНО!\n",
            "Гастрит  распознано  58 % сеть считает, что это  Гастрит ,  распознано ВЕРНО!\n",
            "Гепатит  распознано  50 % сеть считает, что это  Гепатит ,  распознано ВЕРНО!\n",
            "Дуоденит  распознано  5 % сеть считает, что это  Энтерит ,  распознано НЕ ВЕРНО!\n",
            "Колит  распознано  100 % сеть считает, что это  Колит ,  распознано ВЕРНО!\n",
            "Панкреатит  распознано  100 % сеть считает, что это  Панкреатит ,  распознано ВЕРНО!\n",
            "Холецестит  распознано  88 % сеть считает, что это  Холецестит ,  распознано ВЕРНО!\n",
            "Эзофагит  распознано  0 % сеть считает, что это  Колит ,  распознано НЕ ВЕРНО!\n",
            "Энтерит  распознано  100 % сеть считает, что это  Энтерит ,  распознано ВЕРНО!\n",
            "Язва  распознано  76 % сеть считает, что это  Язва ,  распознано ВЕРНО!\n",
            "\n",
            "Средний процент распознавания  80 %\n",
            "\n"
          ],
          "name": "stdout"
        }
      ]
    },
    {
      "cell_type": "code",
      "metadata": {
        "id": "VcvohvVpuix3",
        "colab": {
          "base_uri": "https://localhost:8080/",
          "height": 269
        },
        "outputId": "117ab7d9-acb3-4c2a-dacd-ff91f58e753d"
      },
      "source": [
        "# загружаем модель с лучшей эпохи\n",
        "model_itog = load_model('/content/drive/My Drive/Colab Notebooks/18. Рекуррентные сети/50xLen/callbacks_all/weights30.hdf5')\n",
        "pred = recognizeMultiClass(model_itog, xTest10Classes, \"Embedding + Conv1D\")"
      ],
      "execution_count": null,
      "outputs": [
        {
          "output_type": "stream",
          "text": [
            "НЕЙРОНКА:  Embedding + LSTM\n",
            "\n",
            "Аппендицит  распознано  70 % сеть считает, что это  Аппендицит ,  распознано ВЕРНО!\n",
            "Гастрит  распознано  75 % сеть считает, что это  Гастрит ,  распознано ВЕРНО!\n",
            "Гепатит  распознано  100 % сеть считает, что это  Гепатит ,  распознано ВЕРНО!\n",
            "Дуоденит  распознано  55 % сеть считает, что это  Дуоденит ,  распознано ВЕРНО!\n",
            "Колит  распознано  100 % сеть считает, что это  Колит ,  распознано ВЕРНО!\n",
            "Панкреатит  распознано  100 % сеть считает, что это  Панкреатит ,  распознано ВЕРНО!\n",
            "Холецестит  распознано  100 % сеть считает, что это  Холецестит ,  распознано ВЕРНО!\n",
            "Эзофагит  распознано  0 % сеть считает, что это  Колит ,  распознано НЕ ВЕРНО!\n",
            "Энтерит  распознано  97 % сеть считает, что это  Энтерит ,  распознано ВЕРНО!\n",
            "Язва  распознано  100 % сеть считает, что это  Язва ,  распознано ВЕРНО!\n",
            "\n",
            "Средний процент распознавания  91 %\n",
            "\n"
          ],
          "name": "stdout"
        }
      ]
    },
    {
      "cell_type": "markdown",
      "metadata": {
        "id": "aXGL0p_BqQzH"
      },
      "source": [
        "## Bag of Words + Dense"
      ]
    },
    {
      "cell_type": "code",
      "metadata": {
        "id": "cbHNw0-plAcD",
        "colab": {
          "base_uri": "https://localhost:8080/",
          "height": 1000
        },
        "outputId": "bb88906d-a28f-46c1-d03c-86d923dc8090"
      },
      "source": [
        "model01 = Sequential()\n",
        "model01.add(Dense(500, input_dim = maxWordsCount, activation='relu'))\n",
        "model01.add(Dropout(0.4))\n",
        "model01.add(BatchNormalization())\n",
        "model01.add(Dense(200, activation='relu'))\n",
        "model01.add(Dropout(0.45))\n",
        "model01.add(BatchNormalization())\n",
        "model01.add(Dense(50, activation='relu'))\n",
        "model01.add(Dense(10, activation='sigmoid'))\n",
        "\n",
        "model01.compile(optimizer='rmsprop', loss='categorical_crossentropy', metrics=['accuracy'])\n",
        "\n",
        "history = model01.fit(xTrain01, yTrain,\n",
        "                      epochs=100,\n",
        "                      batch_size=128,\n",
        "                      validation_data=(xTest01, yTest))\n",
        "plt.plot(history.history['accuracy'], \n",
        "        label='Доля верных ответов на обучающем наборе')\n",
        "plt.plot(history.history['val_accuracy'], \n",
        "        label='Доля верных ответов на проверочном наборе')\n",
        "plt.xlabel('Эпоха обучения')\n",
        "plt.ylabel('Доля верных ответов')\n",
        "plt.legend()\n",
        "plt.show()"
      ],
      "execution_count": null,
      "outputs": [
        {
          "output_type": "stream",
          "text": [
            "Epoch 1/100\n",
            "10/10 [==============================] - 0s 18ms/step - loss: 1.9708 - accuracy: 0.3736 - val_loss: 2.1367 - val_accuracy: 0.5405\n",
            "Epoch 2/100\n",
            "10/10 [==============================] - 0s 5ms/step - loss: 1.4725 - accuracy: 0.8053 - val_loss: 2.0049 - val_accuracy: 0.7297\n",
            "Epoch 3/100\n",
            "10/10 [==============================] - 0s 5ms/step - loss: 1.0764 - accuracy: 0.9223 - val_loss: 1.8180 - val_accuracy: 0.8243\n",
            "Epoch 4/100\n",
            "10/10 [==============================] - 0s 5ms/step - loss: 0.6835 - accuracy: 0.9466 - val_loss: 1.5723 - val_accuracy: 0.9257\n",
            "Epoch 5/100\n",
            "10/10 [==============================] - 0s 5ms/step - loss: 0.3936 - accuracy: 0.9623 - val_loss: 1.3536 - val_accuracy: 0.8986\n",
            "Epoch 6/100\n",
            "10/10 [==============================] - 0s 5ms/step - loss: 0.2106 - accuracy: 0.9851 - val_loss: 1.1485 - val_accuracy: 0.9257\n",
            "Epoch 7/100\n",
            "10/10 [==============================] - 0s 5ms/step - loss: 0.1069 - accuracy: 0.9992 - val_loss: 0.9650 - val_accuracy: 0.9189\n",
            "Epoch 8/100\n",
            "10/10 [==============================] - 0s 5ms/step - loss: 0.0549 - accuracy: 1.0000 - val_loss: 0.8160 - val_accuracy: 0.9257\n",
            "Epoch 9/100\n",
            "10/10 [==============================] - 0s 5ms/step - loss: 0.0327 - accuracy: 1.0000 - val_loss: 0.6802 - val_accuracy: 0.9324\n",
            "Epoch 10/100\n",
            "10/10 [==============================] - 0s 5ms/step - loss: 0.0175 - accuracy: 1.0000 - val_loss: 0.5737 - val_accuracy: 0.9392\n",
            "Epoch 11/100\n",
            "10/10 [==============================] - 0s 5ms/step - loss: 0.0110 - accuracy: 1.0000 - val_loss: 0.4861 - val_accuracy: 0.9324\n",
            "Epoch 12/100\n",
            "10/10 [==============================] - 0s 5ms/step - loss: 0.0064 - accuracy: 1.0000 - val_loss: 0.4145 - val_accuracy: 0.9257\n",
            "Epoch 13/100\n",
            "10/10 [==============================] - 0s 5ms/step - loss: 0.0042 - accuracy: 1.0000 - val_loss: 0.3493 - val_accuracy: 0.9257\n",
            "Epoch 14/100\n",
            "10/10 [==============================] - 0s 5ms/step - loss: 0.0027 - accuracy: 1.0000 - val_loss: 0.3126 - val_accuracy: 0.9324\n",
            "Epoch 15/100\n",
            "10/10 [==============================] - 0s 5ms/step - loss: 0.0015 - accuracy: 1.0000 - val_loss: 0.2827 - val_accuracy: 0.9392\n",
            "Epoch 16/100\n",
            "10/10 [==============================] - 0s 5ms/step - loss: 9.8581e-04 - accuracy: 1.0000 - val_loss: 0.2538 - val_accuracy: 0.9392\n",
            "Epoch 17/100\n",
            "10/10 [==============================] - 0s 5ms/step - loss: 6.7555e-04 - accuracy: 1.0000 - val_loss: 0.2339 - val_accuracy: 0.9324\n",
            "Epoch 18/100\n",
            "10/10 [==============================] - 0s 5ms/step - loss: 4.9551e-04 - accuracy: 1.0000 - val_loss: 0.2306 - val_accuracy: 0.9392\n",
            "Epoch 19/100\n",
            "10/10 [==============================] - 0s 5ms/step - loss: 3.1685e-04 - accuracy: 1.0000 - val_loss: 0.2401 - val_accuracy: 0.9189\n",
            "Epoch 20/100\n",
            "10/10 [==============================] - 0s 5ms/step - loss: 1.8553e-04 - accuracy: 1.0000 - val_loss: 0.2153 - val_accuracy: 0.9392\n",
            "Epoch 21/100\n",
            "10/10 [==============================] - 0s 5ms/step - loss: 1.4603e-04 - accuracy: 1.0000 - val_loss: 0.1888 - val_accuracy: 0.9459\n",
            "Epoch 22/100\n",
            "10/10 [==============================] - 0s 5ms/step - loss: 7.5797e-05 - accuracy: 1.0000 - val_loss: 0.2049 - val_accuracy: 0.9392\n",
            "Epoch 23/100\n",
            "10/10 [==============================] - 0s 5ms/step - loss: 5.8527e-05 - accuracy: 1.0000 - val_loss: 0.1975 - val_accuracy: 0.9392\n",
            "Epoch 24/100\n",
            "10/10 [==============================] - 0s 5ms/step - loss: 5.4373e-05 - accuracy: 1.0000 - val_loss: 0.1811 - val_accuracy: 0.9392\n",
            "Epoch 25/100\n",
            "10/10 [==============================] - 0s 5ms/step - loss: 3.5768e-05 - accuracy: 1.0000 - val_loss: 0.1910 - val_accuracy: 0.9392\n",
            "Epoch 26/100\n",
            "10/10 [==============================] - 0s 5ms/step - loss: 4.5203e-05 - accuracy: 1.0000 - val_loss: 0.2679 - val_accuracy: 0.9189\n",
            "Epoch 27/100\n",
            "10/10 [==============================] - 0s 5ms/step - loss: 9.1056e-05 - accuracy: 1.0000 - val_loss: 0.1718 - val_accuracy: 0.9392\n",
            "Epoch 28/100\n",
            "10/10 [==============================] - 0s 5ms/step - loss: 1.4775e-05 - accuracy: 1.0000 - val_loss: 0.1728 - val_accuracy: 0.9392\n",
            "Epoch 29/100\n",
            "10/10 [==============================] - 0s 5ms/step - loss: 1.1153e-05 - accuracy: 1.0000 - val_loss: 0.1609 - val_accuracy: 0.9392\n",
            "Epoch 30/100\n",
            "10/10 [==============================] - 0s 5ms/step - loss: 1.2095e-05 - accuracy: 1.0000 - val_loss: 0.1598 - val_accuracy: 0.9459\n",
            "Epoch 31/100\n",
            "10/10 [==============================] - 0s 5ms/step - loss: 6.3073e-06 - accuracy: 1.0000 - val_loss: 0.1533 - val_accuracy: 0.9459\n",
            "Epoch 32/100\n",
            "10/10 [==============================] - 0s 6ms/step - loss: 4.0343e-06 - accuracy: 1.0000 - val_loss: 0.1556 - val_accuracy: 0.9527\n",
            "Epoch 33/100\n",
            "10/10 [==============================] - 0s 5ms/step - loss: 2.0656e-05 - accuracy: 1.0000 - val_loss: 0.1401 - val_accuracy: 0.9662\n",
            "Epoch 34/100\n",
            "10/10 [==============================] - 0s 6ms/step - loss: 4.9060e-06 - accuracy: 1.0000 - val_loss: 0.1457 - val_accuracy: 0.9662\n",
            "Epoch 35/100\n",
            "10/10 [==============================] - 0s 5ms/step - loss: 2.7451e-06 - accuracy: 1.0000 - val_loss: 0.1654 - val_accuracy: 0.9662\n",
            "Epoch 36/100\n",
            "10/10 [==============================] - 0s 5ms/step - loss: 1.6614e-06 - accuracy: 1.0000 - val_loss: 0.1625 - val_accuracy: 0.9595\n",
            "Epoch 37/100\n",
            "10/10 [==============================] - 0s 5ms/step - loss: 2.1624e-06 - accuracy: 1.0000 - val_loss: 0.1644 - val_accuracy: 0.9662\n",
            "Epoch 38/100\n",
            "10/10 [==============================] - 0s 5ms/step - loss: 1.8264e-06 - accuracy: 1.0000 - val_loss: 0.1600 - val_accuracy: 0.9662\n",
            "Epoch 39/100\n",
            "10/10 [==============================] - 0s 5ms/step - loss: 1.5594e-06 - accuracy: 1.0000 - val_loss: 0.1705 - val_accuracy: 0.9595\n",
            "Epoch 40/100\n",
            "10/10 [==============================] - 0s 5ms/step - loss: 7.6406e-07 - accuracy: 1.0000 - val_loss: 0.1627 - val_accuracy: 0.9595\n",
            "Epoch 41/100\n",
            "10/10 [==============================] - 0s 5ms/step - loss: 1.1204e-06 - accuracy: 1.0000 - val_loss: 0.1587 - val_accuracy: 0.9595\n",
            "Epoch 42/100\n",
            "10/10 [==============================] - 0s 5ms/step - loss: 1.1118e-06 - accuracy: 1.0000 - val_loss: 0.1589 - val_accuracy: 0.9527\n",
            "Epoch 43/100\n",
            "10/10 [==============================] - 0s 5ms/step - loss: 8.3105e-07 - accuracy: 1.0000 - val_loss: 0.1665 - val_accuracy: 0.9392\n",
            "Epoch 44/100\n",
            "10/10 [==============================] - 0s 5ms/step - loss: 4.7731e-06 - accuracy: 1.0000 - val_loss: 0.1861 - val_accuracy: 0.9257\n",
            "Epoch 45/100\n",
            "10/10 [==============================] - 0s 5ms/step - loss: 4.7244e-07 - accuracy: 1.0000 - val_loss: 0.1853 - val_accuracy: 0.9257\n",
            "Epoch 46/100\n",
            "10/10 [==============================] - 0s 5ms/step - loss: 6.1150e-07 - accuracy: 1.0000 - val_loss: 0.1846 - val_accuracy: 0.9257\n",
            "Epoch 47/100\n",
            "10/10 [==============================] - 0s 5ms/step - loss: 9.7274e-07 - accuracy: 1.0000 - val_loss: 0.1663 - val_accuracy: 0.9324\n",
            "Epoch 48/100\n",
            "10/10 [==============================] - 0s 5ms/step - loss: 3.7009e-06 - accuracy: 1.0000 - val_loss: 0.2458 - val_accuracy: 0.9324\n",
            "Epoch 49/100\n",
            "10/10 [==============================] - 0s 6ms/step - loss: 4.9753e-07 - accuracy: 1.0000 - val_loss: 0.2379 - val_accuracy: 0.9324\n",
            "Epoch 50/100\n",
            "10/10 [==============================] - 0s 5ms/step - loss: 6.2162e-07 - accuracy: 1.0000 - val_loss: 0.2283 - val_accuracy: 0.9392\n",
            "Epoch 51/100\n",
            "10/10 [==============================] - 0s 5ms/step - loss: 4.0928e-07 - accuracy: 1.0000 - val_loss: 0.2161 - val_accuracy: 0.9392\n",
            "Epoch 52/100\n",
            "10/10 [==============================] - 0s 5ms/step - loss: 1.1044e-06 - accuracy: 1.0000 - val_loss: 0.2375 - val_accuracy: 0.9392\n",
            "Epoch 53/100\n",
            "10/10 [==============================] - 0s 5ms/step - loss: 1.3278e-06 - accuracy: 1.0000 - val_loss: 0.2936 - val_accuracy: 0.9122\n",
            "Epoch 54/100\n",
            "10/10 [==============================] - 0s 5ms/step - loss: 8.6196e-07 - accuracy: 1.0000 - val_loss: 0.2692 - val_accuracy: 0.9122\n",
            "Epoch 55/100\n",
            "10/10 [==============================] - 0s 5ms/step - loss: 1.6802e-05 - accuracy: 1.0000 - val_loss: 0.3393 - val_accuracy: 0.8986\n",
            "Epoch 56/100\n",
            "10/10 [==============================] - 0s 5ms/step - loss: 2.4698e-07 - accuracy: 1.0000 - val_loss: 0.3206 - val_accuracy: 0.8986\n",
            "Epoch 57/100\n",
            "10/10 [==============================] - 0s 5ms/step - loss: 2.6710e-07 - accuracy: 1.0000 - val_loss: 0.3205 - val_accuracy: 0.8986\n",
            "Epoch 58/100\n",
            "10/10 [==============================] - 0s 5ms/step - loss: 2.5058e-07 - accuracy: 1.0000 - val_loss: 0.3125 - val_accuracy: 0.9054\n",
            "Epoch 59/100\n",
            "10/10 [==============================] - 0s 5ms/step - loss: 3.3991e-07 - accuracy: 1.0000 - val_loss: 0.3093 - val_accuracy: 0.9054\n",
            "Epoch 60/100\n",
            "10/10 [==============================] - 0s 5ms/step - loss: 3.1454e-07 - accuracy: 1.0000 - val_loss: 0.2766 - val_accuracy: 0.9189\n",
            "Epoch 61/100\n",
            "10/10 [==============================] - 0s 5ms/step - loss: 2.8254e-07 - accuracy: 1.0000 - val_loss: 0.2694 - val_accuracy: 0.9189\n",
            "Epoch 62/100\n",
            "10/10 [==============================] - 0s 5ms/step - loss: 8.0399e-07 - accuracy: 1.0000 - val_loss: 0.2601 - val_accuracy: 0.9122\n",
            "Epoch 63/100\n",
            "10/10 [==============================] - 0s 5ms/step - loss: 4.7386e-07 - accuracy: 1.0000 - val_loss: 0.2726 - val_accuracy: 0.9054\n",
            "Epoch 64/100\n",
            "10/10 [==============================] - 0s 5ms/step - loss: 2.9878e-07 - accuracy: 1.0000 - val_loss: 0.2678 - val_accuracy: 0.8986\n",
            "Epoch 65/100\n",
            "10/10 [==============================] - 0s 5ms/step - loss: 2.0291e-07 - accuracy: 1.0000 - val_loss: 0.2553 - val_accuracy: 0.9122\n",
            "Epoch 66/100\n",
            "10/10 [==============================] - 0s 6ms/step - loss: 1.4484e-06 - accuracy: 1.0000 - val_loss: 0.1937 - val_accuracy: 0.9189\n",
            "Epoch 67/100\n",
            "10/10 [==============================] - 0s 5ms/step - loss: 3.1670e-07 - accuracy: 1.0000 - val_loss: 0.2015 - val_accuracy: 0.9189\n",
            "Epoch 68/100\n",
            "10/10 [==============================] - 0s 5ms/step - loss: 2.3047e-07 - accuracy: 1.0000 - val_loss: 0.2072 - val_accuracy: 0.9324\n",
            "Epoch 69/100\n",
            "10/10 [==============================] - 0s 5ms/step - loss: 4.8564e-06 - accuracy: 1.0000 - val_loss: 0.3286 - val_accuracy: 0.8919\n",
            "Epoch 70/100\n",
            "10/10 [==============================] - 0s 5ms/step - loss: 2.4226e-07 - accuracy: 1.0000 - val_loss: 0.3013 - val_accuracy: 0.8919\n",
            "Epoch 71/100\n",
            "10/10 [==============================] - 0s 5ms/step - loss: 1.6389e-07 - accuracy: 1.0000 - val_loss: 0.2896 - val_accuracy: 0.8919\n",
            "Epoch 72/100\n",
            "10/10 [==============================] - 0s 5ms/step - loss: 1.7858e-07 - accuracy: 1.0000 - val_loss: 0.2810 - val_accuracy: 0.8986\n",
            "Epoch 73/100\n",
            "10/10 [==============================] - 0s 5ms/step - loss: 2.6327e-07 - accuracy: 1.0000 - val_loss: 0.2786 - val_accuracy: 0.8986\n",
            "Epoch 74/100\n",
            "10/10 [==============================] - 0s 5ms/step - loss: 2.2284e-07 - accuracy: 1.0000 - val_loss: 0.3070 - val_accuracy: 0.9054\n",
            "Epoch 75/100\n",
            "10/10 [==============================] - 0s 5ms/step - loss: 1.6295e-07 - accuracy: 1.0000 - val_loss: 0.2904 - val_accuracy: 0.9054\n",
            "Epoch 76/100\n",
            "10/10 [==============================] - 0s 5ms/step - loss: 3.4422e-07 - accuracy: 1.0000 - val_loss: 0.2799 - val_accuracy: 0.9122\n",
            "Epoch 77/100\n",
            "10/10 [==============================] - 0s 5ms/step - loss: 4.5524e-07 - accuracy: 1.0000 - val_loss: 0.2712 - val_accuracy: 0.9122\n",
            "Epoch 78/100\n",
            "10/10 [==============================] - 0s 5ms/step - loss: 6.1345e-07 - accuracy: 1.0000 - val_loss: 0.3606 - val_accuracy: 0.8716\n",
            "Epoch 79/100\n",
            "10/10 [==============================] - 0s 5ms/step - loss: 2.5798e-07 - accuracy: 1.0000 - val_loss: 0.3109 - val_accuracy: 0.8986\n",
            "Epoch 80/100\n",
            "10/10 [==============================] - 0s 5ms/step - loss: 2.3575e-07 - accuracy: 1.0000 - val_loss: 0.3118 - val_accuracy: 0.8986\n",
            "Epoch 81/100\n",
            "10/10 [==============================] - 0s 6ms/step - loss: 2.0642e-07 - accuracy: 1.0000 - val_loss: 0.2935 - val_accuracy: 0.9054\n",
            "Epoch 82/100\n",
            "10/10 [==============================] - 0s 5ms/step - loss: 2.2382e-07 - accuracy: 1.0000 - val_loss: 0.3146 - val_accuracy: 0.8986\n",
            "Epoch 83/100\n",
            "10/10 [==============================] - 0s 5ms/step - loss: 4.1567e-07 - accuracy: 1.0000 - val_loss: 0.3137 - val_accuracy: 0.9054\n",
            "Epoch 84/100\n",
            "10/10 [==============================] - 0s 6ms/step - loss: 1.6506e-07 - accuracy: 1.0000 - val_loss: 0.2986 - val_accuracy: 0.9054\n",
            "Epoch 85/100\n",
            "10/10 [==============================] - 0s 5ms/step - loss: 1.6983e-07 - accuracy: 1.0000 - val_loss: 0.2840 - val_accuracy: 0.9054\n",
            "Epoch 86/100\n",
            "10/10 [==============================] - 0s 5ms/step - loss: 3.6668e-07 - accuracy: 1.0000 - val_loss: 0.2897 - val_accuracy: 0.9122\n",
            "Epoch 87/100\n",
            "10/10 [==============================] - 0s 5ms/step - loss: 1.4602e-07 - accuracy: 1.0000 - val_loss: 0.2856 - val_accuracy: 0.9122\n",
            "Epoch 88/100\n",
            "10/10 [==============================] - 0s 5ms/step - loss: 1.3713e-07 - accuracy: 1.0000 - val_loss: 0.2821 - val_accuracy: 0.9122\n",
            "Epoch 89/100\n",
            "10/10 [==============================] - 0s 5ms/step - loss: 4.6455e-07 - accuracy: 1.0000 - val_loss: 0.3275 - val_accuracy: 0.9122\n",
            "Epoch 90/100\n",
            "10/10 [==============================] - 0s 5ms/step - loss: 4.9270e-07 - accuracy: 1.0000 - val_loss: 0.3317 - val_accuracy: 0.9054\n",
            "Epoch 91/100\n",
            "10/10 [==============================] - 0s 5ms/step - loss: 2.2930e-07 - accuracy: 1.0000 - val_loss: 0.3313 - val_accuracy: 0.9054\n",
            "Epoch 92/100\n",
            "10/10 [==============================] - 0s 5ms/step - loss: 1.8873e-07 - accuracy: 1.0000 - val_loss: 0.3372 - val_accuracy: 0.9054\n",
            "Epoch 93/100\n",
            "10/10 [==============================] - 0s 5ms/step - loss: 5.6464e-07 - accuracy: 1.0000 - val_loss: 0.3099 - val_accuracy: 0.9054\n",
            "Epoch 94/100\n",
            "10/10 [==============================] - 0s 5ms/step - loss: 1.5191e-07 - accuracy: 1.0000 - val_loss: 0.3086 - val_accuracy: 0.9189\n",
            "Epoch 95/100\n",
            "10/10 [==============================] - 0s 5ms/step - loss: 1.5687e-07 - accuracy: 1.0000 - val_loss: 0.3219 - val_accuracy: 0.9189\n",
            "Epoch 96/100\n",
            "10/10 [==============================] - 0s 5ms/step - loss: 1.6791e-07 - accuracy: 1.0000 - val_loss: 0.3166 - val_accuracy: 0.9122\n",
            "Epoch 97/100\n",
            "10/10 [==============================] - 0s 5ms/step - loss: 1.3273e-07 - accuracy: 1.0000 - val_loss: 0.3129 - val_accuracy: 0.9122\n",
            "Epoch 98/100\n",
            "10/10 [==============================] - 0s 6ms/step - loss: 1.5449e-06 - accuracy: 1.0000 - val_loss: 0.4154 - val_accuracy: 0.8716\n",
            "Epoch 99/100\n",
            "10/10 [==============================] - 0s 5ms/step - loss: 1.3133e-07 - accuracy: 1.0000 - val_loss: 0.3938 - val_accuracy: 0.8716\n",
            "Epoch 100/100\n",
            "10/10 [==============================] - 0s 5ms/step - loss: 1.8770e-07 - accuracy: 1.0000 - val_loss: 0.3840 - val_accuracy: 0.8784\n"
          ],
          "name": "stdout"
        },
        {
          "output_type": "display_data",
          "data": {
            "image/png": "[encoded data removed]",
            "text/plain": [
              "<Figure size 432x288 with 1 Axes>"
            ]
          },
          "metadata": {
            "tags": [],
            "needs_background": "light"
          }
        }
      ]
    },
    {
      "cell_type": "code",
      "metadata": {
        "id": "syqEuNwglBRc"
      },
      "source": [
        "# на 49 эпохе точность была 96%. Когда пробовал BagOfWords еще не прикрутил callback с сохранением. Переделывать не стал."
      ],
      "execution_count": null,
      "outputs": []
    },
    {
      "cell_type": "markdown",
      "metadata": {
        "id": "u4Gts_6Tsu8E"
      },
      "source": [
        "## Уменьшаем xLen"
      ]
    },
    {
      "cell_type": "code",
      "metadata": {
        "id": "lQowSzhPs76a"
      },
      "source": [
        "trainWordIndexes = tokenizer.texts_to_sequences(trainText)\n",
        "testWordIndexes = tokenizer.texts_to_sequences(testText)\n",
        "xLen = 30\n",
        "step = 2\n",
        "\n",
        "xTrain, yTrain = createSetMultiClasses(trainWordIndexes, xLen, step)\n",
        "xTest, yTest = createSetMultiClasses(testWordIndexes, xLen, step)\n",
        "\n",
        "xTrain01 = tokenizer.sequences_to_matrix(xTrain.tolist())\n",
        "xTest01 = tokenizer.sequences_to_matrix(xTest.tolist())"
      ],
      "execution_count": null,
      "outputs": []
    },
    {
      "cell_type": "code",
      "metadata": {
        "id": "TzU2tK3zs_va",
        "colab": {
          "base_uri": "https://localhost:8080/",
          "height": 1000
        },
        "outputId": "be8fc489-7770-4175-b4dc-0d75e774864f"
      },
      "source": [
        "# максимум, которого удалось добиться с 30 словами  - 83-84%. Хоть при текущей модели видно переобучение, но с дропаутами и нормализацией все равно не получилось достичь лучшего результата\n",
        "model01 = Sequential()\n",
        "model01.add(Dense(500, input_dim = maxWordsCount, activation='relu'))\n",
        "model01.add(Dropout(0.4))\n",
        "model01.add(BatchNormalization())\n",
        "model01.add(Dense(200, activation='relu'))\n",
        "model01.add(Dropout(0.45))\n",
        "model01.add(BatchNormalization())\n",
        "model01.add(Dense(50, activation='relu'))\n",
        "# model01.add(Dropout(0.6))\n",
        "# model01.add(BatchNormalization())\n",
        "\n",
        "model01.add(Dense(10, activation='sigmoid'))\n",
        "\n",
        "model01.compile(optimizer='rmsprop', loss='categorical_crossentropy', metrics=['accuracy'])\n",
        "\n",
        "history = model01.fit(xTrain01, yTrain,\n",
        "                      epochs=100,\n",
        "                      batch_size=128,\n",
        "                      validation_data=(xTest01, yTest))\n",
        "plt.plot(history.history['accuracy'], \n",
        "        label='Доля верных ответов на обучающем наборе')\n",
        "plt.plot(history.history['val_accuracy'], \n",
        "        label='Доля верных ответов на проверочном наборе')\n",
        "plt.xlabel('Эпоха обучения')\n",
        "plt.ylabel('Доля верных ответов')\n",
        "plt.legend()\n",
        "plt.show()"
      ],
      "execution_count": null,
      "outputs": [
        {
          "output_type": "stream",
          "text": [
            "Epoch 1/100\n",
            "26/26 [==============================] - 0s 15ms/step - loss: 1.8053 - accuracy: 0.5040 - val_loss: 2.0388 - val_accuracy: 0.6234\n",
            "Epoch 2/100\n",
            "26/26 [==============================] - 0s 8ms/step - loss: 1.0027 - accuracy: 0.8800 - val_loss: 1.6471 - val_accuracy: 0.7641\n",
            "Epoch 3/100\n",
            "26/26 [==============================] - 0s 8ms/step - loss: 0.3396 - accuracy: 0.9838 - val_loss: 1.2160 - val_accuracy: 0.7857\n",
            "Epoch 4/100\n",
            "26/26 [==============================] - 0s 7ms/step - loss: 0.0720 - accuracy: 0.9991 - val_loss: 0.9310 - val_accuracy: 0.7792\n",
            "Epoch 5/100\n",
            "26/26 [==============================] - 0s 8ms/step - loss: 0.0179 - accuracy: 0.9997 - val_loss: 0.8553 - val_accuracy: 0.7662\n",
            "Epoch 6/100\n",
            "26/26 [==============================] - 0s 8ms/step - loss: 0.0055 - accuracy: 1.0000 - val_loss: 0.8190 - val_accuracy: 0.7835\n",
            "Epoch 7/100\n",
            "26/26 [==============================] - 0s 8ms/step - loss: 0.0024 - accuracy: 1.0000 - val_loss: 0.8037 - val_accuracy: 0.8052\n",
            "Epoch 8/100\n",
            "26/26 [==============================] - 0s 7ms/step - loss: 0.0014 - accuracy: 0.9997 - val_loss: 0.8397 - val_accuracy: 0.8009\n",
            "Epoch 9/100\n",
            "26/26 [==============================] - 0s 8ms/step - loss: 3.7868e-04 - accuracy: 1.0000 - val_loss: 0.8624 - val_accuracy: 0.8074\n",
            "Epoch 10/100\n",
            "26/26 [==============================] - 0s 7ms/step - loss: 1.7797e-04 - accuracy: 1.0000 - val_loss: 0.9103 - val_accuracy: 0.8074\n",
            "Epoch 11/100\n",
            "26/26 [==============================] - 0s 8ms/step - loss: 1.4310e-04 - accuracy: 1.0000 - val_loss: 0.8922 - val_accuracy: 0.8117\n",
            "Epoch 12/100\n",
            "26/26 [==============================] - 0s 8ms/step - loss: 8.3282e-05 - accuracy: 1.0000 - val_loss: 0.9391 - val_accuracy: 0.8312\n",
            "Epoch 13/100\n",
            "26/26 [==============================] - 0s 8ms/step - loss: 7.0180e-05 - accuracy: 1.0000 - val_loss: 0.9684 - val_accuracy: 0.8355\n",
            "Epoch 14/100\n",
            "26/26 [==============================] - 0s 8ms/step - loss: 7.5869e-05 - accuracy: 1.0000 - val_loss: 1.0184 - val_accuracy: 0.8203\n",
            "Epoch 15/100\n",
            "26/26 [==============================] - 0s 8ms/step - loss: 3.9232e-05 - accuracy: 1.0000 - val_loss: 1.1133 - val_accuracy: 0.8225\n",
            "Epoch 16/100\n",
            "26/26 [==============================] - 0s 8ms/step - loss: 4.4476e-05 - accuracy: 1.0000 - val_loss: 1.1403 - val_accuracy: 0.8203\n",
            "Epoch 17/100\n",
            "26/26 [==============================] - 0s 8ms/step - loss: 1.2229e-05 - accuracy: 1.0000 - val_loss: 1.1914 - val_accuracy: 0.8182\n",
            "Epoch 18/100\n",
            "26/26 [==============================] - 0s 8ms/step - loss: 4.5990e-04 - accuracy: 0.9997 - val_loss: 1.2471 - val_accuracy: 0.8160\n",
            "Epoch 19/100\n",
            "26/26 [==============================] - 0s 8ms/step - loss: 1.4518e-04 - accuracy: 1.0000 - val_loss: 1.2466 - val_accuracy: 0.8225\n",
            "Epoch 20/100\n",
            "26/26 [==============================] - 0s 8ms/step - loss: 6.7332e-04 - accuracy: 0.9997 - val_loss: 1.3162 - val_accuracy: 0.8160\n",
            "Epoch 21/100\n",
            "26/26 [==============================] - 0s 8ms/step - loss: 1.8530e-04 - accuracy: 1.0000 - val_loss: 1.3033 - val_accuracy: 0.8355\n",
            "Epoch 22/100\n",
            "26/26 [==============================] - 0s 8ms/step - loss: 5.4052e-05 - accuracy: 1.0000 - val_loss: 1.2677 - val_accuracy: 0.8225\n",
            "Epoch 23/100\n",
            "26/26 [==============================] - 0s 8ms/step - loss: 1.4008e-05 - accuracy: 1.0000 - val_loss: 1.2811 - val_accuracy: 0.8268\n",
            "Epoch 24/100\n",
            "26/26 [==============================] - 0s 8ms/step - loss: 6.9704e-05 - accuracy: 1.0000 - val_loss: 1.3053 - val_accuracy: 0.8268\n",
            "Epoch 25/100\n",
            "26/26 [==============================] - 0s 8ms/step - loss: 1.1411e-05 - accuracy: 1.0000 - val_loss: 1.3429 - val_accuracy: 0.8355\n",
            "Epoch 26/100\n",
            "26/26 [==============================] - 0s 8ms/step - loss: 2.9702e-05 - accuracy: 1.0000 - val_loss: 1.3841 - val_accuracy: 0.8160\n",
            "Epoch 27/100\n",
            "26/26 [==============================] - 0s 7ms/step - loss: 2.4446e-04 - accuracy: 0.9997 - val_loss: 1.4707 - val_accuracy: 0.8095\n",
            "Epoch 28/100\n",
            "26/26 [==============================] - 0s 7ms/step - loss: 4.4225e-05 - accuracy: 1.0000 - val_loss: 1.4979 - val_accuracy: 0.8117\n",
            "Epoch 29/100\n",
            "26/26 [==============================] - 0s 8ms/step - loss: 4.6568e-05 - accuracy: 1.0000 - val_loss: 1.5043 - val_accuracy: 0.8052\n",
            "Epoch 30/100\n",
            "26/26 [==============================] - 0s 7ms/step - loss: 5.7079e-05 - accuracy: 1.0000 - val_loss: 1.5107 - val_accuracy: 0.8117\n",
            "Epoch 31/100\n",
            "26/26 [==============================] - 0s 7ms/step - loss: 3.1854e-05 - accuracy: 1.0000 - val_loss: 1.4714 - val_accuracy: 0.8139\n",
            "Epoch 32/100\n",
            "26/26 [==============================] - 0s 7ms/step - loss: 6.1303e-05 - accuracy: 1.0000 - val_loss: 1.5484 - val_accuracy: 0.8160\n",
            "Epoch 33/100\n",
            "26/26 [==============================] - 0s 7ms/step - loss: 4.7293e-05 - accuracy: 1.0000 - val_loss: 1.4670 - val_accuracy: 0.8268\n",
            "Epoch 34/100\n",
            "26/26 [==============================] - 0s 8ms/step - loss: 1.4888e-05 - accuracy: 1.0000 - val_loss: 1.4812 - val_accuracy: 0.8203\n",
            "Epoch 35/100\n",
            "26/26 [==============================] - 0s 7ms/step - loss: 9.7632e-06 - accuracy: 1.0000 - val_loss: 1.4925 - val_accuracy: 0.8225\n",
            "Epoch 36/100\n",
            "26/26 [==============================] - 0s 7ms/step - loss: 4.8561e-05 - accuracy: 1.0000 - val_loss: 1.5890 - val_accuracy: 0.7965\n",
            "Epoch 37/100\n",
            "26/26 [==============================] - 0s 7ms/step - loss: 2.5014e-04 - accuracy: 0.9997 - val_loss: 1.7048 - val_accuracy: 0.8074\n",
            "Epoch 38/100\n",
            "26/26 [==============================] - 0s 7ms/step - loss: 4.4603e-05 - accuracy: 1.0000 - val_loss: 1.6229 - val_accuracy: 0.8117\n",
            "Epoch 39/100\n",
            "26/26 [==============================] - 0s 7ms/step - loss: 1.8247e-05 - accuracy: 1.0000 - val_loss: 1.6064 - val_accuracy: 0.8117\n",
            "Epoch 40/100\n",
            "26/26 [==============================] - 0s 7ms/step - loss: 5.5359e-05 - accuracy: 1.0000 - val_loss: 1.6583 - val_accuracy: 0.8030\n",
            "Epoch 41/100\n",
            "26/26 [==============================] - 0s 7ms/step - loss: 3.9890e-04 - accuracy: 0.9997 - val_loss: 1.8461 - val_accuracy: 0.7641\n",
            "Epoch 42/100\n",
            "26/26 [==============================] - 0s 7ms/step - loss: 7.2516e-06 - accuracy: 1.0000 - val_loss: 1.7800 - val_accuracy: 0.7727\n",
            "Epoch 43/100\n",
            "26/26 [==============================] - 0s 7ms/step - loss: 1.3144e-04 - accuracy: 1.0000 - val_loss: 1.9004 - val_accuracy: 0.7641\n",
            "Epoch 44/100\n",
            "26/26 [==============================] - 0s 7ms/step - loss: 4.8960e-05 - accuracy: 1.0000 - val_loss: 1.7622 - val_accuracy: 0.7835\n",
            "Epoch 45/100\n",
            "26/26 [==============================] - 0s 7ms/step - loss: 3.0457e-05 - accuracy: 1.0000 - val_loss: 1.7455 - val_accuracy: 0.8052\n",
            "Epoch 46/100\n",
            "26/26 [==============================] - 0s 7ms/step - loss: 5.5681e-05 - accuracy: 1.0000 - val_loss: 1.6745 - val_accuracy: 0.7987\n",
            "Epoch 47/100\n",
            "26/26 [==============================] - 0s 8ms/step - loss: 5.7694e-04 - accuracy: 0.9997 - val_loss: 1.6883 - val_accuracy: 0.8117\n",
            "Epoch 48/100\n",
            "26/26 [==============================] - 0s 7ms/step - loss: 0.0011 - accuracy: 0.9994 - val_loss: 1.8207 - val_accuracy: 0.8030\n",
            "Epoch 49/100\n",
            "26/26 [==============================] - 0s 7ms/step - loss: 1.7238e-04 - accuracy: 1.0000 - val_loss: 1.8023 - val_accuracy: 0.8052\n",
            "Epoch 50/100\n",
            "26/26 [==============================] - 0s 7ms/step - loss: 1.5946e-04 - accuracy: 1.0000 - val_loss: 1.8791 - val_accuracy: 0.8030\n",
            "Epoch 51/100\n",
            "26/26 [==============================] - 0s 7ms/step - loss: 0.0014 - accuracy: 0.9997 - val_loss: 2.0636 - val_accuracy: 0.7576\n",
            "Epoch 52/100\n",
            "26/26 [==============================] - 0s 8ms/step - loss: 2.2623e-04 - accuracy: 1.0000 - val_loss: 1.9392 - val_accuracy: 0.7771\n",
            "Epoch 53/100\n",
            "26/26 [==============================] - 0s 7ms/step - loss: 0.0012 - accuracy: 0.9997 - val_loss: 1.8564 - val_accuracy: 0.7900\n",
            "Epoch 54/100\n",
            "26/26 [==============================] - 0s 7ms/step - loss: 3.9100e-04 - accuracy: 1.0000 - val_loss: 1.9200 - val_accuracy: 0.7987\n",
            "Epoch 55/100\n",
            "26/26 [==============================] - 0s 7ms/step - loss: 6.7439e-04 - accuracy: 0.9997 - val_loss: 2.0695 - val_accuracy: 0.7814\n",
            "Epoch 56/100\n",
            "26/26 [==============================] - 0s 7ms/step - loss: 1.2428e-04 - accuracy: 1.0000 - val_loss: 1.9585 - val_accuracy: 0.8009\n",
            "Epoch 57/100\n",
            "26/26 [==============================] - 0s 7ms/step - loss: 1.6720e-04 - accuracy: 1.0000 - val_loss: 1.8758 - val_accuracy: 0.8117\n",
            "Epoch 58/100\n",
            "26/26 [==============================] - 0s 7ms/step - loss: 3.3585e-05 - accuracy: 1.0000 - val_loss: 1.8570 - val_accuracy: 0.8074\n",
            "Epoch 59/100\n",
            "26/26 [==============================] - 0s 7ms/step - loss: 6.4354e-05 - accuracy: 1.0000 - val_loss: 1.8548 - val_accuracy: 0.8095\n",
            "Epoch 60/100\n",
            "26/26 [==============================] - 0s 7ms/step - loss: 4.1473e-04 - accuracy: 0.9997 - val_loss: 2.0096 - val_accuracy: 0.7944\n",
            "Epoch 61/100\n",
            "26/26 [==============================] - 0s 7ms/step - loss: 7.3938e-05 - accuracy: 1.0000 - val_loss: 1.9979 - val_accuracy: 0.7965\n",
            "Epoch 62/100\n",
            "26/26 [==============================] - 0s 7ms/step - loss: 9.9786e-05 - accuracy: 1.0000 - val_loss: 2.0288 - val_accuracy: 0.7944\n",
            "Epoch 63/100\n",
            "26/26 [==============================] - 0s 7ms/step - loss: 0.0012 - accuracy: 0.9997 - val_loss: 2.3194 - val_accuracy: 0.7749\n",
            "Epoch 64/100\n",
            "26/26 [==============================] - 0s 7ms/step - loss: 0.0017 - accuracy: 0.9991 - val_loss: 2.3414 - val_accuracy: 0.7468\n",
            "Epoch 65/100\n",
            "26/26 [==============================] - 0s 8ms/step - loss: 0.0012 - accuracy: 0.9997 - val_loss: 2.0726 - val_accuracy: 0.7792\n",
            "Epoch 66/100\n",
            "26/26 [==============================] - 0s 7ms/step - loss: 0.0021 - accuracy: 0.9991 - val_loss: 2.1151 - val_accuracy: 0.7597\n",
            "Epoch 67/100\n",
            "26/26 [==============================] - 0s 7ms/step - loss: 2.4607e-04 - accuracy: 1.0000 - val_loss: 2.2886 - val_accuracy: 0.7446\n",
            "Epoch 68/100\n",
            "26/26 [==============================] - 0s 7ms/step - loss: 1.2927e-04 - accuracy: 1.0000 - val_loss: 2.1413 - val_accuracy: 0.7684\n",
            "Epoch 69/100\n",
            "26/26 [==============================] - 0s 7ms/step - loss: 7.5387e-04 - accuracy: 0.9994 - val_loss: 1.8862 - val_accuracy: 0.7900\n",
            "Epoch 70/100\n",
            "26/26 [==============================] - 0s 7ms/step - loss: 0.0033 - accuracy: 0.9991 - val_loss: 1.9484 - val_accuracy: 0.7749\n",
            "Epoch 71/100\n",
            "26/26 [==============================] - 0s 7ms/step - loss: 0.0024 - accuracy: 0.9994 - val_loss: 1.8689 - val_accuracy: 0.7706\n",
            "Epoch 72/100\n",
            "26/26 [==============================] - 0s 7ms/step - loss: 0.0012 - accuracy: 0.9997 - val_loss: 1.8610 - val_accuracy: 0.7662\n",
            "Epoch 73/100\n",
            "26/26 [==============================] - 0s 7ms/step - loss: 8.6477e-04 - accuracy: 0.9994 - val_loss: 1.7504 - val_accuracy: 0.7771\n",
            "Epoch 74/100\n",
            "26/26 [==============================] - 0s 7ms/step - loss: 5.3577e-04 - accuracy: 0.9997 - val_loss: 1.6753 - val_accuracy: 0.8052\n",
            "Epoch 75/100\n",
            "26/26 [==============================] - 0s 7ms/step - loss: 0.0026 - accuracy: 0.9991 - val_loss: 1.7065 - val_accuracy: 0.7792\n",
            "Epoch 76/100\n",
            "26/26 [==============================] - 0s 8ms/step - loss: 0.0010 - accuracy: 0.9997 - val_loss: 1.7494 - val_accuracy: 0.7792\n",
            "Epoch 77/100\n",
            "26/26 [==============================] - 0s 7ms/step - loss: 0.0013 - accuracy: 0.9994 - val_loss: 1.6705 - val_accuracy: 0.7944\n",
            "Epoch 78/100\n",
            "26/26 [==============================] - 0s 7ms/step - loss: 8.3353e-04 - accuracy: 0.9997 - val_loss: 1.5720 - val_accuracy: 0.8160\n",
            "Epoch 79/100\n",
            "26/26 [==============================] - 0s 7ms/step - loss: 0.0025 - accuracy: 0.9991 - val_loss: 1.5347 - val_accuracy: 0.8009\n",
            "Epoch 80/100\n",
            "26/26 [==============================] - 0s 7ms/step - loss: 0.0019 - accuracy: 0.9994 - val_loss: 1.5127 - val_accuracy: 0.8182\n",
            "Epoch 81/100\n",
            "26/26 [==============================] - 0s 7ms/step - loss: 0.0020 - accuracy: 0.9988 - val_loss: 1.5466 - val_accuracy: 0.8139\n",
            "Epoch 82/100\n",
            "26/26 [==============================] - 0s 7ms/step - loss: 2.7918e-04 - accuracy: 1.0000 - val_loss: 1.5834 - val_accuracy: 0.8139\n",
            "Epoch 83/100\n",
            "26/26 [==============================] - 0s 7ms/step - loss: 9.2909e-04 - accuracy: 0.9997 - val_loss: 1.8276 - val_accuracy: 0.8009\n",
            "Epoch 84/100\n",
            "26/26 [==============================] - 0s 8ms/step - loss: 0.0021 - accuracy: 0.9988 - val_loss: 1.8001 - val_accuracy: 0.8052\n",
            "Epoch 85/100\n",
            "26/26 [==============================] - 0s 7ms/step - loss: 0.0012 - accuracy: 0.9994 - val_loss: 1.6232 - val_accuracy: 0.8074\n",
            "Epoch 86/100\n",
            "26/26 [==============================] - 0s 7ms/step - loss: 0.0037 - accuracy: 0.9994 - val_loss: 1.7084 - val_accuracy: 0.7987\n",
            "Epoch 87/100\n",
            "26/26 [==============================] - 0s 7ms/step - loss: 0.0032 - accuracy: 0.9991 - val_loss: 1.6255 - val_accuracy: 0.8117\n",
            "Epoch 88/100\n",
            "26/26 [==============================] - 0s 7ms/step - loss: 0.0012 - accuracy: 0.9997 - val_loss: 1.7015 - val_accuracy: 0.7965\n",
            "Epoch 89/100\n",
            "26/26 [==============================] - 0s 8ms/step - loss: 5.7932e-04 - accuracy: 0.9997 - val_loss: 1.8223 - val_accuracy: 0.7814\n",
            "Epoch 90/100\n",
            "26/26 [==============================] - 0s 7ms/step - loss: 0.0015 - accuracy: 0.9994 - val_loss: 1.7382 - val_accuracy: 0.7944\n",
            "Epoch 91/100\n",
            "26/26 [==============================] - 0s 7ms/step - loss: 6.3077e-04 - accuracy: 0.9997 - val_loss: 1.7370 - val_accuracy: 0.7944\n",
            "Epoch 92/100\n",
            "26/26 [==============================] - 0s 7ms/step - loss: 0.0015 - accuracy: 0.9994 - val_loss: 1.7016 - val_accuracy: 0.7900\n",
            "Epoch 93/100\n",
            "26/26 [==============================] - 0s 7ms/step - loss: 8.7103e-04 - accuracy: 0.9997 - val_loss: 1.6895 - val_accuracy: 0.7965\n",
            "Epoch 94/100\n",
            "26/26 [==============================] - 0s 7ms/step - loss: 3.6484e-04 - accuracy: 0.9997 - val_loss: 1.7047 - val_accuracy: 0.7922\n",
            "Epoch 95/100\n",
            "26/26 [==============================] - 0s 7ms/step - loss: 4.8782e-04 - accuracy: 1.0000 - val_loss: 1.7409 - val_accuracy: 0.8009\n",
            "Epoch 96/100\n",
            "26/26 [==============================] - 0s 7ms/step - loss: 0.0064 - accuracy: 0.9988 - val_loss: 1.7326 - val_accuracy: 0.7900\n",
            "Epoch 97/100\n",
            "26/26 [==============================] - 0s 8ms/step - loss: 0.0028 - accuracy: 0.9991 - val_loss: 1.7168 - val_accuracy: 0.7814\n",
            "Epoch 98/100\n",
            "26/26 [==============================] - 0s 7ms/step - loss: 0.0015 - accuracy: 0.9994 - val_loss: 1.7260 - val_accuracy: 0.7900\n",
            "Epoch 99/100\n",
            "26/26 [==============================] - 0s 7ms/step - loss: 0.0014 - accuracy: 0.9991 - val_loss: 1.7995 - val_accuracy: 0.7965\n",
            "Epoch 100/100\n",
            "26/26 [==============================] - 0s 7ms/step - loss: 0.0017 - accuracy: 0.9997 - val_loss: 1.8546 - val_accuracy: 0.7749\n"
          ],
          "name": "stdout"
        },
        {
          "output_type": "display_data",
          "data": {
            "image/png": "[encoded data removed]",
            "text/plain": [
              "<Figure size 432x288 with 1 Axes>"
            ]
          },
          "metadata": {
            "tags": [],
            "needs_background": "light"
          }
        }
      ]
    },
    {
      "cell_type": "code",
      "metadata": {
        "id": "5BwG7giqtCEK"
      },
      "source": [
        ""
      ],
      "execution_count": null,
      "outputs": []
    }
  ]
}