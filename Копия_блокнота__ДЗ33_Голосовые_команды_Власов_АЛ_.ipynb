{
  "nbformat": 4,
  "nbformat_minor": 0,
  "metadata": {
    "colab": {
      "name": "Копия блокнота \"ДЗ33 Голосовые команды Власов АЛ\"",
      "provenance": [],
      "collapsed_sections": [],
      "toc_visible": true
    },
    "kernelspec": {
      "name": "python3",
      "display_name": "Python 3"
    },
    "accelerator": "GPU"
  },
  "cells": [
    {
      "cell_type": "markdown",
      "metadata": {
        "id": "EP7fgS9g4d32"
      },
      "source": [
        "*Теоретический материал:* https://youtu.be/ffkHDToi-jM?t=237"
      ]
    },
    {
      "cell_type": "markdown",
      "metadata": {
        "id": "y4AkZzZI5ZlS"
      },
      "source": [
        "*Разбор данного раздела:* https://youtu.be/ffkHDToi-jM?t=3407"
      ]
    },
    {
      "cell_type": "markdown",
      "metadata": {
        "id": "Psm18BMRcsFj"
      },
      "source": [
        "# **Import библиотек**\n",
        "\n"
      ]
    },
    {
      "cell_type": "code",
      "metadata": {
        "id": "BY7BRk3xJTdL"
      },
      "source": [
        "!pip install ffmpeg-python  "
      ],
      "execution_count": null,
      "outputs": []
    },
    {
      "cell_type": "code",
      "metadata": {
        "id": "5HWA3D2rNKCU"
      },
      "source": [
        "import numpy as np # библиотека для работы с массивами данных\n",
        "from matplotlib import pyplot as plt # интерфейс для построения графиков простых функций\n",
        "from IPython.display import Audio # загружаем модуль чтобы обратиться к HTML для записи аудио с микрофона в ноутбуке\n",
        "from google.colab import files # модуль для загрузки файлов\n",
        "import librosa # для параметризации аудио\n",
        "import os # модуль для работы с операционной системой(воспользуемся методами работы с каталогами)\n",
        "from sklearn.model_selection import train_test_split # модуль для разбивки данных на обучающую и тестовую выборки\n",
        "from tensorflow.keras.utils import to_categorical # загружаем утилиты кераса для one hot кодировки\n",
        "from tqdm.notebook import tqdm_notebook as tqdm_\n",
        "from tensorflow.keras.optimizers import Adam, RMSprop, Adadelta # загружаем алгоритмы обучения/оптимизации\n",
        "from tensorflow.keras.models import Sequential # последовательная модель нейросети кераса\n",
        "from tensorflow.keras.layers import Dense, Dropout, Flatten, Conv2D, MaxPooling2D, BatchNormalization, Reshape # загружаем необходимые слои для нейросети\n",
        "import IPython.display as ipd # Воспроизведение звуковыйх файлов\n",
        "from matplotlib.patches import Rectangle\n",
        "from IPython.display import HTML, Audio \n",
        "import ffmpeg\n",
        "from google.colab.output import eval_js \n",
        "from base64 import b64decode\n",
        "from scipy.io.wavfile import read as wav_read\n",
        "import io\n",
        "import scipy\n"
      ],
      "execution_count": null,
      "outputs": []
    },
    {
      "cell_type": "code",
      "metadata": {
        "id": "TvFUtjWjf0Xw"
      },
      "source": [
        "from google.colab import drive # подключаем гугл драйв диск для загрузки файлов\n",
        "drive.mount('/content/drive')"
      ],
      "execution_count": null,
      "outputs": []
    },
    {
      "cell_type": "markdown",
      "metadata": {
        "id": "uW2iK-A1SH09"
      },
      "source": [
        "# Объявление функций\n",
        "\n",
        "*Разбор данного раздела:* https://youtu.be/ffkHDToi-jM?t=3836\n"
      ]
    },
    {
      "cell_type": "code",
      "metadata": {
        "id": "-iSHq2RuSo6p"
      },
      "source": [
        "# Зададим параметры данных, к-е пойдут на вход нейросети\n",
        "DATA_PATH = \"/content/drive/MyDrive/Colab Notebooks/33 Голосовые команды/Команды/\" # зададим путь к папке с аудиофайлами\n",
        "DATA_PATH_TEST = \"/content/drive/MyDrive/Colab Notebooks/33 Голосовые команды/тест/\" # Зададим пусть к файлу с тестовыми 30секнудными аудиофайлами\n",
        "\n",
        "sample_rate = 22050 # Значение sample_rate аудиофайлов\n",
        "feature_dim_1 = 20 # стандартная величина MFCC признаков\n",
        "feature_dim_2 = int(.5 * sample_rate) # установленная длина фреймов (в секундах 0.5 = 500 мс)\n",
        "step_mfcc = int(.02 * sample_rate) # Шаг смещения при разборе mfcc (в секундах 0.1 = 100мс)\n",
        "channel = 1 # количество каналов\n",
        "n_classes = 4 # Количество классов команд\n",
        "classes = ['КОНДИЦИОНЕР', 'СВЕТ', 'ТЕЛЕВИЗОР'] # Классы команд (без фона)\n"
      ],
      "execution_count": null,
      "outputs": []
    },
    {
      "cell_type": "code",
      "metadata": {
        "id": "J5PnXlk3sm2V"
      },
      "source": [
        "'''\n",
        "Зададим функцию извлечения лейблов классов и их обработки\n",
        "  Параметры:\n",
        "    path - путь к папке, в которой находятся каталоги с обучающими командами    \n",
        "'''\n",
        "\n",
        "def get_labels(path=DATA_PATH): \n",
        "  labels = sorted(os.listdir(path)) # запишем лейблы классов по названию папок с данными - ['кондиционер', 'телевизор', 'свет', 'фон']  \n",
        "  label_indices = np.arange(0, len(labels)) # запишем лейблы в виде индексов - [0, 1, 2, 3]\n",
        "  return labels, label_indices, to_categorical(label_indices) # функция вернёт лейблы, индексы лейблов и их one-hot представление[0, 1, 0, 0]"
      ],
      "execution_count": null,
      "outputs": []
    },
    {
      "cell_type": "code",
      "metadata": {
        "id": "4_rHTk5WXk_Z"
      },
      "source": [
        "get_labels()[0]"
      ],
      "execution_count": null,
      "outputs": []
    },
    {
      "cell_type": "code",
      "metadata": {
        "id": "p1rHnbztsm2e"
      },
      "source": [
        "'''\n",
        "Создаем функцию параметризации аудио(wav в мел-частоты)\n",
        "  Параметры:\n",
        "    length - длинна отрезков, на которые разбиваем исходный файл\n",
        "    step - шаг, на который смещаем разбиение отрезка\n",
        "'''\n",
        "\n",
        "def wav2mfcc(file_path, length = 11025, step = 2205): \n",
        "  out_mfcc = [] # Выходной массив, содержащий mfcc исходного файла с шагом step\n",
        "  out_audio = [] # Выходной массив, содеражищий аудиоинформацию исходного файла с шагом step\n",
        "  y, sr = librosa.load(file_path) # Загружаем данные исходного файла  \n",
        "\n",
        "  while (len(y)>=length):  # Проходим весь массив y, пока оставшийся кусочек не станет меньше указанной в параметре max_len длинны\n",
        "    section = y[:length] # Берем начальный кусок длинной length\n",
        "    section = np.array(section) # Переводим в numpy\n",
        "    out_mfcc.append(librosa.feature.mfcc(section, sr)) # Добавляем в выходной массив out_mfcc значение mfcc текущего куска\n",
        "    out_audio.append(section) # Добавляем в выходной массив аудио текущий кусок\n",
        "    y = y[step:]  # Уменьшаем y на step\n",
        "    \n",
        "  out_mfcc = np.array(out_mfcc) # Преобразуем в numpy\n",
        "  out_audio = np.array (out_audio) # Преобразуем в numpy\n",
        "  return out_mfcc, out_audio # функция вернет массив мэл-частот и массив аудио-отрезков"
      ],
      "execution_count": null,
      "outputs": []
    },
    {
      "cell_type": "code",
      "metadata": {
        "id": "xohhWYKmsm2j"
      },
      "source": [
        "'''\n",
        "Объявим функцию формирования и сохранения векторов данных, полученных для каждого набора аудио-команд в датасете\n",
        "  Параметры:\n",
        "    path  - путь к папке, в которой находятся каталоги с обучающими командами    \n",
        "    length - длинна отрезков, на которые разбиваем исходный файл\n",
        "'''\n",
        "\n",
        "def save_data_to_array(path=DATA_PATH, length=11025):\n",
        "  labels, _, _ = get_labels(path) # запишем лейблы классов\n",
        "  for label in labels: # для каждого лейбла\n",
        "    mfcc_vectors = [] # здесь соберем векторы MFCC частот\n",
        "    # извлечем для каждого файла его путь c названием папки и именем файла и соберём в список\n",
        "    # ['/content/drive/My Drive/Речевые команды/свет/recording12.wav', '/content/drive/My Drive/Речевые команды/свет/recording11.wav'..]\n",
        "    wavfiles = [path + label + '/' + wavfile for wavfile in os.listdir(path + '/' + label)]\n",
        "    print(wavfiles)\n",
        "    for wavfile in tqdm_(wavfiles, desc=('Сохраняем векторы класса ' + label), ncols=1000):    \n",
        "      mfcc, _ = wav2mfcc(wavfile, length=length, step = step_mfcc) # получим мел-частоты      \n",
        "      if (mfcc.shape[0] != 0 ): # Если массив не нулевой длинны\n",
        "        mfcc_vectors.extend(mfcc) # и добавим вектор в список для соответствующего класса\n",
        "    np.save('/content/drive/MyDrive/Colab Notebooks/33 Голосовые команды/numpy/'+label + '.npy', mfcc_vectors) # сохраним массивы данных для каждого класса"
      ],
      "execution_count": null,
      "outputs": []
    },
    {
      "cell_type": "code",
      "metadata": {
        "id": "IUqaduyVsm2o"
      },
      "source": [
        "'''\n",
        "Создадим функцию для получения обучающей/проверочной выборки\n",
        "  Параметры (необязательные):\n",
        "    split_ratio - (1-split_ratio) равно доле тестовых образцов, которые вернет функция train_test_split\n",
        "    random_state - начальное число, используемое генератором случайных чисел в финкции train_test_split\n",
        "'''\n",
        "\n",
        "def get_train_test(split_ratio=0.7, random_state=42, colab = True):\n",
        "  labels, indices, _ = get_labels(DATA_PATH) # извлекаем имена и индексы лейблов классов\n",
        "\n",
        "  # Getting first arrays\n",
        "  X = np.load('/content/drive/MyDrive/Colab Notebooks/33 Голосовые команды/numpy/'+labels[0] + '.npy') # берем набор векторов для первого класса \n",
        "  y = np.zeros(X.shape[0], dtype = 'int32') # устанавливаем размер соответствующего ему лейбла\n",
        "\n",
        "  # Объединяем в единый датасет в виде np-массива обучающий и проверочный набор данных\n",
        "  for i, label in enumerate(labels[1:]): \n",
        "    if colab:\n",
        "      x = np.load(label + '.npy') # Читаем очередной массив данных \n",
        "    else:\n",
        "      x = np.load('/content/drive/MyDrive/Colab Notebooks/33 Голосовые команды/numpy/'+label + '.npy') # Читаем очередной массив данных \n",
        "    X = np.vstack((X, x)) # Соединяем с исходным набором\n",
        "    y = np.append(y, np.full(x.shape[0], fill_value= (i + 1))) # В массив y добавлем x.shape[0]-элеменентов со значением (i + 1)\n",
        "\n",
        "  return train_test_split(X, y, test_size= (1 - split_ratio), random_state=random_state, shuffle=True) # Разделяем данные на обучающую и проверочную выборки"
      ],
      "execution_count": null,
      "outputs": []
    },
    {
      "cell_type": "markdown",
      "metadata": {
        "id": "8IjTWrrnNPRD"
      },
      "source": [
        "# Подготовка данных"
      ]
    },
    {
      "cell_type": "code",
      "metadata": {
        "id": "7iuTRbUTsm20"
      },
      "source": [
        "# Формируем и сохраняем векторы данных, полученных для каждого набора аудио-команд в датасете\n",
        "save_data_to_array(length=feature_dim_2)"
      ],
      "execution_count": null,
      "outputs": []
    },
    {
      "cell_type": "code",
      "metadata": {
        "id": "AbQfcTvpsm3E"
      },
      "source": [
        "##########################\n",
        "# Формируем обучающую и проверочную выборки\n",
        "##########################\n",
        "x_train, x_test, y_train, y_test = get_train_test(colab=False) # создаем обучающий/проверочный наборы\n",
        "print(x_train.shape, y_train.shape)\n",
        "print(x_test.shape, y_test.shape)"
      ],
      "execution_count": null,
      "outputs": []
    },
    {
      "cell_type": "code",
      "metadata": {
        "id": "3jcUgexuHfsA"
      },
      "source": [
        "# Добавляем значение канала(=1) в размеры 'x' выборок\n",
        "#x_train = x_train.reshape(x_train.shape[0], x_train.shape[1], x_train.shape[2], channel)\n",
        "x_train = x_train[..., None]\n",
        "#x_test = x_test.reshape(x_test.shape[0], x_test.shape[1], x_test.shape[2], channel)\n",
        "x_test = x_test[..., None]\n",
        "\n",
        "y_train_hot = to_categorical(y_train) # представляем лейблы классов обучающего набора в виде one-hot вектора ((0, 1, 0) и т.п)\n",
        "y_test_hot = to_categorical(y_test) # представляем лейблы классов проверочного набора в виде one-hot вектора ((0, 1, 0) и т.п)"
      ],
      "execution_count": null,
      "outputs": []
    },
    {
      "cell_type": "code",
      "metadata": {
        "id": "1QImVrA5YQMO"
      },
      "source": [
        "x_train.shape"
      ],
      "execution_count": null,
      "outputs": []
    },
    {
      "cell_type": "code",
      "metadata": {
        "id": "1deQaxc9WhnD"
      },
      "source": [
        "idx = np.where(y_train==0)\n",
        "idx[0].shape"
      ],
      "execution_count": null,
      "outputs": []
    },
    {
      "cell_type": "code",
      "metadata": {
        "id": "REHZtbdPxQxJ"
      },
      "source": [
        "idx = np.where(y_train==1)\n",
        "idx[0].shape"
      ],
      "execution_count": null,
      "outputs": []
    },
    {
      "cell_type": "code",
      "metadata": {
        "id": "qmJRF7GKxS1V"
      },
      "source": [
        "idx = np.where(y_train==2)\n",
        "idx[0].shape"
      ],
      "execution_count": null,
      "outputs": []
    },
    {
      "cell_type": "code",
      "metadata": {
        "id": "OfW0OzLsxWLH"
      },
      "source": [
        "idx = np.where(y_train==3)\n",
        "idx[0].shape"
      ],
      "execution_count": null,
      "outputs": []
    },
    {
      "cell_type": "markdown",
      "metadata": {
        "id": "OJZQWO-uM-cy"
      },
      "source": [
        "# Нейросеть\n",
        "\n",
        "*Разбор данного раздела:* https://youtu.be/ffkHDToi-jM?t=4756"
      ]
    },
    {
      "cell_type": "code",
      "metadata": {
        "id": "KvZHwfpHsm3H"
      },
      "source": [
        "##########################\n",
        "# Объявим функцию создания модели нейросети\n",
        "##########################\n",
        "def get_model():\n",
        "  model = Sequential()\n",
        "  model.add(Conv2D(8, kernel_size=(3, 3), activation='relu', input_shape=(x_train.shape[1], x_train.shape[2], channel)))\n",
        "  model.add(MaxPooling2D(pool_size=(2, 2))) # передаём на слой подвыборки, снижающий размерность поступивших на него данных \n",
        "  model.add(BatchNormalization()) # пропускаем через слой нормализации данных\n",
        "  model.add(Flatten()) # сплющиваем в одномерный вектор  \n",
        "  model.add(Dense(128, activation='relu')) # добавляем полносвязный слой размером в заданное кол-во нейронов\n",
        "  model.add(Dropout(0.25)) # добавляем слой регуляризации, \"выключая\" указанное количество нейронов, во избежание переобучения\n",
        "  model.add(BatchNormalization()) # пропускаем через слой нормализации данных\n",
        "  model.add(Dense(n_classes, activation='softmax')) # добавляем полносвязный слой с функцией активации softmax на выходном слое для 3 классов\n",
        "  model.compile(loss='categorical_crossentropy',\n",
        "                optimizer='Adam',\n",
        "                metrics=['accuracy']) # компилируем, составляем модель с алгоритмом оптимизации, функцией потерь и метрикой точности\n",
        "  return model"
      ],
      "execution_count": null,
      "outputs": []
    },
    {
      "cell_type": "code",
      "metadata": {
        "id": "b2hx5a9kz_LC"
      },
      "source": [
        "model = get_model() # создаем модель с помощью объявленной ранее функции"
      ],
      "execution_count": null,
      "outputs": []
    },
    {
      "cell_type": "code",
      "metadata": {
        "id": "tATRQpRFsm3O"
      },
      "source": [
        "##########################\n",
        "# Запустим тренировку нейросети на полученных данных\n",
        "##########################\n",
        "\n",
        "# Загружаем модель данными с выбором параметров и сохраним историю обучения(ошибки/точность) для вывода графика\n",
        "history = model.fit(x_train, y_train_hot, batch_size=256, epochs=30, verbose=1, validation_data=(x_test, y_test_hot))\n",
        "\n",
        "# Построим график, отображающий точность предсказания на обучающей и проверочной выборке\n",
        "plt.plot(history.history['accuracy'], label='Доля верных ответов на обучающем наборе')\n",
        "plt.plot(history.history['val_accuracy'], label='Доля верных ответов на проверочном наборе')\n",
        "plt.xlabel('Эпоха обучения')\n",
        "plt.ylabel('Доля верных ответов')\n",
        "plt.legend()\n",
        "plt.show()"
      ],
      "execution_count": null,
      "outputs": []
    },
    {
      "cell_type": "markdown",
      "metadata": {
        "id": "wqttlx8ix9er"
      },
      "source": [
        "# Проверка"
      ]
    },
    {
      "cell_type": "markdown",
      "metadata": {
        "id": "HHkS9Gdc6i9d"
      },
      "source": [
        "### По шагам\n",
        "\n",
        "*Разбор данного раздела:* https://youtu.be/ffkHDToi-jM?t=4818\n",
        "\n"
      ]
    },
    {
      "cell_type": "code",
      "metadata": {
        "id": "OG466MUy2Gk_"
      },
      "source": [
        "wavfiles =  DATA_PATH_TEST + 'text_with_cond3.wav' # Получаем имя очередного файла\n",
        "y,sr = librosa.load(wavfiles) # Загружаем данные модулем librosa\n",
        "print ('Оригинальный файл:')\n",
        "ipd.Audio(data=y, rate = sr) # Выводим оригинальный аудиофайл (Команда \"Кондиционер\" начинается на 12 секунде)"
      ],
      "execution_count": null,
      "outputs": []
    },
    {
      "cell_type": "code",
      "metadata": {
        "id": "OVqgft7G4XNt"
      },
      "source": [
        "mfcc_full, audio_full = wav2mfcc (wavfiles, length=feature_dim_2, step = step_mfcc) # Получаем массив mfcc выбранного файла с именем namefile \n",
        "\n",
        "mfcc_full = mfcc_full.reshape(-1, 20, 22, 1) # Решейпим для сверточного слоя\n",
        "g_pred = model.predict(mfcc_full) # Предиктим с помощью модели model массив mfcc\n",
        "pred = np.array([np.argmax(i) for i in g_pred]) # Выбираем индекс максимального элемента в каждом g_pred[i]  и создаем numpy-массив pred из этих индексов"
      ],
      "execution_count": null,
      "outputs": []
    },
    {
      "cell_type": "code",
      "metadata": {
        "id": "7tJoWpx4n8hk"
      },
      "source": [
        "print(g_pred.shape)\n",
        "print(pred.shape)\n",
        "print(pred[:800])"
      ],
      "execution_count": null,
      "outputs": []
    },
    {
      "cell_type": "code",
      "metadata": {
        "id": "SRNe5hWB2kDX"
      },
      "source": [
        "idxs = np.where(pred == 0) # В массиве pred находим все элементы со значением, равным искомому классу idx_class\n",
        "idxs = idxs[0] # Размерность полученного маасива в np.where иммет тип (x,). Оставляем только первую размерность\n",
        "\n",
        "print (idxs)"
      ],
      "execution_count": null,
      "outputs": []
    },
    {
      "cell_type": "code",
      "metadata": {
        "id": "zMUpj_Rl2th0"
      },
      "source": [
        "curr = [] # Временный массив для хранения информации о найденных командах\n",
        "'''\n",
        "в массиве idx данные могут быть прдеставлены следующим образом:\n",
        "[4, 5, 6, 7, 123, 124, 125, 126, 127]\n",
        "в массив curr мы запишем [4, 123] только стартовые индексы\n",
        "поскольку очевидно, что 4,5,6,7 и 123,124,125,126,127 представляют единую команду\n",
        "'''\n",
        "curr_idx =int (idxs[0]) # Текущий стартовый индекс\n",
        "summ, length = 0, 0 # summ - хранит сумму вероятностей, с которой сеть отнесла команду к данному классу; length - длинна последовательно идущих элементов для одной команды (для массива curr из примера                                                                        \n",
        "                                                              #[4, 123] длина соответствующая первому элементу будет 4, второму - 5 )\n",
        "for i in range(len(idxs)): # Пробегаем по всему массиву idxs\n",
        "  summ += g_pred[idxs[i]][0] # Считаем сумму вероятности\n",
        "  length += 1 # Увеличиваем длинну последовательности\n",
        "  if i == len(idxs)-1: # Если последний элемент последовательности\n",
        "    if (length >= 2 and summ / length >= 0.95): # Проверяем на условия разбора: длинна последовательности должна быть больше входного параметра min_count\n",
        "                                                        # summ / length должно быть больше входного параметра rate\n",
        "      curr.append([curr_idx, length, summ / length]) # Если условия выполняются, то добавляем в маасив стартовый индекс найденной команды, длинну последовательности и summ / length\n",
        "    break        \n",
        "  if idxs[i+1]-idxs[i]>1: # Если следующий индекс больше текущего на 1 (означает, что следующий элемент относится уже к другой комманде)\n",
        "    if (length >= 8 and summ / length >= 0.95): # Проверяем на условия разбора: длинна последовательности должна быть больше входного параметра min_count\n",
        "                                                        # summ / length должно быть больше входного параметра rate\n",
        "      curr.append([curr_idx, length, summ / length]) # Если условия выполняются, то добавляем в маасив стартовый индекс найденной команды, длинну последовательности и summ / length\n",
        "    curr_idx = int (idxs[i+1]) # Изменяем текущий стартовый индекс\n",
        "    summ, length = 0, 0 # Обнуляем summ и length\n",
        "print (curr)"
      ],
      "execution_count": null,
      "outputs": []
    },
    {
      "cell_type": "code",
      "metadata": {
        "id": "I_RbxMUv29GH"
      },
      "source": [
        "np_Audio = []\n",
        "curr_audio = [] # mfcc отдельной команды\n",
        "for elem in curr: # Проходим по всему массиву curr\n",
        "  curr_audio = audio_full[elem[0]]\n",
        "  if (elem[0] != 0): # Если это не самый первый элемент исходных данных, то возьмем на одну mfcc левее (чаще всего там будет либо тишина, либо начало команды, которое не разобралось сетью)\n",
        "    curr_audio = np.hstack((audio_full[elem[0] - 1], audio_full[elem[0]][-step_mfcc:]))        \n",
        "  for j in range(1,elem[1]): # Пробегаем цикл от 1 до elem[1] (где elem[1] хранит длинну последовательности элементов, отнесенных к одной команде)\n",
        "    if (elem[0]+j == len(audio_full)): # Если elem[0] + j равно длинне mfcc, то выходим из цикла\n",
        "      break    \n",
        "    curr_audio = np.hstack((curr_audio, audio_full[elem[0]+j][-step_mfcc:]))\n",
        "  curr_audio = np.array(curr_audio) # Переводим массив в numpy\n",
        "  np_Audio.append([curr_audio, elem[2]]) # Добавляем данные в выходной массив\n",
        "\n",
        "print (len(curr_audio))\n"
      ],
      "execution_count": null,
      "outputs": []
    },
    {
      "cell_type": "code",
      "metadata": {
        "id": "tpObFKmv3rAt"
      },
      "source": [
        "if (len(np_Audio)==0): # Если длина массива равна 0, то команда не распознана\n",
        "    print('Команда не распознанана!!!')\n",
        "for elem in np_Audio: # Пробегам по всем элементам массива out\n",
        "    print ('Распознана команда: \"', classes[0], '\" (вероятность - %.2f' % (elem[1]*100), '%)') # Выводим название\n",
        "    ipd.display(ipd.Audio (elem[0], rate = 22050))"
      ],
      "execution_count": null,
      "outputs": []
    },
    {
      "cell_type": "markdown",
      "metadata": {
        "id": "ZWZ78WzT6kjv"
      },
      "source": [
        "### Функция\n",
        "\n",
        "*Разбор данного раздела:* https://youtu.be/ffkHDToi-jM?t=5446\n"
      ]
    },
    {
      "cell_type": "code",
      "metadata": {
        "id": "Jf_Jbr5ssm3L"
      },
      "source": [
        "##########################\n",
        "# Объявим функцию предсказания команды\n",
        "##########################\n",
        "def predict(namefile, model, min_count = 2, rate = 0.9, hole = 1):                    # функция принимает на вход путь к нужному файлу, и имя обученной модели \n",
        "    mfcc_full, audio_full = wav2mfcc(namefile, length=feature_dim_2, step = step_mfcc)  # Получаем массив mfcc выбранного файла с именем namefile    \n",
        "\n",
        "    #mfcc = xScaler.transform(mfcc_full.reshape(-1,1))\n",
        "    mfcc_full = mfcc_full.reshape(-1, 20, 22, 1)\n",
        "    g_pred = model.predict(mfcc_full)               # Предиктим с помощью модели model массив mfcc\n",
        "    pred = np.array([np.argmax(i) for i in g_pred]) # Выбираем индекс максимального элемента в каждом g_pred[i]  и создаем numpy-массив pred из этих индексов\n",
        "\n",
        "    out = []    # Объявляем выходную переменную out (В ней будут храниться преобразованные из mfcc ауидоданные, класс команды и точность, с которой сеть считает эту команду верной)  \n",
        "  \n",
        "    # Ищем команды каждого класса\n",
        "    for idx_class in range(n_classes-1):\n",
        "      idxs = np.where(pred == idx_class)  # В массиве pred находим все элементы со значением, равным искомому классу idx_class\n",
        "      idxs = idxs[0]                      # Размерность полученного маасива в np.where иммет тип (x,). Оставляем только первую размерность\n",
        "      if (len(idxs) == 0):                # Если элементы искомого класса не найдены,\n",
        "        continue                          # то переходим к поиску команд следующего класса\n",
        "\n",
        "      curr = [] # Временный массив для хранения информации о найденных командах\n",
        "      '''\n",
        "      в массиве idx данные прдеставлены следующим образом:\n",
        "      [4, 5, 6, 7, 123, 124, 125, 126, 127]\n",
        "      в массив curr мы запишем [4, 123] только стартовые индексы\n",
        "      поскольку очевидно, что 4,5,6,7 и 123,124,125,126,127 представляют единую команду\n",
        "      '''\n",
        "      curr_idx =int(idxs[0])  # Текущий стартовый индекс\n",
        "      summ, length = 0, 0     # summ - хранит сумму вероятностей, с которой сеть отнесла команду к данному классу; length - длинна последовательно идущих элементов для одной команды (для массива curr из примера                                                                        \n",
        "                              #[4, 123] длина соответствующая первому элементу будет 4, второму - 5 )\n",
        "      \n",
        "      for i in range(len(idxs)):              # Пробегаем по всему массиву idxs\n",
        "        summ += g_pred[idxs[i]][idx_class]    # Считаем сумму вероятности\n",
        "        length += 1                           # Увеличиваем длинну последовательности\n",
        "        if i == len(idxs)-1:                  # Если последний элемент последовательности\n",
        "          if (length >= min_count and summ / length >= rate):   # Проверяем на условия разбора: длинна последовательности должна быть больше входного параметра min_count\n",
        "                                                                # summ / length должно быть больше входного параметра rate\n",
        "            curr.append([curr_idx, length, summ / length])      # Если условия выполняются, то добавляем в маасив стартовый индекс найденной команды, длинну последовательности и summ / length\n",
        "\n",
        "          break  \n",
        "        if idxs[i+1]-idxs[i]>hole:                            # Если следующий индекс больше текущего на hole (означает, что следующий элемент относится уже к другой комманде)\n",
        "          if (length >= min_count and summ / length >= rate): # Проверяем на условия разбора: длинна последовательности должна быть больше входного параметра min_count\n",
        "                                                              # summ / length должно быть больше входного параметра rate\n",
        " #           print(length)\n",
        "            curr.append([curr_idx, length, summ / length])  # Если условия выполняются, то добавляем в маасив стартовый индекс найденной команды, длинну последовательности и summ / length\n",
        "          curr_idx = int (idxs[i+1])                        # Изменяем текущий стартовый индекс\n",
        "          summ, length = 0, 0                               # Обнуляем summ и length\n",
        "      curr_audio = [] \n",
        "      for elem in curr:                                     # Проходим по всему массиву curr\n",
        "        curr_audio = audio_full[elem[0]]      # Если это стартовый элемент исходных данных, то берем самую первую mfcc\n",
        "        for j in range(1,elem[1]):            # Пробегаем цикл от 1 до elem[1]+1 (где elem[1] хранит длинну последовательности элементов, отнесенных к одной команде)\n",
        "         if (elem[0]+j == len(audio_full)):   # Если elem[0] + j равно длинне mfcc, то выходим из цикла\n",
        "           break\n",
        "         curr_audio = np.hstack((curr_audio, audio_full[elem[0]+j][-step_mfcc:]))\n",
        "        curr_audio = np.array(curr_audio)             # Переводим массив в numpy\n",
        "        out.append([curr_audio, idx_class, elem])  # Добавляем данные в выходной массив\n",
        "    return out, pred                         # Возращаем массив с данными, массив с классами команд, массив с softmax данными"
      ],
      "execution_count": null,
      "outputs": []
    },
    {
      "cell_type": "code",
      "metadata": {
        "id": "MMieDV7g8XcO"
      },
      "source": [
        "wavfiles =  DATA_PATH_TEST + 'text_with_cond14.wav' # Получаем имя очередного файла\n",
        "y_org,sr = librosa.load(wavfiles)      \n",
        "ipd.display(ipd.Audio (y_org, rate = sr))\n",
        "print()\n",
        "#out, pred, _ = predict(wavfiles, model=model, min_count = 6, rate = 0.8, hole = 2)  # Вызываем predict для очередного файла  \n",
        "out, pred = predict(wavfiles, model=model, min_count = 6, rate = 0.8, hole = 2)                # Вызываем predict для очередного файла  \n",
        "color = ['y','g','b']\n",
        "if (len(out)==0):                                                                                   # Если длинна массива равна 0, то команда не распознана\n",
        "    print('Команда не распознанана!!!')\n",
        "else:\n",
        "  for elem in out[:1]: \n",
        "    print ('Распознана команда: \"', classes[elem[1]], '\" (вероятность - %.2f' % (elem[2][2]*100), '%)')  # Выводим название\n",
        "    ipd.display(ipd.Audio(elem[0], rate = 22050))\n",
        "    fig = plt.figure(figsize=(30,5))\n",
        "    ax = fig.add_subplot(111) \n",
        "    plt.plot(y_org)\n",
        "    ax.add_patch(Rectangle((441*elem[2][0], 1.), \n",
        "                            20000, -2, \n",
        "                              fc =color[elem[1]],  \n",
        "                              ec =color[elem[1]], \n",
        "                              fill=True,\n",
        "                              lw = 2,\n",
        "                              alpha=0.5) ) \n"
      ],
      "execution_count": null,
      "outputs": []
    },
    {
      "cell_type": "code",
      "metadata": {
        "id": "g6lxAY5aRP5T"
      },
      "source": [
        "wavfiles =  DATA_PATH_TEST + 'text_with_cond7.wav' # Получаем имя очередного файла\n",
        "y_org,sr = librosa.load(wavfiles)      \n",
        "ipd.display(ipd.Audio (y_org, rate = sr))\n",
        "print()\n",
        "#out, pred, _ = predict(wavfiles, model=model, min_count = 6, rate = 0.8, hole = 2)  # Вызываем predict для очередного файла  \n",
        "out, pred = predict(wavfiles, model=model, min_count = 6, rate = 0.8, hole = 2)                # Вызываем predict для очередного файла  \n",
        "color = ['y','g','b']\n",
        "if (len(out)==0):                                                                                   # Если длинна массива равна 0, то команда не распознана\n",
        "    print('Команда не распознанана!!!')\n",
        "else:\n",
        "  for elem in out[:1]: \n",
        "    print ('Распознана команда: \"', classes[elem[1]], '\" (вероятность - %.2f' % (elem[2][2]*100), '%)')  # Выводим название\n",
        "    ipd.display(ipd.Audio(elem[0], rate = 22050))\n",
        "    fig = plt.figure(figsize=(30,5))\n",
        "    ax = fig.add_subplot(111) \n",
        "    plt.plot(y_org)\n",
        "    ax.add_patch(Rectangle((441*elem[2][0], 1.), \n",
        "                            20000, -2, \n",
        "                              fc =color[elem[1]],  \n",
        "                              ec =color[elem[1]], \n",
        "                              fill=True,\n",
        "                              lw = 2,\n",
        "                              alpha=0.5) ) \n"
      ],
      "execution_count": null,
      "outputs": []
    },
    {
      "cell_type": "code",
      "metadata": {
        "id": "4oJRzBioRZeS"
      },
      "source": [
        "wavfiles =  DATA_PATH_TEST + 'text_with_televizor'+str(12)+'.wav' # Получаем имя очередного файла\n",
        "y_org,sr = librosa.load(wavfiles)      \n",
        "ipd.display(ipd.Audio (y_org, rate = sr))\n",
        "print()\n",
        "#out, pred, _ = predict(wavfiles, model=model, min_count = 6, rate = 0.8, hole = 2)  # Вызываем predict для очередного файла  \n",
        "out, pred = predict(wavfiles, model=model, min_count = 4, rate = 0.7, hole = 1)                # Вызываем predict для очередного файла  \n",
        "color = ['y','g','b']\n",
        "if (len(out)==0):                                                                                   # Если длинна массива равна 0, то команда не распознана\n",
        "    print('Команда не распознанана!!!')\n",
        "else:\n",
        "  for elem in out[:1]: \n",
        "    print ('Распознана команда: \"', classes[elem[1]], '\" (вероятность - %.2f' % (elem[2][2]*100), '%)')  # Выводим название\n",
        "    ipd.display(ipd.Audio(elem[0], rate = 22050))\n",
        "    fig = plt.figure(figsize=(30,5))\n",
        "    ax = fig.add_subplot(111) \n",
        "    plt.plot(y_org)\n",
        "    ax.add_patch(Rectangle((441*elem[2][0], 1.), \n",
        "                            20000, -2, \n",
        "                              fc =color[elem[1]],  \n",
        "                              ec =color[elem[1]], \n",
        "                              fill=True,\n",
        "                              lw = 2,\n",
        "                              alpha=0.5) ) "
      ],
      "execution_count": null,
      "outputs": []
    },
    {
      "cell_type": "code",
      "metadata": {
        "id": "mmUUE9-IbaKv"
      },
      "source": [
        "# Уменьшим параметр rate до 0.75\n",
        "wavfiles =  DATA_PATH_TEST + 'text_with_svet'+str(1)+'.wav' # Получаем имя очередного файла\n",
        "y_org,sr = librosa.load(wavfiles)      \n",
        "ipd.display(ipd.Audio (y_org, rate = sr))\n",
        "print()\n",
        "#out, pred, _ = predict(wavfiles, model=model, min_count = 6, rate = 0.8, hole = 2)  # Вызываем predict для очередного файла  \n",
        "out, pred = predict(wavfiles, model=model, min_count = 6, rate = 0.8, hole = 2)                # Вызываем predict для очередного файла  \n",
        "color = ['y','g','b']\n",
        "if (len(out)==0):                                                                                   # Если длинна массива равна 0, то команда не распознана\n",
        "    print('Команда не распознанана!!!')\n",
        "else:\n",
        "  for elem in out[:1]: \n",
        "    print ('Распознана команда: \"', classes[elem[1]], '\" (вероятность - %.2f' % (elem[2][2]*100), '%)')  # Выводим название\n",
        "    ipd.display(ipd.Audio(elem[0], rate = 22050))\n",
        "    fig = plt.figure(figsize=(30,5))\n",
        "    ax = fig.add_subplot(111) \n",
        "    plt.plot(y_org)\n",
        "    ax.add_patch(Rectangle((441*elem[2][0], 1.), \n",
        "                            20000, -2, \n",
        "                              fc =color[elem[1]],  \n",
        "                              ec =color[elem[1]], \n",
        "                              fill=True,\n",
        "                              lw = 2,\n",
        "                              alpha=0.5) ) "
      ],
      "execution_count": null,
      "outputs": []
    },
    {
      "cell_type": "markdown",
      "metadata": {
        "id": "WfxPc7WQIKeG"
      },
      "source": [
        "# LIGHT"
      ]
    },
    {
      "cell_type": "code",
      "metadata": {
        "id": "F1wxDuGyJJw4"
      },
      "source": [
        "\n",
        "# Функция для записи с микрофона из Python\n",
        "def get_audio():\n",
        "  display(HTML(AUDIO_HTML))\n",
        "  data = eval_js(\"data\")\n",
        "  binary = b64decode(data.split(',')[1])\n",
        "  process = (ffmpeg\n",
        "    .input('pipe:0')\n",
        "    .output('pipe:1', format='wav')\n",
        "    .run_async(pipe_stdin=True, pipe_stdout=True, pipe_stderr=True, quiet=True, overwrite_output=True)\n",
        "  )\n",
        "  output, err = process.communicate(input=binary)\n",
        "  riff_chunk_size = len(output) - 8\n",
        "  q = riff_chunk_size\n",
        "  b = []\n",
        "  for i in range(4):\n",
        "      q, r = divmod(q, 256)\n",
        "      b.append(r)\n",
        "  riff = output[:4] + bytes(b) + output[8:]\n",
        "  sr, audio = wav_read(io.BytesIO(riff))\n",
        "  return audio, sr\n",
        "\n",
        "# Скрипт html для записи речи\n",
        "AUDIO_HTML = \"\"\"\n",
        "<script>\n",
        "var my_div = document.createElement(\"DIV\");\n",
        "var my_p = document.createElement(\"P\");\n",
        "var my_btn = document.createElement(\"BUTTON\");\n",
        "var t = document.createTextNode(\"Press to start recording\");\n",
        "\n",
        "my_btn.appendChild(t);\n",
        "//my_p.appendChild(my_btn);\n",
        "my_div.appendChild(my_btn);\n",
        "document.body.appendChild(my_div);\n",
        "\n",
        "var base64data = 0;\n",
        "var reader;\n",
        "var recorder, gumStream;\n",
        "var recordButton = my_btn;\n",
        "\n",
        "var handleSuccess = function(stream) {\n",
        "  gumStream = stream;\n",
        "  var options = {\n",
        "    //bitsPerSecond: 8000, //chrome seems to ignore, always 48k\n",
        "    mimeType : 'audio/webm;codecs=opus'\n",
        "    //mimeType : 'audio/webm;codecs=pcm'\n",
        "  };            \n",
        "  //recorder = new MediaRecorder(stream, options);\n",
        "  recorder = new MediaRecorder(stream);\n",
        "  recorder.ondataavailable = function(e) {            \n",
        "    var url = URL.createObjectURL(e.data);\n",
        "    var preview = document.createElement('audio');\n",
        "    preview.controls = true;\n",
        "    preview.src = url;\n",
        "    document.body.appendChild(preview);\n",
        "\n",
        "    reader = new FileReader();\n",
        "    reader.readAsDataURL(e.data); \n",
        "    reader.onloadend = function() {\n",
        "      base64data = reader.result;\n",
        "      //console.log(\"Inside FileReader:\" + base64data);\n",
        "    }\n",
        "  };\n",
        "  recorder.start();\n",
        "  };\n",
        "\n",
        "recordButton.innerText = \"Recording... press to stop\";\n",
        "\n",
        "navigator.mediaDevices.getUserMedia({audio: true}).then(handleSuccess);\n",
        "\n",
        "\n",
        "function toggleRecording() {\n",
        "  if (recorder && recorder.state == \"recording\") {\n",
        "      recorder.stop();\n",
        "      gumStream.getAudioTracks()[0].stop();\n",
        "      recordButton.innerText = \"Saving the recording... pls wait!\"\n",
        "  }\n",
        "}\n",
        "\n",
        "// https://stackoverflow.com/a/951057\n",
        "function sleep(ms) {\n",
        "  return new Promise(resolve => setTimeout(resolve, ms));\n",
        "}\n",
        "\n",
        "var data = new Promise(resolve=>{\n",
        "//recordButton.addEventListener(\"click\", toggleRecording);\n",
        "recordButton.onclick = ()=>{\n",
        "toggleRecording()\n",
        "\n",
        "sleep(2000).then(() => {\n",
        "  // wait 2000ms for the data to be available...\n",
        "  // ideally this should use something like await...\n",
        "  //console.log(\"Inside data:\" + base64data)\n",
        "  resolve(base64data.toString())\n",
        "\n",
        "});\n",
        "\n",
        "}\n",
        "});\n",
        "      \n",
        "</script>\n",
        "\"\"\"\n",
        "\n",
        "# Запись голоса\n",
        "# audio, sr = get_audio()\n",
        "# scipy.io.wavfile.write('recording.wav', sr, audio)"
      ],
      "execution_count": null,
      "outputs": []
    },
    {
      "cell_type": "markdown",
      "metadata": {
        "id": "PtmIbzDFIMQc"
      },
      "source": [
        "## LIGHT 1"
      ]
    },
    {
      "cell_type": "code",
      "metadata": {
        "id": "QmOJKKAEags9"
      },
      "source": [
        "y_org,sr = get_audio()\n",
        "scipy.io.wavfile.write('recording.wav', sr, y_org)"
      ],
      "execution_count": null,
      "outputs": []
    },
    {
      "cell_type": "code",
      "metadata": {
        "id": "rwfU2NEWjkJU"
      },
      "source": [
        "wavfiles = '/content/recording.wav'\n",
        "y_org,sr = librosa.load(wavfiles) \n",
        "ipd.display(ipd.Audio (y_org, rate = sr))\n",
        "print()\n",
        "wavfiles = '/content/recording.wav'\n",
        "#out, pred, _ = predict(wavfiles, model=model, min_count = 6, rate = 0.8, hole = 2)  # Вызываем predict для очередного файла  \n",
        "out, pred = predict(wavfiles, model=model, min_count = 4, rate = 0.7, hole = 1)                # Вызываем predict для очередного файла  \n",
        "color = ['y','g','b']\n",
        "if (len(out)==0):                                                                                   # Если длинна массива равна 0, то команда не распознана\n",
        "    print('Команда не распознанана!!!')\n",
        "else:\n",
        "  for elem in out[:1]: \n",
        "    print ('Распознана команда: \"', classes[elem[1]], '\" (вероятность - %.2f' % (elem[2][2]*100), '%)')  # Выводим название\n",
        "    ipd.display(ipd.Audio(elem[0], rate = 22050))\n",
        "    fig = plt.figure(figsize=(30,5))\n",
        "    ax = fig.add_subplot(111) \n",
        "    plt.plot(y_org)\n",
        "    ax.add_patch(Rectangle((441*elem[2][0], 1.), \n",
        "                            20000, -2, \n",
        "                              fc =color[elem[1]],  \n",
        "                              ec =color[elem[1]], \n",
        "                              fill=True,\n",
        "                              lw = 2,\n",
        "                              alpha=0.5) ) "
      ],
      "execution_count": null,
      "outputs": []
    },
    {
      "cell_type": "markdown",
      "metadata": {
        "id": "gEEV8axCMBnW"
      },
      "source": [
        "кондиционер не распознался"
      ]
    },
    {
      "cell_type": "code",
      "metadata": {
        "id": "Vu2-_DT9fRV-"
      },
      "source": [
        ""
      ],
      "execution_count": null,
      "outputs": []
    },
    {
      "cell_type": "code",
      "metadata": {
        "id": "nx9XqmqifRoK"
      },
      "source": [
        "y_org,sr = get_audio()\n",
        "scipy.io.wavfile.write('recording.wav', sr, y_org)"
      ],
      "execution_count": null,
      "outputs": []
    },
    {
      "cell_type": "code",
      "metadata": {
        "id": "1S3ikhPqfRoL"
      },
      "source": [
        "wavfiles = '/content/recording.wav'\n",
        "y_org,sr = librosa.load(wavfiles) \n",
        "ipd.display(ipd.Audio (y_org, rate = sr))\n",
        "print()\n",
        "wavfiles = '/content/recording.wav'\n",
        "#out, pred, _ = predict(wavfiles, model=model, min_count = 6, rate = 0.8, hole = 2)  # Вызываем predict для очередного файла  \n",
        "out, pred = predict(wavfiles, model=model, min_count = 4, rate = 0.7, hole = 1)                # Вызываем predict для очередного файла  \n",
        "color = ['y','g','b']\n",
        "if (len(out)==0):                                                                                   # Если длинна массива равна 0, то команда не распознана\n",
        "    print('Команда не распознанана!!!')\n",
        "else:\n",
        "  for elem in out[:1]: \n",
        "    print ('Распознана команда: \"', classes[elem[1]], '\" (вероятность - %.2f' % (elem[2][2]*100), '%)')  # Выводим название\n",
        "    ipd.display(ipd.Audio(elem[0], rate = 22050))\n",
        "    fig = plt.figure(figsize=(30,5))\n",
        "    ax = fig.add_subplot(111) \n",
        "    plt.plot(y_org)\n",
        "    ax.add_patch(Rectangle((441*elem[2][0], 1.), \n",
        "                            20000, -2, \n",
        "                              fc =color[elem[1]],  \n",
        "                              ec =color[elem[1]], \n",
        "                              fill=True,\n",
        "                              lw = 2,\n",
        "                              alpha=0.5) ) "
      ],
      "execution_count": null,
      "outputs": []
    },
    {
      "cell_type": "markdown",
      "metadata": {
        "id": "ajKXJdygMTQF"
      },
      "source": [
        "Телевизор не распознался"
      ]
    },
    {
      "cell_type": "code",
      "metadata": {
        "id": "L9jUa4ssfnQh"
      },
      "source": [
        ""
      ],
      "execution_count": null,
      "outputs": []
    },
    {
      "cell_type": "code",
      "metadata": {
        "id": "A2XOoRSlfong"
      },
      "source": [
        "y_org,sr = get_audio()\n",
        "scipy.io.wavfile.write('recording.wav', sr, y_org)"
      ],
      "execution_count": null,
      "outputs": []
    },
    {
      "cell_type": "code",
      "metadata": {
        "id": "fi48yG6Jfonh"
      },
      "source": [
        "wavfiles = '/content/recording.wav'\n",
        "y_org,sr = librosa.load(wavfiles) \n",
        "ipd.display(ipd.Audio (y_org, rate = sr))\n",
        "print()\n",
        "wavfiles = '/content/recording.wav'\n",
        "#out, pred, _ = predict(wavfiles, model=model, min_count = 6, rate = 0.8, hole = 2)  # Вызываем predict для очередного файла  \n",
        "out, pred = predict(wavfiles, model=model, min_count = 4, rate = 0.7, hole = 1)                # Вызываем predict для очередного файла  \n",
        "color = ['y','g','b']\n",
        "if (len(out)==0):                                                                                   # Если длинна массива равна 0, то команда не распознана\n",
        "    print('Команда не распознанана!!!')\n",
        "else:\n",
        "  for elem in out[:1]: \n",
        "    print ('Распознана команда: \"', classes[elem[1]], '\" (вероятность - %.2f' % (elem[2][2]*100), '%)')  # Выводим название\n",
        "    ipd.display(ipd.Audio(elem[0], rate = 22050))\n",
        "    fig = plt.figure(figsize=(30,5))\n",
        "    ax = fig.add_subplot(111) \n",
        "    plt.plot(y_org)\n",
        "    ax.add_patch(Rectangle((441*elem[2][0], 1.), \n",
        "                            20000, -2, \n",
        "                              fc =color[elem[1]],  \n",
        "                              ec =color[elem[1]], \n",
        "                              fill=True,\n",
        "                              lw = 2,\n",
        "                              alpha=0.5) ) "
      ],
      "execution_count": null,
      "outputs": []
    },
    {
      "cell_type": "markdown",
      "metadata": {
        "id": "BBmiLp5WMsiv"
      },
      "source": [
        "свет не распознался"
      ]
    },
    {
      "cell_type": "markdown",
      "metadata": {
        "id": "9avfKCHwMu2i"
      },
      "source": [
        "### Вывод\n",
        "\n",
        "Нейронка очень голосозависима. Из трех примеров распозналс только один наполовину"
      ]
    },
    {
      "cell_type": "markdown",
      "metadata": {
        "id": "a-75mXPmM5dB"
      },
      "source": [
        "## LIGHT 2"
      ]
    },
    {
      "cell_type": "markdown",
      "metadata": {
        "id": "LApaPZEkVrfP"
      },
      "source": [
        "Запишем файлы сразу из колаба в гугл диск"
      ]
    },
    {
      "cell_type": "markdown",
      "metadata": {
        "id": "ZnL0bsMVf4jv"
      },
      "source": [
        "кондиционер"
      ]
    },
    {
      "cell_type": "code",
      "metadata": {
        "id": "5fCHCL-aMliz"
      },
      "source": [
        "for i in range(20):\n",
        "  y_org,sr = get_audio()\n",
        "  scipy.io.wavfile.write('/content/drive/MyDrive/Colab Notebooks/33 Голосовые команды/Команды/1_cond/my_cond'+str(i)+'.wav', sr, y_org)"
      ],
      "execution_count": null,
      "outputs": []
    },
    {
      "cell_type": "markdown",
      "metadata": {
        "id": "z18dVtFff7jW"
      },
      "source": [
        "свет"
      ]
    },
    {
      "cell_type": "code",
      "metadata": {
        "id": "NNLdAgftRB_6"
      },
      "source": [
        "for i in range(20):\n",
        "  y_org,sr = get_audio()\n",
        "  scipy.io.wavfile.write('/content/drive/MyDrive/Colab Notebooks/33 Голосовые команды/Команды/2_light/my_light'+str(i)+'.wav', sr, y_org)"
      ],
      "execution_count": null,
      "outputs": []
    },
    {
      "cell_type": "markdown",
      "metadata": {
        "id": "AYWbpWsqf_ny"
      },
      "source": [
        "телевизор"
      ]
    },
    {
      "cell_type": "code",
      "metadata": {
        "id": "Bt9YsrdaRht7"
      },
      "source": [
        "for i in range(20):\n",
        "  y_org,sr = get_audio()\n",
        "  scipy.io.wavfile.write('/content/drive/MyDrive/Colab Notebooks/33 Голосовые команды/Команды/3_tv/my_tv'+str(i)+'.wav', sr, y_org)"
      ],
      "execution_count": null,
      "outputs": []
    },
    {
      "cell_type": "markdown",
      "metadata": {
        "id": "d2tRoUObgDG9"
      },
      "source": [
        "шум"
      ]
    },
    {
      "cell_type": "code",
      "metadata": {
        "id": "afxA_YcZ1rcd"
      },
      "source": [
        "for i in range(10,20):\n",
        "  y_org,sr = get_audio()\n",
        "  scipy.io.wavfile.write('/content/drive/MyDrive/Colab Notebooks/33 Голосовые команды/Команды/4_noise/my_noise'+str(i)+'.wav', sr, y_org)"
      ],
      "execution_count": null,
      "outputs": []
    },
    {
      "cell_type": "markdown",
      "metadata": {
        "id": "dP4aoiVkVmWl"
      },
      "source": [
        "Переформируем выборки и обучим сеть заново"
      ]
    },
    {
      "cell_type": "code",
      "metadata": {
        "id": "YmJC0VAlSpCw"
      },
      "source": [
        "# Формируем и сохраняем векторы данных, полученных для каждого набора аудио-команд в датасете\n",
        "save_data_to_array(length=feature_dim_2)"
      ],
      "execution_count": null,
      "outputs": []
    },
    {
      "cell_type": "code",
      "metadata": {
        "id": "nP-4z4jnSpDC"
      },
      "source": [
        "##########################\n",
        "# Формируем обучающую и проверочную выборки\n",
        "##########################\n",
        "x_train, x_test, y_train, y_test = get_train_test(colab=False) # создаем обучающий/проверочный наборы\n",
        "print(x_train.shape, y_train.shape)\n",
        "print(x_test.shape, y_test.shape)"
      ],
      "execution_count": null,
      "outputs": []
    },
    {
      "cell_type": "code",
      "metadata": {
        "id": "Qh6frrbmSpDG"
      },
      "source": [
        "# Добавляем значение канала(=1) в размеры 'x' выборок\n",
        "#x_train = x_train.reshape(x_train.shape[0], x_train.shape[1], x_train.shape[2], channel)\n",
        "x_train = x_train[..., None]\n",
        "#x_test = x_test.reshape(x_test.shape[0], x_test.shape[1], x_test.shape[2], channel)\n",
        "x_test = x_test[..., None]\n",
        "\n",
        "y_train_hot = to_categorical(y_train) # представляем лейблы классов обучающего набора в виде one-hot вектора ((0, 1, 0) и т.п)\n",
        "y_test_hot = to_categorical(y_test) # представляем лейблы классов проверочного набора в виде one-hot вектора ((0, 1, 0) и т.п)"
      ],
      "execution_count": null,
      "outputs": []
    },
    {
      "cell_type": "code",
      "metadata": {
        "id": "V1QksF3ZSpDJ"
      },
      "source": [
        "x_train.shape"
      ],
      "execution_count": null,
      "outputs": []
    },
    {
      "cell_type": "code",
      "metadata": {
        "id": "n5E2FfpRIUBh"
      },
      "source": [
        "y_train.shape"
      ],
      "execution_count": null,
      "outputs": []
    },
    {
      "cell_type": "code",
      "metadata": {
        "id": "ZWgbPkGISpDM"
      },
      "source": [
        "idx = np.where(y_train==0)\n",
        "idx[0].shape"
      ],
      "execution_count": null,
      "outputs": []
    },
    {
      "cell_type": "code",
      "metadata": {
        "id": "mNAyL1eqSpDO"
      },
      "source": [
        "idx = np.where(y_train==1)\n",
        "idx[0].shape"
      ],
      "execution_count": null,
      "outputs": []
    },
    {
      "cell_type": "code",
      "metadata": {
        "id": "0svf6LXHSpDQ"
      },
      "source": [
        "idx = np.where(y_train==2)\n",
        "idx[0].shape"
      ],
      "execution_count": null,
      "outputs": []
    },
    {
      "cell_type": "code",
      "metadata": {
        "id": "z8CuoPf3SpDR"
      },
      "source": [
        "idx = np.where(y_train==3)\n",
        "idx[0].shape"
      ],
      "execution_count": null,
      "outputs": []
    },
    {
      "cell_type": "code",
      "metadata": {
        "id": "Nd548JiwSpDU"
      },
      "source": [
        "model = get_model() # создаем модель с помощью объявленной ранее функции"
      ],
      "execution_count": null,
      "outputs": []
    },
    {
      "cell_type": "code",
      "metadata": {
        "id": "TtUEVZ1f-XpA"
      },
      "source": [
        "##########################\n",
        "# Запустим тренировку нейросети на полученных данных\n",
        "##########################\n",
        "\n",
        "# Загружаем модель данными с выбором параметров и сохраним историю обучения(ошибки/точность) для вывода графика\n",
        "history = model.fit(x_train, y_train_hot, batch_size=256, epochs=50, verbose=1, validation_data=(x_test, y_test_hot))\n",
        "\n",
        "# Построим график, отображающий точность предсказания на обучающей и проверочной выборке\n",
        "plt.plot(history.history['accuracy'], label='Доля верных ответов на обучающем наборе')\n",
        "plt.plot(history.history['val_accuracy'], label='Доля верных ответов на проверочном наборе')\n",
        "plt.xlabel('Эпоха обучения')\n",
        "plt.ylabel('Доля верных ответов')\n",
        "plt.legend()\n",
        "plt.show()"
      ],
      "execution_count": null,
      "outputs": []
    },
    {
      "cell_type": "markdown",
      "metadata": {
        "id": "IU_0TzD8Vc__"
      },
      "source": [
        "проверяем доученную модель"
      ]
    },
    {
      "cell_type": "code",
      "metadata": {
        "id": "NKmg6Nlq-XpC"
      },
      "source": [
        "y_org1,sr1 = get_audio()\n",
        "scipy.io.wavfile.write('recording1.wav', sr1, y_org1)"
      ],
      "execution_count": null,
      "outputs": []
    },
    {
      "cell_type": "code",
      "metadata": {
        "id": "PCtDiH1l-XpC"
      },
      "source": [
        "# y_org,sr = get_audio()\n",
        "# scipy.io.wavfile.write('recording1.wav', sr, y_org)\n",
        "wavfiles = '/content/recording1.wav'\n",
        "y_org,sr = librosa.load(wavfiles)      \n",
        "ipd.display(ipd.Audio (y_org, rate = sr))\n",
        "print()\n",
        "#out, pred, _ = predict(wavfiles, model=model, min_count = 6, rate = 0.8, hole = 2)  # Вызываем predict для очередного файла  \n",
        "out, pred = predict(wavfiles, model=model, min_count = 20, rate = 0.8, hole = 4)                # Вызываем predict для очередного файла  \n",
        "color = ['y','g','b']\n",
        "if (len(out)==0):                                                                                   # Если длинна массива равна 0, то команда не распознана\n",
        "    print('Команда не распознанана!!!')\n",
        "else:\n",
        "  for elem in out[:1]: \n",
        "    print ('Распознана команда: \"', classes[elem[1]], '\" (вероятность - %.2f' % (elem[2][2]*100), '%)')  # Выводим название\n",
        "    ipd.display(ipd.Audio(elem[0], rate = 22050))\n",
        "    fig = plt.figure(figsize=(30,5))\n",
        "    ax = fig.add_subplot(111) \n",
        "    plt.plot(y_org)\n",
        "    ax.add_patch(Rectangle((441*elem[2][0], 1.), \n",
        "                            20000, -2, \n",
        "                              fc =color[elem[1]],  \n",
        "                              ec =color[elem[1]], \n",
        "                              fill=True,\n",
        "                              lw = 2,\n",
        "                              alpha=0.5) ) "
      ],
      "execution_count": null,
      "outputs": []
    },
    {
      "cell_type": "code",
      "metadata": {
        "id": "82Bs1O6M-sft"
      },
      "source": [
        "y_org1,sr1 = get_audio()\n",
        "scipy.io.wavfile.write('recording1.wav', sr1, y_org1)"
      ],
      "execution_count": null,
      "outputs": []
    },
    {
      "cell_type": "code",
      "metadata": {
        "id": "IOnZ8h6p-sfu"
      },
      "source": [
        "# y_org,sr = get_audio()\n",
        "# scipy.io.wavfile.write('recording1.wav', sr, y_org)\n",
        "wavfiles = '/content/recording1.wav'\n",
        "y_org,sr = librosa.load(wavfiles)      \n",
        "ipd.display(ipd.Audio (y_org, rate = sr))\n",
        "print()\n",
        "#out, pred, _ = predict(wavfiles, model=model, min_count = 6, rate = 0.8, hole = 2)  # Вызываем predict для очередного файла  \n",
        "out, pred = predict(wavfiles, model=model, min_count = 20, rate = 0.8, hole = 4)                # Вызываем predict для очередного файла  \n",
        "color = ['y','g','b']\n",
        "if (len(out)==0):                                                                                   # Если длинна массива равна 0, то команда не распознана\n",
        "    print('Команда не распознанана!!!')\n",
        "else:\n",
        "  for elem in out[:1]: \n",
        "    print ('Распознана команда: \"', classes[elem[1]], '\" (вероятность - %.2f' % (elem[2][2]*100), '%)')  # Выводим название\n",
        "    ipd.display(ipd.Audio(elem[0], rate = 22050))\n",
        "    fig = plt.figure(figsize=(30,5))\n",
        "    ax = fig.add_subplot(111) \n",
        "    plt.plot(y_org)\n",
        "    ax.add_patch(Rectangle((441*elem[2][0], 1.), \n",
        "                            20000, -2, \n",
        "                              fc =color[elem[1]],  \n",
        "                              ec =color[elem[1]], \n",
        "                              fill=True,\n",
        "                              lw = 2,\n",
        "                              alpha=0.5) ) "
      ],
      "execution_count": null,
      "outputs": []
    },
    {
      "cell_type": "code",
      "metadata": {
        "id": "1uEntqCM-8yh"
      },
      "source": [
        "y_org1,sr1 = get_audio()\n",
        "scipy.io.wavfile.write('recording1.wav', sr1, y_org1)"
      ],
      "execution_count": null,
      "outputs": []
    },
    {
      "cell_type": "code",
      "metadata": {
        "id": "aXsi9FEt-8yj"
      },
      "source": [
        "# y_org,sr = get_audio()\n",
        "# scipy.io.wavfile.write('recording1.wav', sr, y_org)\n",
        "wavfiles = '/content/recording1.wav'\n",
        "y_org,sr = librosa.load(wavfiles)      \n",
        "ipd.display(ipd.Audio (y_org, rate = sr))\n",
        "print()\n",
        "#out, pred, _ = predict(wavfiles, model=model, min_count = 6, rate = 0.8, hole = 2)  # Вызываем predict для очередного файла  \n",
        "out, pred = predict(wavfiles, model=model, min_count = 20, rate = 0.8, hole = 4)                # Вызываем predict для очередного файла  \n",
        "color = ['y','g','b']\n",
        "if (len(out)==0):                                                                                   # Если длинна массива равна 0, то команда не распознана\n",
        "    print('Команда не распознанана!!!')\n",
        "else:\n",
        "  for elem in out[:1]: \n",
        "    print ('Распознана команда: \"', classes[elem[1]], '\" (вероятность - %.2f' % (elem[2][2]*100), '%)')  # Выводим название\n",
        "    ipd.display(ipd.Audio(elem[0], rate = 22050))\n",
        "    fig = plt.figure(figsize=(30,5))\n",
        "    ax = fig.add_subplot(111) \n",
        "    plt.plot(y_org)\n",
        "    ax.add_patch(Rectangle((441*elem[2][0], 1.), \n",
        "                            20000, -2, \n",
        "                              fc =color[elem[1]],  \n",
        "                              ec =color[elem[1]], \n",
        "                              fill=True,\n",
        "                              lw = 2,\n",
        "                              alpha=0.5) ) "
      ],
      "execution_count": null,
      "outputs": []
    },
    {
      "cell_type": "markdown",
      "metadata": {
        "id": "HJdu1aS0gLXe"
      },
      "source": [
        "Выводы: после дообучения с моим голосом сеть стала распознавать мои команды"
      ]
    },
    {
      "cell_type": "markdown",
      "metadata": {
        "id": "js_K5WIOX-ye"
      },
      "source": [
        "# PRO"
      ]
    },
    {
      "cell_type": "markdown",
      "metadata": {
        "id": "Z3XoLt_OhK9N"
      },
      "source": [
        "Провел следующие изменения:\n",
        "- уменьшил проверочную выборку (чтобы чуть увеличить обучающую)\n",
        "- обрезал часть данных с шумами, для выравнивания базы по объему каждого класса\n",
        "- чуть усложнил сеть, чтобы выцеплялось больше признаков в mfcc"
      ]
    },
    {
      "cell_type": "code",
      "metadata": {
        "id": "yxiA3p5qhXIG"
      },
      "source": [
        "##########################\n",
        "# Формируем обучающую и проверочную выборки\n",
        "##########################\n",
        "x_train, x_test, y_train, y_test = get_train_test(split_ratio = 0.85,colab=False) # создаем обучающий/проверочный наборы\n",
        "print(x_train.shape, y_train.shape)\n",
        "print(x_test.shape, y_test.shape)"
      ],
      "execution_count": null,
      "outputs": []
    },
    {
      "cell_type": "code",
      "metadata": {
        "id": "RgDrGvFFhXIH"
      },
      "source": [
        "# Добавляем значение канала(=1) в размеры 'x' выборок\n",
        "#x_train = x_train.reshape(x_train.shape[0], x_train.shape[1], x_train.shape[2], channel)\n",
        "x_train = x_train[..., None]\n",
        "#x_test = x_test.reshape(x_test.shape[0], x_test.shape[1], x_test.shape[2], channel)\n",
        "x_test = x_test[..., None]\n",
        "\n",
        "y_train_hot = to_categorical(y_train) # представляем лейблы классов обучающего набора в виде one-hot вектора ((0, 1, 0) и т.п)\n",
        "y_test_hot = to_categorical(y_test) # представляем лейблы классов проверочного набора в виде one-hot вектора ((0, 1, 0) и т.п)"
      ],
      "execution_count": null,
      "outputs": []
    },
    {
      "cell_type": "code",
      "metadata": {
        "id": "A1DMDsfhhXII"
      },
      "source": [
        "x_train.shape"
      ],
      "execution_count": null,
      "outputs": []
    },
    {
      "cell_type": "code",
      "metadata": {
        "id": "WeK_eL8KhXII"
      },
      "source": [
        "idx = np.where(y_train==0)\n",
        "idx[0].shape"
      ],
      "execution_count": null,
      "outputs": []
    },
    {
      "cell_type": "code",
      "metadata": {
        "id": "1XiD7j-3hXIJ"
      },
      "source": [
        "idx = np.where(y_train==1)\n",
        "idx[0].shape"
      ],
      "execution_count": null,
      "outputs": []
    },
    {
      "cell_type": "code",
      "metadata": {
        "id": "sWG2H7OvhXIJ"
      },
      "source": [
        "idx = np.where(y_train==2)\n",
        "idx[0].shape"
      ],
      "execution_count": null,
      "outputs": []
    },
    {
      "cell_type": "code",
      "metadata": {
        "id": "fjIGiFRzhXIJ"
      },
      "source": [
        "idx = np.where(y_train==3)\n",
        "idx[0].shape"
      ],
      "execution_count": null,
      "outputs": []
    },
    {
      "cell_type": "markdown",
      "metadata": {
        "id": "e6-v6kvqiKa7"
      },
      "source": [
        "Обрезаем шумы для выравнивания наборов"
      ]
    },
    {
      "cell_type": "code",
      "metadata": {
        "id": "_BRP6cqGAMkM"
      },
      "source": [
        "x_train_nois = x_train[y_train==3]\n",
        "x_train = x_train[y_train!=3]\n",
        "x_train = np.vstack((x_train, x_train_nois[:3100]))"
      ],
      "execution_count": null,
      "outputs": []
    },
    {
      "cell_type": "code",
      "metadata": {
        "id": "TZnmCDIgBN58"
      },
      "source": [
        "y_train_nois = y_train_hot[y_train==3]\n",
        "y_train_hot = y_train_hot[y_train!=3]\n",
        "y_train_hot = np.vstack((y_train_hot, y_train_nois[:3100]))"
      ],
      "execution_count": null,
      "outputs": []
    },
    {
      "cell_type": "markdown",
      "metadata": {
        "id": "mjDs0LYMiPHB"
      },
      "source": [
        "вносим изменения в НС"
      ]
    },
    {
      "cell_type": "code",
      "metadata": {
        "id": "-E9bdWYNPAje"
      },
      "source": [
        "##########################\n",
        "# Объявим функцию создания модели нейросети\n",
        "##########################\n",
        "def get_model():\n",
        "  model = Sequential()\n",
        "  model.add(Conv2D(64, kernel_size=(2, 2), activation='relu', input_shape=(x_train.shape[1], x_train.shape[2], channel)))\n",
        "  model.add(Conv2D(32, kernel_size=(2, 2), activation='relu', input_shape=(x_train.shape[1], x_train.shape[2], channel)))\n",
        "  model.add(MaxPooling2D(pool_size=(2, 2))) # передаём на слой подвыборки, снижающий размерность поступивших на него данных \n",
        "  model.add(BatchNormalization()) # пропускаем через слой нормализации данных\n",
        "  model.add(Flatten()) # сплющиваем в одномерный вектор  \n",
        "  model.add(Dense(256, activation='relu')) # добавляем полносвязный слой размером в заданное кол-во нейронов\n",
        "  model.add(Dropout(0.5)) # добавляем слой регуляризации, \"выключая\" указанное количество нейронов, во избежание переобучения\n",
        "  model.add(BatchNormalization()) # пропускаем через слой нормализации данных\n",
        "  model.add(Dense(n_classes, activation='softmax')) # добавляем полносвязный слой с функцией активации softmax на выходном слое для 3 классов\n",
        "  model.compile(loss='categorical_crossentropy',\n",
        "                optimizer='Adam',\n",
        "                metrics=['accuracy']) # компилируем, составляем модель с алгоритмом оптимизации, функцией потерь и метрикой точности\n",
        "  return model"
      ],
      "execution_count": null,
      "outputs": []
    },
    {
      "cell_type": "code",
      "metadata": {
        "id": "VAjUZPjLPAjj"
      },
      "source": [
        "model = get_model() # создаем модель с помощью объявленной ранее функции"
      ],
      "execution_count": null,
      "outputs": []
    },
    {
      "cell_type": "code",
      "metadata": {
        "id": "1rrzLwPAPAjk"
      },
      "source": [
        "##########################\n",
        "# Запустим тренировку нейросети на полученных данных\n",
        "##########################\n",
        "\n",
        "# Загружаем модель данными с выбором параметров и сохраним историю обучения(ошибки/точность) для вывода графика\n",
        "history = model.fit(x_train, y_train_hot, batch_size=256, epochs=50, verbose=1, validation_data=(x_test, y_test_hot))\n",
        "\n",
        "# Построим график, отображающий точность предсказания на обучающей и проверочной выборке\n",
        "plt.plot(history.history['accuracy'], label='Доля верных ответов на обучающем наборе')\n",
        "plt.plot(history.history['val_accuracy'], label='Доля верных ответов на проверочном наборе')\n",
        "plt.xlabel('Эпоха обучения')\n",
        "plt.ylabel('Доля верных ответов')\n",
        "plt.legend()\n",
        "plt.show()"
      ],
      "execution_count": null,
      "outputs": []
    },
    {
      "cell_type": "code",
      "metadata": {
        "id": "g3VYj8pdPW9z"
      },
      "source": [
        ""
      ],
      "execution_count": null,
      "outputs": []
    },
    {
      "cell_type": "markdown",
      "metadata": {
        "id": "tsB_o_BqiTEl"
      },
      "source": [
        "## Проверяем на тестовых файлах с кондиционерами"
      ]
    },
    {
      "cell_type": "code",
      "metadata": {
        "id": "rpGvdu0IPXNy"
      },
      "source": [
        "wavfiles =  DATA_PATH_TEST + 'text_with_cond14.wav' # Получаем имя очередного файла\n",
        "y_org,sr = librosa.load(wavfiles)      \n",
        "ipd.display(ipd.Audio (y_org, rate = sr))\n",
        "print()\n",
        "#out, pred, _ = predict(wavfiles, model=model, min_count = 6, rate = 0.8, hole = 2)  # Вызываем predict для очередного файла  \n",
        "out, pred = predict(wavfiles, model=model, min_count = 10, rate = 0.9, hole = 2)                # Вызываем predict для очередного файла  \n",
        "color = ['y','g','b']\n",
        "if (len(out)==0):                                                                                   # Если длинна массива равна 0, то команда не распознана\n",
        "    print('Команда не распознанана!!!')\n",
        "else:\n",
        "  for elem in out[:1]: \n",
        "    print ('Распознана команда: \"', classes[elem[1]], '\" (вероятность - %.2f' % (elem[2][2]*100), '%)')  # Выводим название\n",
        "    ipd.display(ipd.Audio(elem[0], rate = 22050))\n",
        "    fig = plt.figure(figsize=(30,5))\n",
        "    ax = fig.add_subplot(111) \n",
        "    plt.plot(y_org)\n",
        "    ax.add_patch(Rectangle((441*elem[2][0], 1.), \n",
        "                            20000, -2, \n",
        "                              fc =color[elem[1]],  \n",
        "                              ec =color[elem[1]], \n",
        "                              fill=True,\n",
        "                              lw = 2,\n",
        "                              alpha=0.5) ) \n"
      ],
      "execution_count": null,
      "outputs": []
    },
    {
      "cell_type": "code",
      "metadata": {
        "id": "299l3OfiPXN1"
      },
      "source": [
        "wavfiles =  DATA_PATH_TEST + 'text_with_cond7.wav' # Получаем имя очередного файла\n",
        "y_org,sr = librosa.load(wavfiles)      \n",
        "ipd.display(ipd.Audio (y_org, rate = sr))\n",
        "print()\n",
        "#out, pred, _ = predict(wavfiles, model=model, min_count = 6, rate = 0.8, hole = 2)  # Вызываем predict для очередного файла  \n",
        "out, pred = predict(wavfiles, model=model, min_count = 10, rate = 0.9, hole = 2)                # Вызываем predict для очередного файла  \n",
        "color = ['y','g','b']\n",
        "if (len(out)==0):                                                                                   # Если длинна массива равна 0, то команда не распознана\n",
        "    print('Команда не распознанана!!!')\n",
        "else:\n",
        "  for elem in out[:1]: \n",
        "    print ('Распознана команда: \"', classes[elem[1]], '\" (вероятность - %.2f' % (elem[2][2]*100), '%)')  # Выводим название\n",
        "    ipd.display(ipd.Audio(elem[0], rate = 22050))\n",
        "    fig = plt.figure(figsize=(30,5))\n",
        "    ax = fig.add_subplot(111) \n",
        "    plt.plot(y_org)\n",
        "    ax.add_patch(Rectangle((441*elem[2][0], 1.), \n",
        "                            20000, -2, \n",
        "                              fc =color[elem[1]],  \n",
        "                              ec =color[elem[1]], \n",
        "                              fill=True,\n",
        "                              lw = 2,\n",
        "                              alpha=0.5) ) \n"
      ],
      "execution_count": null,
      "outputs": []
    },
    {
      "cell_type": "code",
      "metadata": {
        "id": "uxKK1w9cPXN3"
      },
      "source": [
        "wavfiles =  '/content/drive/MyDrive/Colab Notebooks/33 Голосовые команды/тест/text_with_cond4.wav' # Получаем имя очередного файла\n",
        "y_org,sr = librosa.load(wavfiles)      \n",
        "ipd.display(ipd.Audio (y_org, rate = sr))\n",
        "print()\n",
        "#out, pred, _ = predict(wavfiles, model=model, min_count = 6, rate = 0.8, hole = 2)  # Вызываем predict для очередного файла  \n",
        "out, pred = predict(wavfiles, model=model, min_count = 10, rate = 0.9, hole = 2)                # Вызываем predict для очередного файла  \n",
        "color = ['y','g','b']\n",
        "if (len(out)==0):                                                                                   # Если длинна массива равна 0, то команда не распознана\n",
        "    print('Команда не распознанана!!!')\n",
        "else:\n",
        "  for elem in out[:1]: \n",
        "    print ('Распознана команда: \"', classes[elem[1]], '\" (вероятность - %.2f' % (elem[2][2]*100), '%)')  # Выводим название\n",
        "    ipd.display(ipd.Audio(elem[0], rate = 22050))\n",
        "    fig = plt.figure(figsize=(30,5))\n",
        "    ax = fig.add_subplot(111) \n",
        "    plt.plot(y_org)\n",
        "    ax.add_patch(Rectangle((441*elem[2][0], 1.), \n",
        "                            20000, -2, \n",
        "                              fc =color[elem[1]],  \n",
        "                              ec =color[elem[1]], \n",
        "                              fill=True,\n",
        "                              lw = 2,\n",
        "                              alpha=0.5) ) \n"
      ],
      "execution_count": null,
      "outputs": []
    },
    {
      "cell_type": "code",
      "metadata": {
        "id": "CSPeO3GsPXN6"
      },
      "source": [
        "wavfiles =  '/content/drive/MyDrive/Colab Notebooks/33 Голосовые команды/тест/text_with_cond16.wav' # Получаем имя очередного файла\n",
        "y_org,sr = librosa.load(wavfiles)      \n",
        "ipd.display(ipd.Audio (y_org, rate = sr))\n",
        "print()\n",
        "#out, pred, _ = predict(wavfiles, model=model, min_count = 6, rate = 0.8, hole = 2)  # Вызываем predict для очередного файла  \n",
        "out, pred = predict(wavfiles, model=model, min_count = 10, rate = 0.9, hole = 2)                # Вызываем predict для очередного файла  \n",
        "color = ['y','g','b']\n",
        "if (len(out)==0):                                                                                   # Если длинна массива равна 0, то команда не распознана\n",
        "    print('Команда не распознанана!!!')\n",
        "else:\n",
        "  for elem in out[:1]: \n",
        "    print ('Распознана команда: \"', classes[elem[1]], '\" (вероятность - %.2f' % (elem[2][2]*100), '%)')  # Выводим название\n",
        "    ipd.display(ipd.Audio(elem[0], rate = 22050))\n",
        "    fig = plt.figure(figsize=(30,5))\n",
        "    ax = fig.add_subplot(111) \n",
        "    plt.plot(y_org)\n",
        "    ax.add_patch(Rectangle((441*elem[2][0], 1.), \n",
        "                            20000, -2, \n",
        "                              fc =color[elem[1]],  \n",
        "                              ec =color[elem[1]], \n",
        "                              fill=True,\n",
        "                              lw = 2,\n",
        "                              alpha=0.5) ) \n"
      ],
      "execution_count": null,
      "outputs": []
    },
    {
      "cell_type": "code",
      "metadata": {
        "id": "hq-dsmaIPXN9"
      },
      "source": [
        "wavfiles =  '/content/drive/MyDrive/Colab Notebooks/33 Голосовые команды/тест/text_with_cond10.wav' # Получаем имя очередного файла\n",
        "y_org,sr = librosa.load(wavfiles)      \n",
        "ipd.display(ipd.Audio (y_org, rate = sr))\n",
        "print()\n",
        "#out, pred, _ = predict(wavfiles, model=model, min_count = 6, rate = 0.8, hole = 2)  # Вызываем predict для очередного файла  \n",
        "out, pred = predict(wavfiles, model=model, min_count = 10, rate = 0.9, hole = 2)                # Вызываем predict для очередного файла  \n",
        "color = ['y','g','b']\n",
        "if (len(out)==0):                                                                                   # Если длинна массива равна 0, то команда не распознана\n",
        "    print('Команда не распознанана!!!')\n",
        "else:\n",
        "  for elem in out[:1]: \n",
        "    print ('Распознана команда: \"', classes[elem[1]], '\" (вероятность - %.2f' % (elem[2][2]*100), '%)')  # Выводим название\n",
        "    ipd.display(ipd.Audio(elem[0], rate = 22050))\n",
        "    fig = plt.figure(figsize=(30,5))\n",
        "    ax = fig.add_subplot(111) \n",
        "    plt.plot(y_org)\n",
        "    ax.add_patch(Rectangle((441*elem[2][0], 1.), \n",
        "                            20000, -2, \n",
        "                              fc =color[elem[1]],  \n",
        "                              ec =color[elem[1]], \n",
        "                              fill=True,\n",
        "                              lw = 2,\n",
        "                              alpha=0.5) ) \n"
      ],
      "execution_count": null,
      "outputs": []
    },
    {
      "cell_type": "markdown",
      "metadata": {
        "id": "2t1qd5mzia_e"
      },
      "source": [
        "## Проверяем на тестовых файлах с телевизором"
      ]
    },
    {
      "cell_type": "code",
      "metadata": {
        "id": "K6rPDTojPXOA"
      },
      "source": [
        "wavfiles =  DATA_PATH_TEST + 'text_with_televizor'+str(12)+'.wav' # Получаем имя очередного файла\n",
        "y_org,sr = librosa.load(wavfiles)      \n",
        "ipd.display(ipd.Audio (y_org, rate = sr))\n",
        "print()\n",
        "#out, pred, _ = predict(wavfiles, model=model, min_count = 6, rate = 0.8, hole = 2)  # Вызываем predict для очередного файла  \n",
        "out, pred = predict(wavfiles, model=model, min_count = 10, rate = 0.9, hole = 2)                # Вызываем predict для очередного файла  \n",
        "color = ['y','g','b']\n",
        "if (len(out)==0):                                                                                   # Если длинна массива равна 0, то команда не распознана\n",
        "    print('Команда не распознанана!!!')\n",
        "else:\n",
        "  for elem in out[:1]: \n",
        "    print ('Распознана команда: \"', classes[elem[1]], '\" (вероятность - %.2f' % (elem[2][2]*100), '%)')  # Выводим название\n",
        "    ipd.display(ipd.Audio(elem[0], rate = 22050))\n",
        "    fig = plt.figure(figsize=(30,5))\n",
        "    ax = fig.add_subplot(111) \n",
        "    plt.plot(y_org)\n",
        "    ax.add_patch(Rectangle((441*elem[2][0], 1.), \n",
        "                            20000, -2, \n",
        "                              fc =color[elem[1]],  \n",
        "                              ec =color[elem[1]], \n",
        "                              fill=True,\n",
        "                              lw = 2,\n",
        "                              alpha=0.5) ) "
      ],
      "execution_count": null,
      "outputs": []
    },
    {
      "cell_type": "code",
      "metadata": {
        "id": "CnrRvqGWPXOD"
      },
      "source": [
        "wavfiles =  DATA_PATH_TEST + 'text_with_televizor'+str(1)+'.wav' # Получаем имя очередного файла\n",
        "y_org,sr = librosa.load(wavfiles)      \n",
        "ipd.display(ipd.Audio (y_org, rate = sr))\n",
        "print()\n",
        "#out, pred, _ = predict(wavfiles, model=model, min_count = 6, rate = 0.8, hole = 2)  # Вызываем predict для очередного файла  \n",
        "out, pred = predict(wavfiles, model=model, min_count = 10, rate = 0.9, hole = 2)                # Вызываем predict для очередного файла  \n",
        "color = ['y','g','b']\n",
        "if (len(out)==0):                                                                                   # Если длинна массива равна 0, то команда не распознана\n",
        "    print('Команда не распознанана!!!')\n",
        "else:\n",
        "  for elem in out[:1]: \n",
        "    print ('Распознана команда: \"', classes[elem[1]], '\" (вероятность - %.2f' % (elem[2][2]*100), '%)')  # Выводим название\n",
        "    ipd.display(ipd.Audio(elem[0], rate = 22050))\n",
        "    fig = plt.figure(figsize=(30,5))\n",
        "    ax = fig.add_subplot(111) \n",
        "    plt.plot(y_org)\n",
        "    ax.add_patch(Rectangle((441*elem[2][0], 1.), \n",
        "                            20000, -2, \n",
        "                              fc =color[elem[1]],  \n",
        "                              ec =color[elem[1]], \n",
        "                              fill=True,\n",
        "                              lw = 2,\n",
        "                              alpha=0.5) ) "
      ],
      "execution_count": null,
      "outputs": []
    },
    {
      "cell_type": "code",
      "metadata": {
        "id": "7uzQ8bM6PXOF"
      },
      "source": [
        "wavfiles =  DATA_PATH_TEST + 'text_with_televizor'+str(2)+'.wav' # Получаем имя очередного файла\n",
        "y_org,sr = librosa.load(wavfiles)      \n",
        "ipd.display(ipd.Audio (y_org, rate = sr))\n",
        "print()\n",
        "#out, pred, _ = predict(wavfiles, model=model, min_count = 6, rate = 0.8, hole = 2)  # Вызываем predict для очередного файла  \n",
        "out, pred = predict(wavfiles, model=model, min_count = 10, rate = 0.9, hole = 2)                # Вызываем predict для очередного файла  \n",
        "color = ['y','g','b']\n",
        "if (len(out)==0):                                                                                   # Если длинна массива равна 0, то команда не распознана\n",
        "    print('Команда не распознанана!!!')\n",
        "else:\n",
        "  for elem in out[:1]: \n",
        "    print ('Распознана команда: \"', classes[elem[1]], '\" (вероятность - %.2f' % (elem[2][2]*100), '%)')  # Выводим название\n",
        "    ipd.display(ipd.Audio(elem[0], rate = 22050))\n",
        "    fig = plt.figure(figsize=(30,5))\n",
        "    ax = fig.add_subplot(111) \n",
        "    plt.plot(y_org)\n",
        "    ax.add_patch(Rectangle((441*elem[2][0], 1.), \n",
        "                            20000, -2, \n",
        "                              fc =color[elem[1]],  \n",
        "                              ec =color[elem[1]], \n",
        "                              fill=True,\n",
        "                              lw = 2,\n",
        "                              alpha=0.5) ) "
      ],
      "execution_count": null,
      "outputs": []
    },
    {
      "cell_type": "code",
      "metadata": {
        "id": "VYhcmGdIPXOH"
      },
      "source": [
        "wavfiles =  DATA_PATH_TEST + 'text_with_televizor'+str(3)+'.wav' # Получаем имя очередного файла\n",
        "y_org,sr = librosa.load(wavfiles)      \n",
        "ipd.display(ipd.Audio (y_org, rate = sr))\n",
        "print()\n",
        "#out, pred, _ = predict(wavfiles, model=model, min_count = 6, rate = 0.8, hole = 2)  # Вызываем predict для очередного файла  \n",
        "out, pred = predict(wavfiles, model=model, min_count = 10, rate = 0.9, hole = 2)                # Вызываем predict для очередного файла  \n",
        "color = ['y','g','b']\n",
        "if (len(out)==0):                                                                                   # Если длинна массива равна 0, то команда не распознана\n",
        "    print('Команда не распознанана!!!')\n",
        "else:\n",
        "  for elem in out[:1]: \n",
        "    print ('Распознана команда: \"', classes[elem[1]], '\" (вероятность - %.2f' % (elem[2][2]*100), '%)')  # Выводим название\n",
        "    ipd.display(ipd.Audio(elem[0], rate = 22050))\n",
        "    fig = plt.figure(figsize=(30,5))\n",
        "    ax = fig.add_subplot(111) \n",
        "    plt.plot(y_org)\n",
        "    ax.add_patch(Rectangle((441*elem[2][0], 1.), \n",
        "                            20000, -2, \n",
        "                              fc =color[elem[1]],  \n",
        "                              ec =color[elem[1]], \n",
        "                              fill=True,\n",
        "                              lw = 2,\n",
        "                              alpha=0.5) ) "
      ],
      "execution_count": null,
      "outputs": []
    },
    {
      "cell_type": "code",
      "metadata": {
        "id": "vI1N35UoPXOL"
      },
      "source": [
        "wavfiles =  DATA_PATH_TEST + 'text_with_televizor'+str(4)+'.wav' # Получаем имя очередного файла\n",
        "y_org,sr = librosa.load(wavfiles)      \n",
        "ipd.display(ipd.Audio (y_org, rate = sr))\n",
        "print()\n",
        "#out, pred, _ = predict(wavfiles, model=model, min_count = 6, rate = 0.8, hole = 2)  # Вызываем predict для очередного файла  \n",
        "out, pred = predict(wavfiles, model=model, min_count = 10, rate = 0.9, hole = 2)                # Вызываем predict для очередного файла  \n",
        "color = ['y','g','b']\n",
        "if (len(out)==0):                                                                                   # Если длинна массива равна 0, то команда не распознана\n",
        "    print('Команда не распознанана!!!')\n",
        "else:\n",
        "  for elem in out[:1]: \n",
        "    print ('Распознана команда: \"', classes[elem[1]], '\" (вероятность - %.2f' % (elem[2][2]*100), '%)')  # Выводим название\n",
        "    ipd.display(ipd.Audio(elem[0], rate = 22050))\n",
        "    fig = plt.figure(figsize=(30,5))\n",
        "    ax = fig.add_subplot(111) \n",
        "    plt.plot(y_org)\n",
        "    ax.add_patch(Rectangle((441*elem[2][0], 1.), \n",
        "                            20000, -2, \n",
        "                              fc =color[elem[1]],  \n",
        "                              ec =color[elem[1]], \n",
        "                              fill=True,\n",
        "                              lw = 2,\n",
        "                              alpha=0.5) ) "
      ],
      "execution_count": null,
      "outputs": []
    },
    {
      "cell_type": "code",
      "metadata": {
        "id": "RtPNw_dXPXOO"
      },
      "source": [
        "wavfiles =  DATA_PATH_TEST + 'text_with_televizor'+str(5)+'.wav' # Получаем имя очередного файла\n",
        "y_org,sr = librosa.load(wavfiles)      \n",
        "ipd.display(ipd.Audio (y_org, rate = sr))\n",
        "print()\n",
        "#out, pred, _ = predict(wavfiles, model=model, min_count = 6, rate = 0.8, hole = 2)  # Вызываем predict для очередного файла  \n",
        "out, pred = predict(wavfiles, model=model, min_count = 10, rate = 0.9, hole = 2)                # Вызываем predict для очередного файла  \n",
        "color = ['y','g','b']\n",
        "if (len(out)==0):                                                                                   # Если длинна массива равна 0, то команда не распознана\n",
        "    print('Команда не распознанана!!!')\n",
        "else:\n",
        "  for elem in out[:1]: \n",
        "    print ('Распознана команда: \"', classes[elem[1]], '\" (вероятность - %.2f' % (elem[2][2]*100), '%)')  # Выводим название\n",
        "    ipd.display(ipd.Audio(elem[0], rate = 22050))\n",
        "    fig = plt.figure(figsize=(30,5))\n",
        "    ax = fig.add_subplot(111) \n",
        "    plt.plot(y_org)\n",
        "    ax.add_patch(Rectangle((441*elem[2][0], 1.), \n",
        "                            20000, -2, \n",
        "                              fc =color[elem[1]],  \n",
        "                              ec =color[elem[1]], \n",
        "                              fill=True,\n",
        "                              lw = 2,\n",
        "                              alpha=0.5) ) "
      ],
      "execution_count": null,
      "outputs": []
    },
    {
      "cell_type": "code",
      "metadata": {
        "id": "HwYF8eKMPXOR"
      },
      "source": [
        "wavfiles =  DATA_PATH_TEST + 'text_with_televizor'+str(6)+'.wav' # Получаем имя очередного файла\n",
        "y_org,sr = librosa.load(wavfiles)      \n",
        "ipd.display(ipd.Audio (y_org, rate = sr))\n",
        "print()\n",
        "#out, pred, _ = predict(wavfiles, model=model, min_count = 6, rate = 0.8, hole = 2)  # Вызываем predict для очередного файла  \n",
        "out, pred = predict(wavfiles, model=model, min_count = 10, rate = 0.9, hole = 2)                # Вызываем predict для очередного файла  \n",
        "color = ['y','g','b']\n",
        "if (len(out)==0):                                                                                   # Если длинна массива равна 0, то команда не распознана\n",
        "    print('Команда не распознанана!!!')\n",
        "else:\n",
        "  for elem in out[:1]: \n",
        "    print ('Распознана команда: \"', classes[elem[1]], '\" (вероятность - %.2f' % (elem[2][2]*100), '%)')  # Выводим название\n",
        "    ipd.display(ipd.Audio(elem[0], rate = 22050))\n",
        "    fig = plt.figure(figsize=(30,5))\n",
        "    ax = fig.add_subplot(111) \n",
        "    plt.plot(y_org)\n",
        "    ax.add_patch(Rectangle((441*elem[2][0], 1.), \n",
        "                            20000, -2, \n",
        "                              fc =color[elem[1]],  \n",
        "                              ec =color[elem[1]], \n",
        "                              fill=True,\n",
        "                              lw = 2,\n",
        "                              alpha=0.5) ) "
      ],
      "execution_count": null,
      "outputs": []
    },
    {
      "cell_type": "markdown",
      "metadata": {
        "id": "gAjEqJEyikd7"
      },
      "source": [
        "## Проверяем на тестовых данных со светом"
      ]
    },
    {
      "cell_type": "code",
      "metadata": {
        "id": "5Z5jHXGjPXOU"
      },
      "source": [
        "# Уменьшим параметр rate до 0.75\n",
        "wavfiles =  DATA_PATH_TEST + 'text_with_svet'+str(12)+'.wav' # Получаем имя очередного файла\n",
        "y_org,sr = librosa.load(wavfiles)      \n",
        "ipd.display(ipd.Audio (y_org, rate = sr))\n",
        "print()\n",
        "#out, pred, _ = predict(wavfiles, model=model, min_count = 6, rate = 0.8, hole = 2)  # Вызываем predict для очередного файла  \n",
        "out, pred = predict(wavfiles, model=model, min_count = 10, rate = 0.9, hole = 2)                # Вызываем predict для очередного файла  \n",
        "color = ['y','g','b']\n",
        "if (len(out)==0):                                                                                   # Если длинна массива равна 0, то команда не распознана\n",
        "    print('Команда не распознанана!!!')\n",
        "else:\n",
        "  for elem in out[:1]: \n",
        "    print ('Распознана команда: \"', classes[elem[1]], '\" (вероятность - %.2f' % (elem[2][2]*100), '%)')  # Выводим название\n",
        "    ipd.display(ipd.Audio(elem[0], rate = 22050))\n",
        "    fig = plt.figure(figsize=(30,5))\n",
        "    ax = fig.add_subplot(111) \n",
        "    plt.plot(y_org)\n",
        "    ax.add_patch(Rectangle((441*elem[2][0], 1.), \n",
        "                            20000, -2, \n",
        "                              fc =color[elem[1]],  \n",
        "                              ec =color[elem[1]], \n",
        "                              fill=True,\n",
        "                              lw = 2,\n",
        "                              alpha=0.5) ) "
      ],
      "execution_count": null,
      "outputs": []
    },
    {
      "cell_type": "code",
      "metadata": {
        "id": "Gszit74aPXOV"
      },
      "source": [
        "# Уменьшим параметр rate до 0.75\n",
        "wavfiles =  DATA_PATH_TEST + 'text_with_svet'+str(1)+'.wav' # Получаем имя очередного файла\n",
        "y_org,sr = librosa.load(wavfiles)      \n",
        "ipd.display(ipd.Audio (y_org, rate = sr))\n",
        "print()\n",
        "#out, pred, _ = predict(wavfiles, model=model, min_count = 6, rate = 0.8, hole = 2)  # Вызываем predict для очередного файла  \n",
        "out, pred = predict(wavfiles, model=model, min_count = 10, rate = 0.9, hole = 2)                # Вызываем predict для очередного файла  \n",
        "color = ['y','g','b']\n",
        "if (len(out)==0):                                                                                   # Если длинна массива равна 0, то команда не распознана\n",
        "    print('Команда не распознанана!!!')\n",
        "else:\n",
        "  for elem in out[:1]: \n",
        "    print ('Распознана команда: \"', classes[elem[1]], '\" (вероятность - %.2f' % (elem[2][2]*100), '%)')  # Выводим название\n",
        "    ipd.display(ipd.Audio(elem[0], rate = 22050))\n",
        "    fig = plt.figure(figsize=(30,5))\n",
        "    ax = fig.add_subplot(111) \n",
        "    plt.plot(y_org)\n",
        "    ax.add_patch(Rectangle((441*elem[2][0], 1.), \n",
        "                            20000, -2, \n",
        "                              fc =color[elem[1]],  \n",
        "                              ec =color[elem[1]], \n",
        "                              fill=True,\n",
        "                              lw = 2,\n",
        "                              alpha=0.5) ) "
      ],
      "execution_count": null,
      "outputs": []
    },
    {
      "cell_type": "code",
      "metadata": {
        "id": "vjvZmMvDPXOY"
      },
      "source": [
        "# Уменьшим параметр rate до 0.75\n",
        "wavfiles =  DATA_PATH_TEST + 'text_with_svet'+str(2)+'.wav' # Получаем имя очередного файла\n",
        "y_org,sr = librosa.load(wavfiles)      \n",
        "ipd.display(ipd.Audio (y_org, rate = sr))\n",
        "print()\n",
        "#out, pred, _ = predict(wavfiles, model=model, min_count = 6, rate = 0.8, hole = 2)  # Вызываем predict для очередного файла  \n",
        "out, pred = predict(wavfiles, model=model, min_count = 10, rate = 0.9, hole = 2)                # Вызываем predict для очередного файла  \n",
        "color = ['y','g','b']\n",
        "if (len(out)==0):                                                                                   # Если длинна массива равна 0, то команда не распознана\n",
        "    print('Команда не распознанана!!!')\n",
        "else:\n",
        "  for elem in out[:1]: \n",
        "    print ('Распознана команда: \"', classes[elem[1]], '\" (вероятность - %.2f' % (elem[2][2]*100), '%)')  # Выводим название\n",
        "    ipd.display(ipd.Audio(elem[0], rate = 22050))\n",
        "    fig = plt.figure(figsize=(30,5))\n",
        "    ax = fig.add_subplot(111) \n",
        "    plt.plot(y_org)\n",
        "    ax.add_patch(Rectangle((441*elem[2][0], 1.), \n",
        "                            20000, -2, \n",
        "                              fc =color[elem[1]],  \n",
        "                              ec =color[elem[1]], \n",
        "                              fill=True,\n",
        "                              lw = 2,\n",
        "                              alpha=0.5) ) "
      ],
      "execution_count": null,
      "outputs": []
    },
    {
      "cell_type": "markdown",
      "metadata": {
        "id": "A6c4VZ5Fg7yd"
      },
      "source": [
        ""
      ]
    }
  ]
}